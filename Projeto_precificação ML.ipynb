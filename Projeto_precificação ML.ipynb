{
 "cells": [
  {
   "cell_type": "code",
   "execution_count": 0,
   "metadata": {
    "application/vnd.databricks.v1+cell": {
     "cellMetadata": {
      "byteLimit": 2048000,
      "implicitDf": true,
      "rowLimit": 10000
     },
     "inputWidgets": {},
     "nuid": "d0f953b2-f7c6-4c1b-8f32-94fa30894019",
     "showTitle": false,
     "tableResultSettingsMap": {},
     "title": ""
    }
   },
   "outputs": [
    {
     "output_type": "display_data",
     "data": {
      "text/html": [
       "<style scoped>\n",
       "  .table-result-container {\n",
       "    max-height: 300px;\n",
       "    overflow: auto;\n",
       "  }\n",
       "  table, th, td {\n",
       "    border: 1px solid black;\n",
       "    border-collapse: collapse;\n",
       "  }\n",
       "  th, td {\n",
       "    padding: 5px;\n",
       "  }\n",
       "  th {\n",
       "    text-align: left;\n",
       "  }\n",
       "</style><div class='table-result-container'><table class='table-result'><thead style='background-color: white'><tr><th>Data</th><th>Produto</th><th>Preco_Atual</th><th>Demanda</th><th>Estoque</th><th>Concorrencia</th><th>Sazonalidade</th></tr></thead><tbody><tr><td>2023-01-01</td><td>Camiseta Básica</td><td>49.9</td><td>180</td><td>1200</td><td>48.5</td><td>Baixa</td></tr><tr><td>2023-02-01</td><td>Camiseta Básica</td><td>51.5</td><td>160</td><td>1020</td><td>49.0</td><td>Baixa</td></tr><tr><td>2023-03-01</td><td>Camiseta Básica</td><td>50.0</td><td>220</td><td>800</td><td>50.5</td><td>Média</td></tr><tr><td>2023-04-01</td><td>Camiseta Básica</td><td>52.0</td><td>250</td><td>550</td><td>51.2</td><td>Média</td></tr><tr><td>2023-05-01</td><td>Camiseta Básica</td><td>50.5</td><td>210</td><td>340</td><td>49.8</td><td>Média</td></tr></tbody></table></div>"
      ]
     },
     "metadata": {
      "application/vnd.databricks.v1+output": {
       "addedWidgets": {},
       "aggData": [],
       "aggError": "",
       "aggOverflow": false,
       "aggSchema": [],
       "aggSeriesLimitReached": false,
       "aggType": "",
       "arguments": {},
       "columnCustomDisplayInfos": {},
       "data": [
        [
         "2023-01-01",
         "Camiseta Básica",
         49.9,
         180,
         1200,
         48.5,
         "Baixa"
        ],
        [
         "2023-02-01",
         "Camiseta Básica",
         51.5,
         160,
         1020,
         49.0,
         "Baixa"
        ],
        [
         "2023-03-01",
         "Camiseta Básica",
         50.0,
         220,
         800,
         50.5,
         "Média"
        ],
        [
         "2023-04-01",
         "Camiseta Básica",
         52.0,
         250,
         550,
         51.2,
         "Média"
        ],
        [
         "2023-05-01",
         "Camiseta Básica",
         50.5,
         210,
         340,
         49.8,
         "Média"
        ]
       ],
       "datasetInfos": [
        {
         "name": "_sqldf",
         "schema": {
          "fields": [
           {
            "metadata": {
             "__detected_date_formats": "yyyy-M-d"
            },
            "name": "Data",
            "nullable": true,
            "type": "date"
           },
           {
            "metadata": {},
            "name": "Produto",
            "nullable": true,
            "type": "string"
           },
           {
            "metadata": {},
            "name": "Preco_Atual",
            "nullable": true,
            "type": "double"
           },
           {
            "metadata": {},
            "name": "Demanda",
            "nullable": true,
            "type": "long"
           },
           {
            "metadata": {},
            "name": "Estoque",
            "nullable": true,
            "type": "long"
           },
           {
            "metadata": {},
            "name": "Concorrencia",
            "nullable": true,
            "type": "double"
           },
           {
            "metadata": {},
            "name": "Sazonalidade",
            "nullable": true,
            "type": "string"
           }
          ],
          "type": "struct"
         },
         "tableIdentifier": null,
         "typeStr": "pyspark.sql.connect.dataframe.DataFrame"
        }
       ],
       "dbfsResultPath": null,
       "isJsonSchema": true,
       "metadata": {
        "createTempViewForImplicitDf": true,
        "dataframeName": "_sqldf",
        "executionCount": 3
       },
       "overflow": false,
       "plotOptions": {
        "customPlotOptions": {},
        "displayType": "table",
        "pivotAggregation": null,
        "pivotColumns": null,
        "xColumns": null,
        "yColumns": null
       },
       "removedWidgets": [],
       "schema": [
        {
         "metadata": "{\"__detected_date_formats\": \"yyyy-M-d\"}",
         "name": "Data",
         "type": "\"date\""
        },
        {
         "metadata": "{}",
         "name": "Produto",
         "type": "\"string\""
        },
        {
         "metadata": "{}",
         "name": "Preco_Atual",
         "type": "\"double\""
        },
        {
         "metadata": "{}",
         "name": "Demanda",
         "type": "\"long\""
        },
        {
         "metadata": "{}",
         "name": "Estoque",
         "type": "\"long\""
        },
        {
         "metadata": "{}",
         "name": "Concorrencia",
         "type": "\"double\""
        },
        {
         "metadata": "{}",
         "name": "Sazonalidade",
         "type": "\"string\""
        }
       ],
       "type": "table"
      }
     },
     "output_type": "display_data"
    }
   ],
   "source": [
    "%sql\n",
    "SELECT * FROM precificacao.db_precificacao.base_precificacao LIMIT 5"
   ]
  },
  {
   "cell_type": "code",
   "execution_count": 0,
   "metadata": {
    "application/vnd.databricks.v1+cell": {
     "cellMetadata": {
      "byteLimit": 2048000,
      "implicitDf": true,
      "rowLimit": 10000
     },
     "inputWidgets": {},
     "nuid": "b1a3fbdd-900d-493e-a402-e5d952e0b566",
     "showTitle": false,
     "tableResultSettingsMap": {},
     "title": ""
    }
   },
   "outputs": [
    {
     "output_type": "display_data",
     "data": {
      "text/html": [
       "<style scoped>\n",
       "  .table-result-container {\n",
       "    max-height: 300px;\n",
       "    overflow: auto;\n",
       "  }\n",
       "  table, th, td {\n",
       "    border: 1px solid black;\n",
       "    border-collapse: collapse;\n",
       "  }\n",
       "  th, td {\n",
       "    padding: 5px;\n",
       "  }\n",
       "  th {\n",
       "    text-align: left;\n",
       "  }\n",
       "</style><div class='table-result-container'><table class='table-result'><thead style='background-color: white'><tr><th>total_registros</th><th>tipos_produtos</th><th>data_inicio</th><th>data_fim</th></tr></thead><tbody><tr><td>120</td><td>5</td><td>2023-01-01</td><td>2024-12-01</td></tr></tbody></table></div>"
      ]
     },
     "metadata": {
      "application/vnd.databricks.v1+output": {
       "addedWidgets": {},
       "aggData": [],
       "aggError": "",
       "aggOverflow": false,
       "aggSchema": [],
       "aggSeriesLimitReached": false,
       "aggType": "",
       "arguments": {},
       "columnCustomDisplayInfos": {},
       "data": [
        [
         120,
         5,
         "2023-01-01",
         "2024-12-01"
        ]
       ],
       "datasetInfos": [
        {
         "name": "_sqldf",
         "schema": {
          "fields": [
           {
            "metadata": {},
            "name": "total_registros",
            "nullable": false,
            "type": "long"
           },
           {
            "metadata": {},
            "name": "tipos_produtos",
            "nullable": false,
            "type": "long"
           },
           {
            "metadata": {},
            "name": "data_inicio",
            "nullable": true,
            "type": "date"
           },
           {
            "metadata": {},
            "name": "data_fim",
            "nullable": true,
            "type": "date"
           }
          ],
          "type": "struct"
         },
         "tableIdentifier": null,
         "typeStr": "pyspark.sql.connect.dataframe.DataFrame"
        }
       ],
       "dbfsResultPath": null,
       "isJsonSchema": true,
       "metadata": {
        "createTempViewForImplicitDf": true,
        "dataframeName": "_sqldf",
        "executionCount": 4
       },
       "overflow": false,
       "plotOptions": {
        "customPlotOptions": {},
        "displayType": "table",
        "pivotAggregation": null,
        "pivotColumns": null,
        "xColumns": null,
        "yColumns": null
       },
       "removedWidgets": [],
       "schema": [
        {
         "metadata": "{}",
         "name": "total_registros",
         "type": "\"long\""
        },
        {
         "metadata": "{}",
         "name": "tipos_produtos",
         "type": "\"long\""
        },
        {
         "metadata": "{}",
         "name": "data_inicio",
         "type": "\"date\""
        },
        {
         "metadata": "{}",
         "name": "data_fim",
         "type": "\"date\""
        }
       ],
       "type": "table"
      }
     },
     "output_type": "display_data"
    }
   ],
   "source": [
    "%sql\n",
    "SELECT \n",
    "  COUNT(*) as total_registros,\n",
    "  COUNT(DISTINCT Produto) as tipos_produtos,\n",
    "  MIN(Data) as data_inicio,\n",
    "  MAX(Data) as data_fim\n",
    "FROM precificacao.db_precificacao.base_precificacao"
   ]
  },
  {
   "cell_type": "code",
   "execution_count": 0,
   "metadata": {
    "application/vnd.databricks.v1+cell": {
     "cellMetadata": {
      "byteLimit": 2048000,
      "implicitDf": true,
      "rowLimit": 10000
     },
     "inputWidgets": {},
     "nuid": "83052d9e-3085-44c1-b67c-e9b7cf30c478",
     "showTitle": false,
     "tableResultSettingsMap": {},
     "title": ""
    }
   },
   "outputs": [
    {
     "output_type": "display_data",
     "data": {
      "text/html": [
       "<style scoped>\n",
       "  .table-result-container {\n",
       "    max-height: 300px;\n",
       "    overflow: auto;\n",
       "  }\n",
       "  table, th, td {\n",
       "    border: 1px solid black;\n",
       "    border-collapse: collapse;\n",
       "  }\n",
       "  th, td {\n",
       "    padding: 5px;\n",
       "  }\n",
       "  th {\n",
       "    text-align: left;\n",
       "  }\n",
       "</style><div class='table-result-container'><table class='table-result'><thead style='background-color: white'><tr><th>Produto</th><th>registros</th><th>preco_medio</th><th>demanda_media</th><th>concorrencia_media</th></tr></thead><tbody><tr><td>Moletom com Capuz</td><td>24</td><td>129.99583333333334</td><td>272.0833333333333</td><td>128.4375</td></tr><tr><td>Tênis Esportivo</td><td>24</td><td>283.70416666666665</td><td>172.91666666666666</td><td>281.9166666666667</td></tr><tr><td>Calça Jeans</td><td>24</td><td>158.47083333333333</td><td>189.16666666666666</td><td>158.0375</td></tr><tr><td>Camiseta Básica</td><td>24</td><td>54.387499999999996</td><td>333.75</td><td>53.46666666666666</td></tr><tr><td>Boné de Aba Reta</td><td>24</td><td>48.49166666666667</td><td>277.9166666666667</td><td>48.09583333333333</td></tr></tbody></table></div>"
      ]
     },
     "metadata": {
      "application/vnd.databricks.v1+output": {
       "addedWidgets": {},
       "aggData": [],
       "aggError": "",
       "aggOverflow": false,
       "aggSchema": [],
       "aggSeriesLimitReached": false,
       "aggType": "",
       "arguments": {},
       "columnCustomDisplayInfos": {},
       "data": [
        [
         "Moletom com Capuz",
         24,
         129.99583333333334,
         272.0833333333333,
         128.4375
        ],
        [
         "Tênis Esportivo",
         24,
         283.70416666666665,
         172.91666666666666,
         281.9166666666667
        ],
        [
         "Calça Jeans",
         24,
         158.47083333333333,
         189.16666666666666,
         158.0375
        ],
        [
         "Camiseta Básica",
         24,
         54.387499999999996,
         333.75,
         53.46666666666666
        ],
        [
         "Boné de Aba Reta",
         24,
         48.49166666666667,
         277.9166666666667,
         48.09583333333333
        ]
       ],
       "datasetInfos": [
        {
         "name": "_sqldf",
         "schema": {
          "fields": [
           {
            "metadata": {},
            "name": "Produto",
            "nullable": true,
            "type": "string"
           },
           {
            "metadata": {},
            "name": "registros",
            "nullable": false,
            "type": "long"
           },
           {
            "metadata": {},
            "name": "preco_medio",
            "nullable": true,
            "type": "double"
           },
           {
            "metadata": {},
            "name": "demanda_media",
            "nullable": true,
            "type": "double"
           },
           {
            "metadata": {},
            "name": "concorrencia_media",
            "nullable": true,
            "type": "double"
           }
          ],
          "type": "struct"
         },
         "tableIdentifier": null,
         "typeStr": "pyspark.sql.connect.dataframe.DataFrame"
        }
       ],
       "dbfsResultPath": null,
       "isJsonSchema": true,
       "metadata": {
        "createTempViewForImplicitDf": true,
        "dataframeName": "_sqldf",
        "executionCount": 5
       },
       "overflow": false,
       "plotOptions": {
        "customPlotOptions": {},
        "displayType": "table",
        "pivotAggregation": null,
        "pivotColumns": null,
        "xColumns": null,
        "yColumns": null
       },
       "removedWidgets": [],
       "schema": [
        {
         "metadata": "{}",
         "name": "Produto",
         "type": "\"string\""
        },
        {
         "metadata": "{}",
         "name": "registros",
         "type": "\"long\""
        },
        {
         "metadata": "{}",
         "name": "preco_medio",
         "type": "\"double\""
        },
        {
         "metadata": "{}",
         "name": "demanda_media",
         "type": "\"double\""
        },
        {
         "metadata": "{}",
         "name": "concorrencia_media",
         "type": "\"double\""
        }
       ],
       "type": "table"
      }
     },
     "output_type": "display_data"
    }
   ],
   "source": [
    "%sql\n",
    "SELECT \n",
    "  Produto,\n",
    "  COUNT(*) as registros,\n",
    "  AVG(Preco_Atual) as preco_medio,\n",
    "  AVG(Demanda) as demanda_media,\n",
    "  AVG(Concorrencia) as concorrencia_media\n",
    "FROM precificacao.db_precificacao.base_precificacao\n",
    "GROUP BY Produto"
   ]
  },
  {
   "cell_type": "code",
   "execution_count": 0,
   "metadata": {
    "application/vnd.databricks.v1+cell": {
     "cellMetadata": {
      "byteLimit": 2048000,
      "implicitDf": true,
      "rowLimit": 10000
     },
     "inputWidgets": {},
     "nuid": "d0925b02-5d72-4209-9668-8920f3386607",
     "showTitle": false,
     "tableResultSettingsMap": {},
     "title": ""
    }
   },
   "outputs": [
    {
     "output_type": "display_data",
     "data": {
      "text/html": [
       "<style scoped>\n",
       "  .table-result-container {\n",
       "    max-height: 300px;\n",
       "    overflow: auto;\n",
       "  }\n",
       "  table, th, td {\n",
       "    border: 1px solid black;\n",
       "    border-collapse: collapse;\n",
       "  }\n",
       "  th, td {\n",
       "    padding: 5px;\n",
       "  }\n",
       "  th {\n",
       "    text-align: left;\n",
       "  }\n",
       "</style><div class='table-result-container'><table class='table-result'><thead style='background-color: white'><tr><th>nulos_Data</th><th>nulos_Produto</th><th>nulos_Preco_Atual</th><th>nulos_Demanda</th><th>nulos_Estoque</th><th>nulos_Concorrencia</th><th>nulos_Sazonalidade</th></tr></thead><tbody><tr><td>0</td><td>0</td><td>0</td><td>0</td><td>0</td><td>0</td><td>0</td></tr></tbody></table></div>"
      ]
     },
     "metadata": {
      "application/vnd.databricks.v1+output": {
       "addedWidgets": {},
       "aggData": [],
       "aggError": "",
       "aggOverflow": false,
       "aggSchema": [],
       "aggSeriesLimitReached": false,
       "aggType": "",
       "arguments": {},
       "columnCustomDisplayInfos": {},
       "data": [
        [
         0,
         0,
         0,
         0,
         0,
         0,
         0
        ]
       ],
       "datasetInfos": [
        {
         "name": "_sqldf",
         "schema": {
          "fields": [
           {
            "metadata": {},
            "name": "nulos_Data",
            "nullable": false,
            "type": "long"
           },
           {
            "metadata": {},
            "name": "nulos_Produto",
            "nullable": false,
            "type": "long"
           },
           {
            "metadata": {},
            "name": "nulos_Preco_Atual",
            "nullable": false,
            "type": "long"
           },
           {
            "metadata": {},
            "name": "nulos_Demanda",
            "nullable": false,
            "type": "long"
           },
           {
            "metadata": {},
            "name": "nulos_Estoque",
            "nullable": false,
            "type": "long"
           },
           {
            "metadata": {},
            "name": "nulos_Concorrencia",
            "nullable": false,
            "type": "long"
           },
           {
            "metadata": {},
            "name": "nulos_Sazonalidade",
            "nullable": false,
            "type": "long"
           }
          ],
          "type": "struct"
         },
         "tableIdentifier": null,
         "typeStr": "pyspark.sql.connect.dataframe.DataFrame"
        }
       ],
       "dbfsResultPath": null,
       "isJsonSchema": true,
       "metadata": {
        "createTempViewForImplicitDf": true,
        "dataframeName": "_sqldf",
        "executionCount": 6
       },
       "overflow": false,
       "plotOptions": {
        "customPlotOptions": {},
        "displayType": "table",
        "pivotAggregation": null,
        "pivotColumns": null,
        "xColumns": null,
        "yColumns": null
       },
       "removedWidgets": [],
       "schema": [
        {
         "metadata": "{}",
         "name": "nulos_Data",
         "type": "\"long\""
        },
        {
         "metadata": "{}",
         "name": "nulos_Produto",
         "type": "\"long\""
        },
        {
         "metadata": "{}",
         "name": "nulos_Preco_Atual",
         "type": "\"long\""
        },
        {
         "metadata": "{}",
         "name": "nulos_Demanda",
         "type": "\"long\""
        },
        {
         "metadata": "{}",
         "name": "nulos_Estoque",
         "type": "\"long\""
        },
        {
         "metadata": "{}",
         "name": "nulos_Concorrencia",
         "type": "\"long\""
        },
        {
         "metadata": "{}",
         "name": "nulos_Sazonalidade",
         "type": "\"long\""
        }
       ],
       "type": "table"
      }
     },
     "output_type": "display_data"
    }
   ],
   "source": [
    "%sql\n",
    "SELECT\n",
    "  COUNT(*) - COUNT(Data) AS nulos_Data,\n",
    "  COUNT(*) - COUNT(Produto) AS nulos_Produto,\n",
    "  COUNT(*) - COUNT(Preco_Atual) AS nulos_Preco_Atual,\n",
    "  COUNT(*) - COUNT(Demanda) AS nulos_Demanda,\n",
    "  COUNT(*) - COUNT(Estoque) AS nulos_Estoque,\n",
    "  COUNT(*) - COUNT(Concorrencia) AS nulos_Concorrencia,\n",
    "  COUNT(*) - COUNT(Sazonalidade) AS nulos_Sazonalidade\n",
    "FROM precificacao.db_precificacao.base_precificacao;"
   ]
  },
  {
   "cell_type": "code",
   "execution_count": 0,
   "metadata": {
    "application/vnd.databricks.v1+cell": {
     "cellMetadata": {
      "byteLimit": 2048000,
      "implicitDf": true,
      "rowLimit": 10000
     },
     "inputWidgets": {},
     "nuid": "fa64e557-0062-467c-a4c4-b0c746221305",
     "showTitle": false,
     "tableResultSettingsMap": {},
     "title": ""
    }
   },
   "outputs": [
    {
     "output_type": "display_data",
     "data": {
      "text/html": [
       "<style scoped>\n",
       "  .table-result-container {\n",
       "    max-height: 300px;\n",
       "    overflow: auto;\n",
       "  }\n",
       "  table, th, td {\n",
       "    border: 1px solid black;\n",
       "    border-collapse: collapse;\n",
       "  }\n",
       "  th, td {\n",
       "    padding: 5px;\n",
       "  }\n",
       "  th {\n",
       "    text-align: left;\n",
       "  }\n",
       "</style><div class='table-result-container'><table class='table-result'><thead style='background-color: white'><tr><th>Data</th><th>Produto</th><th>Preco_Atual</th><th>Demanda</th><th>Estoque</th><th>Concorrencia</th><th>Sazonalidade</th></tr></thead><tbody></tbody></table></div>"
      ]
     },
     "metadata": {
      "application/vnd.databricks.v1+output": {
       "addedWidgets": {},
       "aggData": [],
       "aggError": "",
       "aggOverflow": false,
       "aggSchema": [],
       "aggSeriesLimitReached": false,
       "aggType": "",
       "arguments": {},
       "columnCustomDisplayInfos": {},
       "data": [],
       "datasetInfos": [
        {
         "name": "_sqldf",
         "schema": {
          "fields": [
           {
            "metadata": {
             "__detected_date_formats": "yyyy-M-d"
            },
            "name": "Data",
            "nullable": true,
            "type": "date"
           },
           {
            "metadata": {},
            "name": "Produto",
            "nullable": true,
            "type": "string"
           },
           {
            "metadata": {},
            "name": "Preco_Atual",
            "nullable": true,
            "type": "double"
           },
           {
            "metadata": {},
            "name": "Demanda",
            "nullable": true,
            "type": "long"
           },
           {
            "metadata": {},
            "name": "Estoque",
            "nullable": true,
            "type": "long"
           },
           {
            "metadata": {},
            "name": "Concorrencia",
            "nullable": true,
            "type": "double"
           },
           {
            "metadata": {},
            "name": "Sazonalidade",
            "nullable": true,
            "type": "string"
           }
          ],
          "type": "struct"
         },
         "tableIdentifier": null,
         "typeStr": "pyspark.sql.connect.dataframe.DataFrame"
        }
       ],
       "dbfsResultPath": null,
       "isJsonSchema": true,
       "metadata": {
        "createTempViewForImplicitDf": true,
        "dataframeName": "_sqldf",
        "executionCount": 7
       },
       "overflow": false,
       "plotOptions": {
        "customPlotOptions": {},
        "displayType": "table",
        "pivotAggregation": null,
        "pivotColumns": null,
        "xColumns": null,
        "yColumns": null
       },
       "removedWidgets": [],
       "schema": [
        {
         "metadata": "{\"__detected_date_formats\": \"yyyy-M-d\"}",
         "name": "Data",
         "type": "\"date\""
        },
        {
         "metadata": "{}",
         "name": "Produto",
         "type": "\"string\""
        },
        {
         "metadata": "{}",
         "name": "Preco_Atual",
         "type": "\"double\""
        },
        {
         "metadata": "{}",
         "name": "Demanda",
         "type": "\"long\""
        },
        {
         "metadata": "{}",
         "name": "Estoque",
         "type": "\"long\""
        },
        {
         "metadata": "{}",
         "name": "Concorrencia",
         "type": "\"double\""
        },
        {
         "metadata": "{}",
         "name": "Sazonalidade",
         "type": "\"string\""
        }
       ],
       "type": "table"
      }
     },
     "output_type": "display_data"
    }
   ],
   "source": [
    "%sql\n",
    "SELECT *\n",
    "FROM precificacao.db_precificacao.base_precificacao\n",
    "WHERE \n",
    "  Data IS NULL OR\n",
    "  Produto IS NULL OR\n",
    "  Preco_Atual IS NULL OR\n",
    "  Demanda IS NULL OR\n",
    "  Estoque IS NULL OR\n",
    "  Concorrencia IS NULL OR\n",
    "  Sazonalidade IS NULL;"
   ]
  },
  {
   "cell_type": "code",
   "execution_count": 0,
   "metadata": {
    "application/vnd.databricks.v1+cell": {
     "cellMetadata": {
      "byteLimit": 2048000,
      "implicitDf": true,
      "rowLimit": 10000
     },
     "inputWidgets": {},
     "nuid": "c435a29d-50e5-420a-ac1b-eba9f6d6f29b",
     "showTitle": false,
     "tableResultSettingsMap": {},
     "title": ""
    }
   },
   "outputs": [
    {
     "output_type": "display_data",
     "data": {
      "text/html": [
       "<style scoped>\n",
       "  .table-result-container {\n",
       "    max-height: 300px;\n",
       "    overflow: auto;\n",
       "  }\n",
       "  table, th, td {\n",
       "    border: 1px solid black;\n",
       "    border-collapse: collapse;\n",
       "  }\n",
       "  th, td {\n",
       "    padding: 5px;\n",
       "  }\n",
       "  th {\n",
       "    text-align: left;\n",
       "  }\n",
       "</style><div class='table-result-container'><table class='table-result'><thead style='background-color: white'><tr><th>Metrica</th><th>Contagem</th><th>Media</th><th>Desvio_Padrao</th><th>Minimo</th><th>Maximo</th><th>Mediana</th></tr></thead><tbody><tr><td>Preco_Atual</td><td>120</td><td>135.01</td><td>87.15</td><td>39.9</td><td>340.0</td><td>130.0</td></tr><tr><td>Demanda</td><td>120</td><td>249.17</td><td>130.35</td><td>75.0</td><td>650.0</td><td>220.0</td></tr><tr><td>Estoque</td><td>120</td><td>355.21</td><td>315.43</td><td>0.0</td><td>1200.0</td><td>345.0</td></tr><tr><td>Concorrencia</td><td>120</td><td>133.99</td><td>86.73</td><td>40.5</td><td>335.0</td><td>128.0</td></tr></tbody></table></div>"
      ]
     },
     "metadata": {
      "application/vnd.databricks.v1+output": {
       "addedWidgets": {},
       "aggData": [],
       "aggError": "",
       "aggOverflow": false,
       "aggSchema": [],
       "aggSeriesLimitReached": false,
       "aggType": "",
       "arguments": {},
       "columnCustomDisplayInfos": {},
       "data": [
        [
         "Preco_Atual",
         120,
         135.01,
         87.15,
         39.9,
         340.0,
         130.0
        ],
        [
         "Demanda",
         120,
         249.17,
         130.35,
         75.0,
         650.0,
         220.0
        ],
        [
         "Estoque",
         120,
         355.21,
         315.43,
         0.0,
         1200.0,
         345.0
        ],
        [
         "Concorrencia",
         120,
         133.99,
         86.73,
         40.5,
         335.0,
         128.0
        ]
       ],
       "datasetInfos": [
        {
         "name": "_sqldf",
         "schema": {
          "fields": [
           {
            "metadata": {},
            "name": "Metrica",
            "nullable": false,
            "type": "string"
           },
           {
            "metadata": {},
            "name": "Contagem",
            "nullable": false,
            "type": "long"
           },
           {
            "metadata": {},
            "name": "Media",
            "nullable": true,
            "type": "double"
           },
           {
            "metadata": {},
            "name": "Desvio_Padrao",
            "nullable": true,
            "type": "double"
           },
           {
            "metadata": {},
            "name": "Minimo",
            "nullable": true,
            "type": "double"
           },
           {
            "metadata": {},
            "name": "Maximo",
            "nullable": true,
            "type": "double"
           },
           {
            "metadata": {},
            "name": "Mediana",
            "nullable": true,
            "type": "double"
           }
          ],
          "type": "struct"
         },
         "tableIdentifier": null,
         "typeStr": "pyspark.sql.connect.dataframe.DataFrame"
        }
       ],
       "dbfsResultPath": null,
       "isJsonSchema": true,
       "metadata": {
        "createTempViewForImplicitDf": true,
        "dataframeName": "_sqldf",
        "executionCount": 8
       },
       "overflow": false,
       "plotOptions": {
        "customPlotOptions": {},
        "displayType": "table",
        "pivotAggregation": null,
        "pivotColumns": null,
        "xColumns": null,
        "yColumns": null
       },
       "removedWidgets": [],
       "schema": [
        {
         "metadata": "{}",
         "name": "Metrica",
         "type": "\"string\""
        },
        {
         "metadata": "{}",
         "name": "Contagem",
         "type": "\"long\""
        },
        {
         "metadata": "{}",
         "name": "Media",
         "type": "\"double\""
        },
        {
         "metadata": "{}",
         "name": "Desvio_Padrao",
         "type": "\"double\""
        },
        {
         "metadata": "{}",
         "name": "Minimo",
         "type": "\"double\""
        },
        {
         "metadata": "{}",
         "name": "Maximo",
         "type": "\"double\""
        },
        {
         "metadata": "{}",
         "name": "Mediana",
         "type": "\"double\""
        }
       ],
       "type": "table"
      }
     },
     "output_type": "display_data"
    }
   ],
   "source": [
    "%sql\n",
    "SELECT\n",
    "  'Preco_Atual' as Metrica,\n",
    "  COUNT(Preco_Atual) as Contagem,\n",
    "  ROUND(AVG(Preco_Atual), 2) as Media,\n",
    "  ROUND(STDDEV(Preco_Atual), 2) as Desvio_Padrao,\n",
    "  ROUND(MIN(Preco_Atual), 2) as Minimo,\n",
    "  ROUND(MAX(Preco_Atual), 2) as Maximo,\n",
    "  ROUND(PERCENTILE_CONT(0.5) WITHIN GROUP (ORDER BY Preco_Atual), 2) as Mediana\n",
    "FROM precificacao.db_precificacao.base_precificacao\n",
    "\n",
    "UNION ALL\n",
    "\n",
    "SELECT\n",
    "  'Demanda' as Metrica,\n",
    "  COUNT(Demanda),\n",
    "  ROUND(AVG(Demanda), 2),\n",
    "  ROUND(STDDEV(Demanda), 2),\n",
    "  ROUND(MIN(Demanda), 2),\n",
    "  ROUND(MAX(Demanda), 2),\n",
    "  ROUND(PERCENTILE_CONT(0.5) WITHIN GROUP (ORDER BY Demanda), 2)\n",
    "FROM precificacao.db_precificacao.base_precificacao\n",
    "\n",
    "UNION ALL\n",
    "\n",
    "SELECT\n",
    "  'Estoque' as Metrica,\n",
    "  COUNT(Estoque),\n",
    "  ROUND(AVG(Estoque), 2),\n",
    "  ROUND(STDDEV(Estoque), 2),\n",
    "  ROUND(MIN(Estoque), 2),\n",
    "  ROUND(MAX(Estoque), 2),\n",
    "  ROUND(PERCENTILE_CONT(0.5) WITHIN GROUP (ORDER BY Estoque), 2)\n",
    "FROM precificacao.db_precificacao.base_precificacao\n",
    "\n",
    "UNION ALL\n",
    "\n",
    "SELECT\n",
    "  'Concorrencia' as Metrica,\n",
    "  COUNT(Concorrencia),\n",
    "  ROUND(AVG(Concorrencia), 2),\n",
    "  ROUND(STDDEV(Concorrencia), 2),\n",
    "  ROUND(MIN(Concorrencia), 2),\n",
    "  ROUND(MAX(Concorrencia), 2),\n",
    "  ROUND(PERCENTILE_CONT(0.5) WITHIN GROUP (ORDER BY Concorrencia), 2)\n",
    "FROM precificacao.db_precificacao.base_precificacao;"
   ]
  },
  {
   "cell_type": "code",
   "execution_count": 0,
   "metadata": {
    "application/vnd.databricks.v1+cell": {
     "cellMetadata": {
      "byteLimit": 2048000,
      "implicitDf": true,
      "rowLimit": 10000
     },
     "inputWidgets": {},
     "nuid": "7faec55d-2c35-4171-8c94-461a19da3e8e",
     "showTitle": false,
     "tableResultSettingsMap": {},
     "title": ""
    }
   },
   "outputs": [
    {
     "output_type": "display_data",
     "data": {
      "text/html": [
       "<style scoped>\n",
       "  .table-result-container {\n",
       "    max-height: 300px;\n",
       "    overflow: auto;\n",
       "  }\n",
       "  table, th, td {\n",
       "    border: 1px solid black;\n",
       "    border-collapse: collapse;\n",
       "  }\n",
       "  th, td {\n",
       "    padding: 5px;\n",
       "  }\n",
       "  th {\n",
       "    text-align: left;\n",
       "  }\n",
       "</style><div class='table-result-container'><table class='table-result'><thead style='background-color: white'><tr><th>col_name</th><th>data_type</th><th>comment</th></tr></thead><tbody><tr><td>Data</td><td>date</td><td>null</td></tr><tr><td>Produto</td><td>string</td><td>null</td></tr><tr><td>Preco_Atual</td><td>double</td><td>null</td></tr><tr><td>Demanda</td><td>bigint</td><td>null</td></tr><tr><td>Estoque</td><td>bigint</td><td>null</td></tr><tr><td>Concorrencia</td><td>double</td><td>null</td></tr><tr><td>Sazonalidade</td><td>string</td><td>null</td></tr></tbody></table></div>"
      ]
     },
     "metadata": {
      "application/vnd.databricks.v1+output": {
       "addedWidgets": {},
       "aggData": [],
       "aggError": "",
       "aggOverflow": false,
       "aggSchema": [],
       "aggSeriesLimitReached": false,
       "aggType": "",
       "arguments": {},
       "columnCustomDisplayInfos": {},
       "data": [
        [
         "Data",
         "date",
         null
        ],
        [
         "Produto",
         "string",
         null
        ],
        [
         "Preco_Atual",
         "double",
         null
        ],
        [
         "Demanda",
         "bigint",
         null
        ],
        [
         "Estoque",
         "bigint",
         null
        ],
        [
         "Concorrencia",
         "double",
         null
        ],
        [
         "Sazonalidade",
         "string",
         null
        ]
       ],
       "datasetInfos": [
        {
         "name": "_sqldf",
         "schema": {
          "fields": [
           {
            "metadata": {},
            "name": "col_name",
            "nullable": false,
            "type": "string"
           },
           {
            "metadata": {},
            "name": "data_type",
            "nullable": false,
            "type": "string"
           },
           {
            "metadata": {},
            "name": "comment",
            "nullable": true,
            "type": "string"
           }
          ],
          "type": "struct"
         },
         "tableIdentifier": null,
         "typeStr": "pyspark.sql.connect.dataframe.DataFrame"
        }
       ],
       "dbfsResultPath": null,
       "isJsonSchema": true,
       "metadata": {
        "createTempViewForImplicitDf": true,
        "dataframeName": "_sqldf",
        "executionCount": 9
       },
       "overflow": false,
       "plotOptions": {
        "customPlotOptions": {},
        "displayType": "table",
        "pivotAggregation": null,
        "pivotColumns": null,
        "xColumns": null,
        "yColumns": null
       },
       "removedWidgets": [],
       "schema": [
        {
         "metadata": "{}",
         "name": "col_name",
         "type": "\"string\""
        },
        {
         "metadata": "{}",
         "name": "data_type",
         "type": "\"string\""
        },
        {
         "metadata": "{}",
         "name": "comment",
         "type": "\"string\""
        }
       ],
       "type": "table"
      }
     },
     "output_type": "display_data"
    }
   ],
   "source": [
    "%sql\n",
    "DESCRIBE precificacao.db_precificacao.base_precificacao"
   ]
  },
  {
   "cell_type": "code",
   "execution_count": 0,
   "metadata": {
    "application/vnd.databricks.v1+cell": {
     "cellMetadata": {
      "byteLimit": 2048000,
      "implicitDf": true,
      "rowLimit": 10000
     },
     "inputWidgets": {},
     "nuid": "7d45d48d-1c6c-4304-b816-7cfc4f1124bb",
     "showTitle": false,
     "tableResultSettingsMap": {},
     "title": ""
    }
   },
   "outputs": [],
   "source": [
    "%sql\n",
    "-- Criação da camada Silver como uma temporary view\n",
    "-- Isto permite trabalhar com os dados tratados sem criar uma nova tabela física\n",
    "\n",
    "CREATE OR REPLACE TEMPORARY VIEW base_precificacao_silver AS\n",
    "SELECT\n",
    "  Data,\n",
    "  CAST(YEAR(Data) AS INT) as ano,\n",
    "  CAST(MONTH(Data) AS INT) as mes,\n",
    "  Produto,\n",
    "  CAST(Preco_Atual AS DOUBLE) as preco_atual,\n",
    "  CAST(Demanda AS INT) as demanda,\n",
    "  CAST(Estoque AS INT) as estoque,\n",
    "  CAST(Concorrencia AS DOUBLE) as preco_concorrencia,\n",
    "  Sazonalidade,\n",
    "  -- Criação de flags úteis para análise\n",
    "  CASE WHEN Estoque < 100 THEN 1 ELSE 0 END as estoque_baixo,\n",
    "  CASE WHEN Demanda > 200 THEN 1 ELSE 0 END as demanda_alta,\n",
    "  -- Diferença entre nosso preço e concorrência\n",
    "  CAST((Preco_Atual - Concorrencia) AS DOUBLE) as diferenca_vs_concorrencia\n",
    "FROM precificacao.db_precificacao.base_precificacao\n",
    "-- Ordenando por produto e data para melhor visualização\n",
    "ORDER BY Produto, Data;"
   ]
  },
  {
   "cell_type": "code",
   "execution_count": 0,
   "metadata": {
    "application/vnd.databricks.v1+cell": {
     "cellMetadata": {
      "byteLimit": 2048000,
      "implicitDf": true,
      "rowLimit": 10000
     },
     "inputWidgets": {},
     "nuid": "3777cb48-661e-42db-956c-6db09b8f7772",
     "showTitle": false,
     "tableResultSettingsMap": {},
     "title": ""
    }
   },
   "outputs": [],
   "source": [
    "%sql\n",
    "-- Criação da camada Silver com data de carga\n",
    "CREATE OR REPLACE TEMPORARY VIEW base_precificacao_silver AS\n",
    "SELECT\n",
    "  Data,\n",
    "  CAST(YEAR(Data) AS INT) as ano,\n",
    "  CAST(MONTH(Data) AS INT) as mes,\n",
    "  Produto,\n",
    "  CAST(Preco_Atual AS DOUBLE) as preco_atual,\n",
    "  CAST(Demanda AS INT) as demanda,\n",
    "  CAST(Estoque AS INT) as estoque,\n",
    "  CAST(Concorrencia AS DOUBLE) as preco_concorrencia,\n",
    "  Sazonalidade,\n",
    "  -- Criação de flags úteis para análise\n",
    "  CASE WHEN Estoque < 100 THEN 1 ELSE 0 END as estoque_baixo,\n",
    "  CASE WHEN Demanda > 200 THEN 1 ELSE 0 END as demanda_alta,\n",
    "  -- Diferença entre nosso preço e concorrência\n",
    "  CAST((Preco_Atual - Concorrencia) AS DOUBLE) as diferenca_vs_concorrencia,\n",
    "  -- Data e hora da carga (muito importante para rastreabilidade)\n",
    "  CURRENT_TIMESTAMP() as data_carga\n",
    "FROM precificacao.db_precificacao.base_precificacao\n",
    "ORDER BY Produto, Data;"
   ]
  },
  {
   "cell_type": "code",
   "execution_count": 0,
   "metadata": {
    "application/vnd.databricks.v1+cell": {
     "cellMetadata": {
      "byteLimit": 2048000,
      "implicitDf": true,
      "rowLimit": 10000
     },
     "inputWidgets": {},
     "nuid": "7d685503-f424-4ab3-9280-45eccfdf968c",
     "showTitle": false,
     "tableResultSettingsMap": {},
     "title": ""
    }
   },
   "outputs": [
    {
     "output_type": "display_data",
     "data": {
      "text/html": [
       "<style scoped>\n",
       "  .table-result-container {\n",
       "    max-height: 300px;\n",
       "    overflow: auto;\n",
       "  }\n",
       "  table, th, td {\n",
       "    border: 1px solid black;\n",
       "    border-collapse: collapse;\n",
       "  }\n",
       "  th, td {\n",
       "    padding: 5px;\n",
       "  }\n",
       "  th {\n",
       "    text-align: left;\n",
       "  }\n",
       "</style><div class='table-result-container'><table class='table-result'><thead style='background-color: white'><tr><th>Data</th><th>ano</th><th>mes</th><th>Produto</th><th>preco_atual</th><th>demanda</th><th>estoque</th><th>preco_concorrencia</th><th>Sazonalidade</th><th>estoque_baixo</th><th>demanda_alta</th><th>diferenca_vs_concorrencia</th><th>data_carga</th></tr></thead><tbody><tr><td>2023-01-01</td><td>2023</td><td>1</td><td>Boné de Aba Reta</td><td>39.9</td><td>150</td><td>700</td><td>42.0</td><td>Baixa</td><td>0</td><td>0</td><td>-2.1000000000000014</td><td>2025-09-05T18:25:24.944Z</td></tr><tr><td>2023-02-01</td><td>2023</td><td>2</td><td>Boné de Aba Reta</td><td>41.0</td><td>130</td><td>570</td><td>40.5</td><td>Baixa</td><td>0</td><td>0</td><td>0.5</td><td>2025-09-05T18:25:24.944Z</td></tr><tr><td>2023-03-01</td><td>2023</td><td>3</td><td>Boné de Aba Reta</td><td>43.0</td><td>180</td><td>390</td><td>42.5</td><td>Média</td><td>0</td><td>0</td><td>0.5</td><td>2025-09-05T18:25:24.944Z</td></tr><tr><td>2023-04-01</td><td>2023</td><td>4</td><td>Boné de Aba Reta</td><td>45.0</td><td>210</td><td>180</td><td>44.5</td><td>Média</td><td>0</td><td>1</td><td>0.5</td><td>2025-09-05T18:25:24.944Z</td></tr><tr><td>2023-05-01</td><td>2023</td><td>5</td><td>Boné de Aba Reta</td><td>44.0</td><td>190</td><td>900</td><td>43.8</td><td>Média</td><td>0</td><td>0</td><td>0.20000000000000284</td><td>2025-09-05T18:25:24.944Z</td></tr></tbody></table></div>"
      ]
     },
     "metadata": {
      "application/vnd.databricks.v1+output": {
       "addedWidgets": {},
       "aggData": [],
       "aggError": "",
       "aggOverflow": false,
       "aggSchema": [],
       "aggSeriesLimitReached": false,
       "aggType": "",
       "arguments": {},
       "columnCustomDisplayInfos": {},
       "data": [
        [
         "2023-01-01",
         2023,
         1,
         "Boné de Aba Reta",
         39.9,
         150,
         700,
         42.0,
         "Baixa",
         0,
         0,
         -2.1000000000000014,
         "2025-09-05T18:25:24.944Z"
        ],
        [
         "2023-02-01",
         2023,
         2,
         "Boné de Aba Reta",
         41.0,
         130,
         570,
         40.5,
         "Baixa",
         0,
         0,
         0.5,
         "2025-09-05T18:25:24.944Z"
        ],
        [
         "2023-03-01",
         2023,
         3,
         "Boné de Aba Reta",
         43.0,
         180,
         390,
         42.5,
         "Média",
         0,
         0,
         0.5,
         "2025-09-05T18:25:24.944Z"
        ],
        [
         "2023-04-01",
         2023,
         4,
         "Boné de Aba Reta",
         45.0,
         210,
         180,
         44.5,
         "Média",
         0,
         1,
         0.5,
         "2025-09-05T18:25:24.944Z"
        ],
        [
         "2023-05-01",
         2023,
         5,
         "Boné de Aba Reta",
         44.0,
         190,
         900,
         43.8,
         "Média",
         0,
         0,
         0.20000000000000284,
         "2025-09-05T18:25:24.944Z"
        ]
       ],
       "datasetInfos": [
        {
         "name": "_sqldf",
         "schema": {
          "fields": [
           {
            "metadata": {
             "__detected_date_formats": "yyyy-M-d"
            },
            "name": "Data",
            "nullable": true,
            "type": "date"
           },
           {
            "metadata": {},
            "name": "ano",
            "nullable": true,
            "type": "integer"
           },
           {
            "metadata": {},
            "name": "mes",
            "nullable": true,
            "type": "integer"
           },
           {
            "metadata": {},
            "name": "Produto",
            "nullable": true,
            "type": "string"
           },
           {
            "metadata": {},
            "name": "preco_atual",
            "nullable": true,
            "type": "double"
           },
           {
            "metadata": {},
            "name": "demanda",
            "nullable": true,
            "type": "integer"
           },
           {
            "metadata": {},
            "name": "estoque",
            "nullable": true,
            "type": "integer"
           },
           {
            "metadata": {},
            "name": "preco_concorrencia",
            "nullable": true,
            "type": "double"
           },
           {
            "metadata": {},
            "name": "Sazonalidade",
            "nullable": true,
            "type": "string"
           },
           {
            "metadata": {},
            "name": "estoque_baixo",
            "nullable": false,
            "type": "integer"
           },
           {
            "metadata": {},
            "name": "demanda_alta",
            "nullable": false,
            "type": "integer"
           },
           {
            "metadata": {},
            "name": "diferenca_vs_concorrencia",
            "nullable": true,
            "type": "double"
           },
           {
            "metadata": {},
            "name": "data_carga",
            "nullable": false,
            "type": "timestamp"
           }
          ],
          "type": "struct"
         },
         "tableIdentifier": null,
         "typeStr": "pyspark.sql.connect.dataframe.DataFrame"
        }
       ],
       "dbfsResultPath": null,
       "isJsonSchema": true,
       "metadata": {
        "createTempViewForImplicitDf": true,
        "dataframeName": "_sqldf",
        "executionCount": 12
       },
       "overflow": false,
       "plotOptions": {
        "customPlotOptions": {},
        "displayType": "table",
        "pivotAggregation": null,
        "pivotColumns": null,
        "xColumns": null,
        "yColumns": null
       },
       "removedWidgets": [],
       "schema": [
        {
         "metadata": "{\"__detected_date_formats\": \"yyyy-M-d\"}",
         "name": "Data",
         "type": "\"date\""
        },
        {
         "metadata": "{}",
         "name": "ano",
         "type": "\"integer\""
        },
        {
         "metadata": "{}",
         "name": "mes",
         "type": "\"integer\""
        },
        {
         "metadata": "{}",
         "name": "Produto",
         "type": "\"string\""
        },
        {
         "metadata": "{}",
         "name": "preco_atual",
         "type": "\"double\""
        },
        {
         "metadata": "{}",
         "name": "demanda",
         "type": "\"integer\""
        },
        {
         "metadata": "{}",
         "name": "estoque",
         "type": "\"integer\""
        },
        {
         "metadata": "{}",
         "name": "preco_concorrencia",
         "type": "\"double\""
        },
        {
         "metadata": "{}",
         "name": "Sazonalidade",
         "type": "\"string\""
        },
        {
         "metadata": "{}",
         "name": "estoque_baixo",
         "type": "\"integer\""
        },
        {
         "metadata": "{}",
         "name": "demanda_alta",
         "type": "\"integer\""
        },
        {
         "metadata": "{}",
         "name": "diferenca_vs_concorrencia",
         "type": "\"double\""
        },
        {
         "metadata": "{}",
         "name": "data_carga",
         "type": "\"timestamp\""
        }
       ],
       "type": "table"
      }
     },
     "output_type": "display_data"
    }
   ],
   "source": [
    "%sql\n",
    "-- Verificando a estrutura da silver com a nova coluna\n",
    "SELECT * FROM base_precificacao_silver LIMIT 5;"
   ]
  },
  {
   "cell_type": "code",
   "execution_count": 0,
   "metadata": {
    "application/vnd.databricks.v1+cell": {
     "cellMetadata": {
      "byteLimit": 2048000,
      "implicitDf": true,
      "rowLimit": 10000
     },
     "inputWidgets": {},
     "nuid": "fca87ce8-acad-4029-9d22-437500107699",
     "showTitle": false,
     "tableResultSettingsMap": {},
     "title": ""
    }
   },
   "outputs": [
    {
     "output_type": "display_data",
     "data": {
      "text/html": [
       "<style scoped>\n",
       "  .table-result-container {\n",
       "    max-height: 300px;\n",
       "    overflow: auto;\n",
       "  }\n",
       "  table, th, td {\n",
       "    border: 1px solid black;\n",
       "    border-collapse: collapse;\n",
       "  }\n",
       "  th, td {\n",
       "    padding: 5px;\n",
       "  }\n",
       "  th {\n",
       "    text-align: left;\n",
       "  }\n",
       "</style><div class='table-result-container'><table class='table-result'><thead style='background-color: white'><tr><th>nulos_ano</th><th>nulos_mes</th><th>nulos_preco</th><th>nulos_demanda</th><th>nulos_estoque</th><th>nulos_concorrencia</th><th>nulos_estoque_baixo</th><th>nulos_demanda_alta</th><th>nulos_data_carga</th></tr></thead><tbody><tr><td>0</td><td>0</td><td>0</td><td>0</td><td>0</td><td>0</td><td>0</td><td>0</td><td>0</td></tr></tbody></table></div>"
      ]
     },
     "metadata": {
      "application/vnd.databricks.v1+output": {
       "addedWidgets": {},
       "aggData": [],
       "aggError": "",
       "aggOverflow": false,
       "aggSchema": [],
       "aggSeriesLimitReached": false,
       "aggType": "",
       "arguments": {},
       "columnCustomDisplayInfos": {},
       "data": [
        [
         0,
         0,
         0,
         0,
         0,
         0,
         0,
         0,
         0
        ]
       ],
       "datasetInfos": [
        {
         "name": "_sqldf",
         "schema": {
          "fields": [
           {
            "metadata": {},
            "name": "nulos_ano",
            "nullable": false,
            "type": "long"
           },
           {
            "metadata": {},
            "name": "nulos_mes",
            "nullable": false,
            "type": "long"
           },
           {
            "metadata": {},
            "name": "nulos_preco",
            "nullable": false,
            "type": "long"
           },
           {
            "metadata": {},
            "name": "nulos_demanda",
            "nullable": false,
            "type": "long"
           },
           {
            "metadata": {},
            "name": "nulos_estoque",
            "nullable": false,
            "type": "long"
           },
           {
            "metadata": {},
            "name": "nulos_concorrencia",
            "nullable": false,
            "type": "long"
           },
           {
            "metadata": {},
            "name": "nulos_estoque_baixo",
            "nullable": false,
            "type": "long"
           },
           {
            "metadata": {},
            "name": "nulos_demanda_alta",
            "nullable": false,
            "type": "long"
           },
           {
            "metadata": {},
            "name": "nulos_data_carga",
            "nullable": false,
            "type": "long"
           }
          ],
          "type": "struct"
         },
         "tableIdentifier": null,
         "typeStr": "pyspark.sql.connect.dataframe.DataFrame"
        }
       ],
       "dbfsResultPath": null,
       "isJsonSchema": true,
       "metadata": {
        "createTempViewForImplicitDf": true,
        "dataframeName": "_sqldf",
        "executionCount": 13
       },
       "overflow": false,
       "plotOptions": {
        "customPlotOptions": {},
        "displayType": "table",
        "pivotAggregation": null,
        "pivotColumns": null,
        "xColumns": null,
        "yColumns": null
       },
       "removedWidgets": [],
       "schema": [
        {
         "metadata": "{}",
         "name": "nulos_ano",
         "type": "\"long\""
        },
        {
         "metadata": "{}",
         "name": "nulos_mes",
         "type": "\"long\""
        },
        {
         "metadata": "{}",
         "name": "nulos_preco",
         "type": "\"long\""
        },
        {
         "metadata": "{}",
         "name": "nulos_demanda",
         "type": "\"long\""
        },
        {
         "metadata": "{}",
         "name": "nulos_estoque",
         "type": "\"long\""
        },
        {
         "metadata": "{}",
         "name": "nulos_concorrencia",
         "type": "\"long\""
        },
        {
         "metadata": "{}",
         "name": "nulos_estoque_baixo",
         "type": "\"long\""
        },
        {
         "metadata": "{}",
         "name": "nulos_demanda_alta",
         "type": "\"long\""
        },
        {
         "metadata": "{}",
         "name": "nulos_data_carga",
         "type": "\"long\""
        }
       ],
       "type": "table"
      }
     },
     "output_type": "display_data"
    }
   ],
   "source": [
    "%sql\n",
    "-- Análise de Qualidade da Camada Silver\n",
    "-- 1. Verificação de valores nulos após transformações\n",
    "SELECT\n",
    "  COUNT(*) - COUNT(ano) as nulos_ano,\n",
    "  COUNT(*) - COUNT(mes) as nulos_mes, \n",
    "  COUNT(*) - COUNT(preco_atual) as nulos_preco,\n",
    "  COUNT(*) - COUNT(demanda) as nulos_demanda,\n",
    "  COUNT(*) - COUNT(estoque) as nulos_estoque,\n",
    "  COUNT(*) - COUNT(preco_concorrencia) as nulos_concorrencia,\n",
    "  COUNT(*) - COUNT(estoque_baixo) as nulos_estoque_baixo,\n",
    "  COUNT(*) - COUNT(demanda_alta) as nulos_demanda_alta,\n",
    "  COUNT(*) - COUNT(data_carga) as nulos_data_carga\n",
    "  FROM base_precificacao_silver;"
   ]
  },
  {
   "cell_type": "code",
   "execution_count": 0,
   "metadata": {
    "application/vnd.databricks.v1+cell": {
     "cellMetadata": {
      "byteLimit": 2048000,
      "implicitDf": true,
      "rowLimit": 10000
     },
     "inputWidgets": {},
     "nuid": "338df0bc-ef4c-4ad3-8cf8-14834c8cf839",
     "showTitle": false,
     "tableResultSettingsMap": {},
     "title": ""
    }
   },
   "outputs": [
    {
     "output_type": "display_data",
     "data": {
      "text/html": [
       "<style scoped>\n",
       "  .table-result-container {\n",
       "    max-height: 300px;\n",
       "    overflow: auto;\n",
       "  }\n",
       "  table, th, td {\n",
       "    border: 1px solid black;\n",
       "    border-collapse: collapse;\n",
       "  }\n",
       "  th, td {\n",
       "    padding: 5px;\n",
       "  }\n",
       "  th {\n",
       "    text-align: left;\n",
       "  }\n",
       "</style><div class='table-result-container'><table class='table-result'><thead style='background-color: white'><tr><th>feature</th><th>qtd_verdadeiro</th><th>qtd_falso</th><th>percentual_verdadeiro</th></tr></thead><tbody><tr><td>estoque_baixo</td><td>37</td><td>83</td><td>30.83</td></tr><tr><td>demanda_alta</td><td>64</td><td>56</td><td>53.33</td></tr></tbody></table></div>"
      ]
     },
     "metadata": {
      "application/vnd.databricks.v1+output": {
       "addedWidgets": {},
       "aggData": [],
       "aggError": "",
       "aggOverflow": false,
       "aggSchema": [],
       "aggSeriesLimitReached": false,
       "aggType": "",
       "arguments": {},
       "columnCustomDisplayInfos": {},
       "data": [
        [
         "estoque_baixo",
         37,
         83,
         "30.83"
        ],
        [
         "demanda_alta",
         64,
         56,
         "53.33"
        ]
       ],
       "datasetInfos": [
        {
         "name": "_sqldf",
         "schema": {
          "fields": [
           {
            "metadata": {},
            "name": "feature",
            "nullable": false,
            "type": "string"
           },
           {
            "metadata": {},
            "name": "qtd_verdadeiro",
            "nullable": false,
            "type": "long"
           },
           {
            "metadata": {},
            "name": "qtd_falso",
            "nullable": false,
            "type": "long"
           },
           {
            "metadata": {},
            "name": "percentual_verdadeiro",
            "nullable": true,
            "type": "decimal(27,2)"
           }
          ],
          "type": "struct"
         },
         "tableIdentifier": null,
         "typeStr": "pyspark.sql.connect.dataframe.DataFrame"
        }
       ],
       "dbfsResultPath": null,
       "isJsonSchema": true,
       "metadata": {
        "createTempViewForImplicitDf": true,
        "dataframeName": "_sqldf",
        "executionCount": 14
       },
       "overflow": false,
       "plotOptions": {
        "customPlotOptions": {},
        "displayType": "table",
        "pivotAggregation": null,
        "pivotColumns": null,
        "xColumns": null,
        "yColumns": null
       },
       "removedWidgets": [],
       "schema": [
        {
         "metadata": "{}",
         "name": "feature",
         "type": "\"string\""
        },
        {
         "metadata": "{}",
         "name": "qtd_verdadeiro",
         "type": "\"long\""
        },
        {
         "metadata": "{}",
         "name": "qtd_falso",
         "type": "\"long\""
        },
        {
         "metadata": "{}",
         "name": "percentual_verdadeiro",
         "type": "\"decimal(27,2)\""
        }
       ],
       "type": "table"
      }
     },
     "output_type": "display_data"
    }
   ],
   "source": [
    "%sql\n",
    "-- 2. Análise das novas features criadas\n",
    "SELECT\n",
    "  'estoque_baixo' as feature,\n",
    "  COUNT(CASE WHEN estoque_baixo = 1 THEN 1 END) as qtd_verdadeiro,\n",
    "  COUNT(CASE WHEN estoque_baixo = 0 THEN 1 END) as qtd_falso,\n",
    "  ROUND(COUNT(CASE WHEN estoque_baixo = 1 THEN 1 END) * 100.0 / COUNT(*), 2) as percentual_verdadeiro\n",
    "FROM base_precificacao_silver\n",
    "\n",
    "UNION ALL\n",
    "\n",
    "SELECT\n",
    "  'demanda_alta' as feature,\n",
    "  COUNT(CASE WHEN demanda_alta = 1 THEN 1 END) as qtd_verdadeiro,\n",
    "  COUNT(CASE WHEN demanda_alta = 0 THEN 1 END) as qtd_falso,\n",
    "  ROUND(COUNT(CASE WHEN demanda_alta = 1 THEN 1 END) * 100.0 / COUNT(*), 2) as percentual_verdadeiro\n",
    "FROM base_precificacao_silver;"
   ]
  },
  {
   "cell_type": "code",
   "execution_count": 0,
   "metadata": {
    "application/vnd.databricks.v1+cell": {
     "cellMetadata": {
      "byteLimit": 2048000,
      "implicitDf": true,
      "rowLimit": 10000
     },
     "inputWidgets": {},
     "nuid": "9063c3ec-f5d1-4b3e-8ca6-57b1323f6c37",
     "showTitle": false,
     "tableResultSettingsMap": {},
     "title": ""
    }
   },
   "outputs": [
    {
     "output_type": "display_data",
     "data": {
      "text/html": [
       "<style scoped>\n",
       "  .table-result-container {\n",
       "    max-height: 300px;\n",
       "    overflow: auto;\n",
       "  }\n",
       "  table, th, td {\n",
       "    border: 1px solid black;\n",
       "    border-collapse: collapse;\n",
       "  }\n",
       "  th, td {\n",
       "    padding: 5px;\n",
       "  }\n",
       "  th {\n",
       "    text-align: left;\n",
       "  }\n",
       "</style><div class='table-result-container'><table class='table-result'><thead style='background-color: white'><tr><th>diff_minima</th><th>diff_maxima</th><th>diff_media</th><th>diff_desvio_padrao</th><th>diff_q1</th><th>diff_mediana</th><th>diff_q3</th></tr></thead><tbody><tr><td>-5.1</td><td>5.0</td><td>1.02</td><td>1.51</td><td>0.5</td><td>1.0</td><td>2.0</td></tr></tbody></table></div>"
      ]
     },
     "metadata": {
      "application/vnd.databricks.v1+output": {
       "addedWidgets": {},
       "aggData": [],
       "aggError": "",
       "aggOverflow": false,
       "aggSchema": [],
       "aggSeriesLimitReached": false,
       "aggType": "",
       "arguments": {},
       "columnCustomDisplayInfos": {},
       "data": [
        [
         -5.1,
         5.0,
         1.02,
         1.51,
         0.5,
         1.0,
         2.0
        ]
       ],
       "datasetInfos": [
        {
         "name": "_sqldf",
         "schema": {
          "fields": [
           {
            "metadata": {},
            "name": "diff_minima",
            "nullable": true,
            "type": "double"
           },
           {
            "metadata": {},
            "name": "diff_maxima",
            "nullable": true,
            "type": "double"
           },
           {
            "metadata": {},
            "name": "diff_media",
            "nullable": true,
            "type": "double"
           },
           {
            "metadata": {},
            "name": "diff_desvio_padrao",
            "nullable": true,
            "type": "double"
           },
           {
            "metadata": {},
            "name": "diff_q1",
            "nullable": true,
            "type": "double"
           },
           {
            "metadata": {},
            "name": "diff_mediana",
            "nullable": true,
            "type": "double"
           },
           {
            "metadata": {},
            "name": "diff_q3",
            "nullable": true,
            "type": "double"
           }
          ],
          "type": "struct"
         },
         "tableIdentifier": null,
         "typeStr": "pyspark.sql.connect.dataframe.DataFrame"
        }
       ],
       "dbfsResultPath": null,
       "isJsonSchema": true,
       "metadata": {
        "createTempViewForImplicitDf": true,
        "dataframeName": "_sqldf",
        "executionCount": 15
       },
       "overflow": false,
       "plotOptions": {
        "customPlotOptions": {},
        "displayType": "table",
        "pivotAggregation": null,
        "pivotColumns": null,
        "xColumns": null,
        "yColumns": null
       },
       "removedWidgets": [],
       "schema": [
        {
         "metadata": "{}",
         "name": "diff_minima",
         "type": "\"double\""
        },
        {
         "metadata": "{}",
         "name": "diff_maxima",
         "type": "\"double\""
        },
        {
         "metadata": "{}",
         "name": "diff_media",
         "type": "\"double\""
        },
        {
         "metadata": "{}",
         "name": "diff_desvio_padrao",
         "type": "\"double\""
        },
        {
         "metadata": "{}",
         "name": "diff_q1",
         "type": "\"double\""
        },
        {
         "metadata": "{}",
         "name": "diff_mediana",
         "type": "\"double\""
        },
        {
         "metadata": "{}",
         "name": "diff_q3",
         "type": "\"double\""
        }
       ],
       "type": "table"
      }
     },
     "output_type": "display_data"
    }
   ],
   "source": [
    "%sql\n",
    "-- Análise da diferença de preços vs concorrência e outras métricas\n",
    "SELECT\n",
    "  ROUND(MIN(diferenca_vs_concorrencia), 2) as diff_minima,\n",
    "  ROUND(MAX(diferenca_vs_concorrencia), 2) as diff_maxima,\n",
    "  ROUND(AVG(diferenca_vs_concorrencia), 2) as diff_media,\n",
    "  ROUND(STDDEV(diferenca_vs_concorrencia), 2) as diff_desvio_padrao,\n",
    "  ROUND(PERCENTILE_CONT(0.25) WITHIN GROUP (ORDER BY diferenca_vs_concorrencia), 2) as diff_q1,\n",
    "  ROUND(PERCENTILE_CONT(0.5) WITHIN GROUP (ORDER BY diferenca_vs_concorrencia), 2) as diff_mediana,\n",
    "  ROUND(PERCENTILE_CONT(0.75) WITHIN GROUP (ORDER BY diferenca_vs_concorrencia), 2) as diff_q3\n",
    "FROM base_precificacao_silver;"
   ]
  },
  {
   "cell_type": "code",
   "execution_count": 0,
   "metadata": {
    "application/vnd.databricks.v1+cell": {
     "cellMetadata": {
      "byteLimit": 2048000,
      "implicitDf": true,
      "rowLimit": 10000
     },
     "inputWidgets": {},
     "nuid": "74608c95-ee44-4a69-af09-af0e3460fd82",
     "showTitle": false,
     "tableResultSettingsMap": {},
     "title": ""
    }
   },
   "outputs": [
    {
     "output_type": "display_data",
     "data": {
      "text/html": [
       "<style scoped>\n",
       "  .table-result-container {\n",
       "    max-height: 300px;\n",
       "    overflow: auto;\n",
       "  }\n",
       "  table, th, td {\n",
       "    border: 1px solid black;\n",
       "    border-collapse: collapse;\n",
       "  }\n",
       "  th, td {\n",
       "    padding: 5px;\n",
       "  }\n",
       "  th {\n",
       "    text-align: left;\n",
       "  }\n",
       "</style><div class='table-result-container'><table class='table-result'><thead style='background-color: white'><tr><th>num_affected_rows</th><th>num_inserted_rows</th></tr></thead><tbody></tbody></table></div>"
      ]
     },
     "metadata": {
      "application/vnd.databricks.v1+output": {
       "addedWidgets": {},
       "aggData": [],
       "aggError": "",
       "aggOverflow": false,
       "aggSchema": [],
       "aggSeriesLimitReached": false,
       "aggType": "",
       "arguments": {},
       "columnCustomDisplayInfos": {},
       "data": [],
       "datasetInfos": [
        {
         "name": "_sqldf",
         "schema": {
          "fields": [
           {
            "metadata": {},
            "name": "num_affected_rows",
            "nullable": true,
            "type": "long"
           },
           {
            "metadata": {},
            "name": "num_inserted_rows",
            "nullable": true,
            "type": "long"
           }
          ],
          "type": "struct"
         },
         "tableIdentifier": null,
         "typeStr": "pyspark.sql.connect.dataframe.DataFrame"
        }
       ],
       "dbfsResultPath": null,
       "isJsonSchema": true,
       "metadata": {
        "createTempViewForImplicitDf": true,
        "dataframeName": "_sqldf",
        "executionCount": 16
       },
       "overflow": false,
       "plotOptions": {
        "customPlotOptions": {},
        "displayType": "table",
        "pivotAggregation": null,
        "pivotColumns": null,
        "xColumns": null,
        "yColumns": null
       },
       "removedWidgets": [],
       "schema": [
        {
         "metadata": "{}",
         "name": "num_affected_rows",
         "type": "\"long\""
        },
        {
         "metadata": "{}",
         "name": "num_inserted_rows",
         "type": "\"long\""
        }
       ],
       "type": "table"
      }
     },
     "output_type": "display_data"
    }
   ],
   "source": [
    "%sql\n",
    "-- Criação da Camada Gold com data_carga\n",
    "CREATE OR REPLACE TABLE precificacao.db_precificacao.base_precificacao_gold AS\n",
    "\n",
    "SELECT\n",
    "  -- Features temporais\n",
    "  Data,\n",
    "  ano,\n",
    "  mes,\n",
    "  \n",
    "  -- Encoding do Produto (Label Encoding)\n",
    "  CASE \n",
    "    WHEN Produto = 'Camiseta Básica' THEN 1\n",
    "    WHEN Produto = 'Calça Jeans' THEN 2\n",
    "    WHEN Produto = 'Tênis Esportivo' THEN 3\n",
    "    WHEN Produto = 'Moletom com Capuz' THEN 4\n",
    "    WHEN Produto = 'Boné de Aba Reta' THEN 5\n",
    "  END as produto_encoded,\n",
    "  \n",
    "  -- Variáveis numéricas originais\n",
    "  preco_atual,\n",
    "  demanda,\n",
    "  estoque,\n",
    "  preco_concorrencia,\n",
    "  \n",
    "  -- Encoding da Sazonalidade (Label Encoding)\n",
    "  CASE \n",
    "    WHEN Sazonalidade = 'Baixa' THEN 1\n",
    "    WHEN Sazonalidade = 'Média' THEN 2\n",
    "    WHEN Sazonalidade = 'Alta' THEN 3\n",
    "    WHEN Sazonalidade = 'Black Friday' THEN 4\n",
    "  END as sazonalidade_encoded,\n",
    "  \n",
    "  -- Flags business (já criadas na Silver)\n",
    "  estoque_baixo,\n",
    "  demanda_alta,\n",
    "  diferenca_vs_concorrencia,\n",
    "  \n",
    "  -- Novas features avançadas\n",
    "  TRY_DIVIDE(demanda, estoque) as taxa_rotatividade,\n",
    "  TRY_DIVIDE((preco_atual - preco_concorrencia), preco_concorrencia) as percentual_diferenca_concorrencia,\n",
    "  \n",
    "  -- Data de carga da Silver (rastreabilidade)\n",
    "  data_carga\n",
    "\n",
    "FROM base_precificacao_silver\n",
    "ORDER BY Data, produto_encoded;"
   ]
  },
  {
   "cell_type": "code",
   "execution_count": 0,
   "metadata": {
    "application/vnd.databricks.v1+cell": {
     "cellMetadata": {
      "byteLimit": 2048000,
      "implicitDf": true,
      "rowLimit": 10000
     },
     "inputWidgets": {},
     "nuid": "68360461-f396-4f71-b8e3-349f44d3c1e5",
     "showTitle": false,
     "tableResultSettingsMap": {},
     "title": ""
    }
   },
   "outputs": [
    {
     "output_type": "display_data",
     "data": {
      "text/html": [
       "<style scoped>\n",
       "  .table-result-container {\n",
       "    max-height: 300px;\n",
       "    overflow: auto;\n",
       "  }\n",
       "  table, th, td {\n",
       "    border: 1px solid black;\n",
       "    border-collapse: collapse;\n",
       "  }\n",
       "  th, td {\n",
       "    padding: 5px;\n",
       "  }\n",
       "  th {\n",
       "    text-align: left;\n",
       "  }\n",
       "</style><div class='table-result-container'><table class='table-result'><thead style='background-color: white'><tr><th>Data</th><th>ano</th><th>mes</th><th>produto_encoded</th><th>preco_atual</th><th>demanda</th><th>estoque</th><th>preco_concorrencia</th><th>sazonalidade_encoded</th><th>estoque_baixo</th><th>demanda_alta</th><th>diferenca_vs_concorrencia</th><th>taxa_rotatividade</th><th>percentual_diferenca_concorrencia</th><th>data_carga</th></tr></thead><tbody><tr><td>2023-01-01</td><td>2023</td><td>1</td><td>1</td><td>49.9</td><td>180</td><td>1200</td><td>48.5</td><td>1</td><td>0</td><td>0</td><td>1.3999999999999986</td><td>0.15</td><td>0.02886597938144327</td><td>2025-09-05T18:25:36.341Z</td></tr><tr><td>2023-01-01</td><td>2023</td><td>1</td><td>2</td><td>149.9</td><td>90</td><td>600</td><td>155.0</td><td>1</td><td>0</td><td>0</td><td>-5.099999999999994</td><td>0.15</td><td>-0.03290322580645157</td><td>2025-09-05T18:25:36.341Z</td></tr><tr><td>2023-01-01</td><td>2023</td><td>1</td><td>3</td><td>249.9</td><td>75</td><td>450</td><td>255.0</td><td>1</td><td>0</td><td>0</td><td>-5.099999999999994</td><td>0.16666666666666666</td><td>-0.019999999999999976</td><td>2025-09-05T18:25:36.341Z</td></tr><tr><td>2023-01-01</td><td>2023</td><td>1</td><td>4</td><td>99.9</td><td>80</td><td>900</td><td>105.0</td><td>1</td><td>0</td><td>0</td><td>-5.099999999999994</td><td>0.08888888888888889</td><td>-0.048571428571428515</td><td>2025-09-05T18:25:36.341Z</td></tr><tr><td>2023-01-01</td><td>2023</td><td>1</td><td>5</td><td>39.9</td><td>150</td><td>700</td><td>42.0</td><td>1</td><td>0</td><td>0</td><td>-2.1000000000000014</td><td>0.21428571428571427</td><td>-0.05000000000000003</td><td>2025-09-05T18:25:36.341Z</td></tr><tr><td>2023-02-01</td><td>2023</td><td>2</td><td>1</td><td>51.5</td><td>160</td><td>1020</td><td>49.0</td><td>1</td><td>0</td><td>0</td><td>2.5</td><td>0.1568627450980392</td><td>0.05102040816326531</td><td>2025-09-05T18:25:36.341Z</td></tr><tr><td>2023-02-01</td><td>2023</td><td>2</td><td>2</td><td>145.0</td><td>110</td><td>490</td><td>148.0</td><td>1</td><td>0</td><td>0</td><td>-3.0</td><td>0.22448979591836735</td><td>-0.02027027027027027</td><td>2025-09-05T18:25:36.341Z</td></tr><tr><td>2023-02-01</td><td>2023</td><td>2</td><td>3</td><td>255.0</td><td>85</td><td>365</td><td>250.0</td><td>1</td><td>0</td><td>0</td><td>5.0</td><td>0.2328767123287671</td><td>0.02</td><td>2025-09-05T18:25:36.341Z</td></tr><tr><td>2023-02-01</td><td>2023</td><td>2</td><td>4</td><td>105.0</td><td>90</td><td>810</td><td>102.5</td><td>1</td><td>0</td><td>0</td><td>2.5</td><td>0.1111111111111111</td><td>0.024390243902439025</td><td>2025-09-05T18:25:36.341Z</td></tr><tr><td>2023-02-01</td><td>2023</td><td>2</td><td>5</td><td>41.0</td><td>130</td><td>570</td><td>40.5</td><td>1</td><td>0</td><td>0</td><td>0.5</td><td>0.22807017543859648</td><td>0.012345679012345678</td><td>2025-09-05T18:25:36.341Z</td></tr><tr><td>2023-03-01</td><td>2023</td><td>3</td><td>1</td><td>50.0</td><td>220</td><td>800</td><td>50.5</td><td>2</td><td>0</td><td>1</td><td>-0.5</td><td>0.275</td><td>-0.009900990099009901</td><td>2025-09-05T18:25:36.341Z</td></tr><tr><td>2023-03-01</td><td>2023</td><td>3</td><td>2</td><td>148.5</td><td>130</td><td>360</td><td>150.0</td><td>2</td><td>0</td><td>0</td><td>-1.5</td><td>0.3611111111111111</td><td>-0.01</td><td>2025-09-05T18:25:36.341Z</td></tr><tr><td>2023-03-01</td><td>2023</td><td>3</td><td>3</td><td>259.0</td><td>100</td><td>265</td><td>258.0</td><td>2</td><td>0</td><td>0</td><td>1.0</td><td>0.37735849056603776</td><td>0.003875968992248062</td><td>2025-09-05T18:25:36.341Z</td></tr><tr><td>2023-03-01</td><td>2023</td><td>3</td><td>4</td><td>110.0</td><td>120</td><td>690</td><td>108.0</td><td>2</td><td>0</td><td>0</td><td>2.0</td><td>0.17391304347826086</td><td>0.018518518518518517</td><td>2025-09-05T18:25:36.341Z</td></tr><tr><td>2023-03-01</td><td>2023</td><td>3</td><td>5</td><td>43.0</td><td>180</td><td>390</td><td>42.5</td><td>2</td><td>0</td><td>0</td><td>0.5</td><td>0.46153846153846156</td><td>0.011764705882352941</td><td>2025-09-05T18:25:36.341Z</td></tr><tr><td>2023-04-01</td><td>2023</td><td>4</td><td>1</td><td>52.0</td><td>250</td><td>550</td><td>51.2</td><td>2</td><td>0</td><td>1</td><td>0.7999999999999972</td><td>0.45454545454545453</td><td>0.015624999999999944</td><td>2025-09-05T18:25:36.341Z</td></tr><tr><td>2023-04-01</td><td>2023</td><td>4</td><td>2</td><td>150.0</td><td>150</td><td>210</td><td>152.0</td><td>2</td><td>0</td><td>0</td><td>-2.0</td><td>0.7142857142857143</td><td>-0.013157894736842105</td><td>2025-09-05T18:25:36.341Z</td></tr><tr><td>2023-04-01</td><td>2023</td><td>4</td><td>3</td><td>265.0</td><td>120</td><td>145</td><td>263.0</td><td>2</td><td>0</td><td>0</td><td>2.0</td><td>0.8275862068965517</td><td>0.0076045627376425855</td><td>2025-09-05T18:25:36.341Z</td></tr><tr><td>2023-04-01</td><td>2023</td><td>4</td><td>4</td><td>115.0</td><td>140</td><td>550</td><td>113.0</td><td>2</td><td>0</td><td>0</td><td>2.0</td><td>0.2545454545454545</td><td>0.017699115044247787</td><td>2025-09-05T18:25:36.341Z</td></tr><tr><td>2023-04-01</td><td>2023</td><td>4</td><td>5</td><td>45.0</td><td>210</td><td>180</td><td>44.5</td><td>2</td><td>0</td><td>1</td><td>0.5</td><td>1.1666666666666667</td><td>0.011235955056179775</td><td>2025-09-05T18:25:36.341Z</td></tr><tr><td>2023-05-01</td><td>2023</td><td>5</td><td>1</td><td>50.5</td><td>210</td><td>340</td><td>49.8</td><td>2</td><td>0</td><td>1</td><td>0.7000000000000028</td><td>0.6176470588235294</td><td>0.014056224899598452</td><td>2025-09-05T18:25:36.341Z</td></tr><tr><td>2023-05-01</td><td>2023</td><td>5</td><td>2</td><td>152.0</td><td>140</td><td>800</td><td>150.0</td><td>2</td><td>0</td><td>0</td><td>2.0</td><td>0.175</td><td>0.013333333333333334</td><td>2025-09-05T18:25:36.341Z</td></tr><tr><td>2023-05-01</td><td>2023</td><td>5</td><td>3</td><td>260.0</td><td>110</td><td>650</td><td>259.0</td><td>2</td><td>0</td><td>0</td><td>1.0</td><td>0.16923076923076924</td><td>0.003861003861003861</td><td>2025-09-05T18:25:36.341Z</td></tr><tr><td>2023-05-01</td><td>2023</td><td>5</td><td>4</td><td>120.0</td><td>180</td><td>370</td><td>118.0</td><td>2</td><td>0</td><td>0</td><td>2.0</td><td>0.4864864864864865</td><td>0.01694915254237288</td><td>2025-09-05T18:25:36.341Z</td></tr><tr><td>2023-05-01</td><td>2023</td><td>5</td><td>5</td><td>44.0</td><td>190</td><td>900</td><td>43.8</td><td>2</td><td>0</td><td>0</td><td>0.20000000000000284</td><td>0.2111111111111111</td><td>0.004566210045662165</td><td>2025-09-05T18:25:36.341Z</td></tr><tr><td>2023-06-01</td><td>2023</td><td>6</td><td>1</td><td>53.0</td><td>280</td><td>60</td><td>51.9</td><td>2</td><td>1</td><td>1</td><td>1.1000000000000014</td><td>4.666666666666667</td><td>0.021194605009633938</td><td>2025-09-05T18:25:36.341Z</td></tr><tr><td>2023-06-01</td><td>2023</td><td>6</td><td>2</td><td>155.0</td><td>160</td><td>640</td><td>154.0</td><td>2</td><td>0</td><td>0</td><td>1.0</td><td>0.25</td><td>0.006493506493506494</td><td>2025-09-05T18:25:36.341Z</td></tr><tr><td>2023-06-01</td><td>2023</td><td>6</td><td>3</td><td>270.0</td><td>130</td><td>520</td><td>268.0</td><td>2</td><td>0</td><td>0</td><td>2.0</td><td>0.25</td><td>0.007462686567164179</td><td>2025-09-05T18:25:36.341Z</td></tr><tr><td>2023-06-01</td><td>2023</td><td>6</td><td>4</td><td>125.0</td><td>220</td><td>150</td><td>123.0</td><td>2</td><td>0</td><td>1</td><td>2.0</td><td>1.4666666666666666</td><td>0.016260162601626018</td><td>2025-09-05T18:25:36.341Z</td></tr><tr><td>2023-06-01</td><td>2023</td><td>6</td><td>5</td><td>46.0</td><td>230</td><td>670</td><td>45.5</td><td>2</td><td>0</td><td>1</td><td>0.5</td><td>0.34328358208955223</td><td>0.01098901098901099</td><td>2025-09-05T18:25:36.341Z</td></tr><tr><td>2023-07-01</td><td>2023</td><td>7</td><td>1</td><td>54.0</td><td>320</td><td>800</td><td>53.5</td><td>3</td><td>0</td><td>1</td><td>0.5</td><td>0.4</td><td>0.009345794392523364</td><td>2025-09-05T18:25:36.341Z</td></tr><tr><td>2023-07-01</td><td>2023</td><td>7</td><td>2</td><td>158.0</td><td>190</td><td>450</td><td>157.0</td><td>3</td><td>0</td><td>0</td><td>1.0</td><td>0.4222222222222222</td><td>0.006369426751592357</td><td>2025-09-05T18:25:36.341Z</td></tr><tr><td>2023-07-01</td><td>2023</td><td>7</td><td>3</td><td>280.0</td><td>160</td><td>360</td><td>278.0</td><td>3</td><td>0</td><td>0</td><td>2.0</td><td>0.4444444444444444</td><td>0.007194244604316547</td><td>2025-09-05T18:25:36.341Z</td></tr><tr><td>2023-07-01</td><td>2023</td><td>7</td><td>4</td><td>130.0</td><td>280</td><td>800</td><td>128.0</td><td>3</td><td>0</td><td>1</td><td>2.0</td><td>0.35</td><td>0.015625</td><td>2025-09-05T18:25:36.341Z</td></tr><tr><td>2023-07-01</td><td>2023</td><td>7</td><td>5</td><td>48.0</td><td>280</td><td>390</td><td>47.5</td><td>3</td><td>0</td><td>1</td><td>0.5</td><td>0.717948717948718</td><td>0.010526315789473684</td><td>2025-09-05T18:25:36.341Z</td></tr><tr><td>2023-08-01</td><td>2023</td><td>8</td><td>1</td><td>52.5</td><td>290</td><td>480</td><td>51.9</td><td>3</td><td>0</td><td>1</td><td>0.6000000000000014</td><td>0.6041666666666666</td><td>0.011560693641618524</td><td>2025-09-05T18:25:36.341Z</td></tr><tr><td>2023-08-01</td><td>2023</td><td>8</td><td>2</td><td>156.0</td><td>180</td><td>270</td><td>155.0</td><td>3</td><td>0</td><td>0</td><td>1.0</td><td>0.6666666666666666</td><td>0.0064516129032258064</td><td>2025-09-05T18:25:36.341Z</td></tr><tr><td>2023-08-01</td><td>2023</td><td>8</td><td>3</td><td>275.0</td><td>150</td><td>210</td><td>273.0</td><td>3</td><td>0</td><td>0</td><td>2.0</td><td>0.7142857142857143</td><td>0.007326007326007326</td><td>2025-09-05T18:25:36.341Z</td></tr><tr><td>2023-08-01</td><td>2023</td><td>8</td><td>4</td><td>135.0</td><td>310</td><td>490</td><td>133.0</td><td>3</td><td>0</td><td>1</td><td>2.0</td><td>0.6326530612244898</td><td>0.015037593984962405</td><td>2025-09-05T18:25:36.341Z</td></tr><tr><td>2023-08-01</td><td>2023</td><td>8</td><td>5</td><td>47.0</td><td>260</td><td>130</td><td>46.5</td><td>3</td><td>0</td><td>1</td><td>0.5</td><td>2.0</td><td>0.010752688172043012</td><td>2025-09-05T18:25:36.341Z</td></tr><tr><td>2023-09-01</td><td>2023</td><td>9</td><td>1</td><td>55.0</td><td>350</td><td>190</td><td>54.2</td><td>3</td><td>0</td><td>1</td><td>0.7999999999999972</td><td>1.8421052631578947</td><td>0.014760147601475962</td><td>2025-09-05T18:25:36.341Z</td></tr><tr><td>2023-09-01</td><td>2023</td><td>9</td><td>2</td><td>160.0</td><td>220</td><td>50</td><td>159.0</td><td>3</td><td>1</td><td>1</td><td>1.0</td><td>4.4</td><td>0.006289308176100629</td><td>2025-09-05T18:25:36.341Z</td></tr><tr><td>2023-09-01</td><td>2023</td><td>9</td><td>3</td><td>290.0</td><td>190</td><td>20</td><td>288.0</td><td>3</td><td>1</td><td>0</td><td>2.0</td><td>9.5</td><td>0.006944444444444444</td><td>2025-09-05T18:25:36.341Z</td></tr><tr><td>2023-09-01</td><td>2023</td><td>9</td><td>4</td><td>140.0</td><td>350</td><td>140</td><td>138.0</td><td>3</td><td>0</td><td>1</td><td>2.0</td><td>2.5</td><td>0.014492753623188406</td><td>2025-09-05T18:25:36.341Z</td></tr><tr><td>2023-09-01</td><td>2023</td><td>9</td><td>5</td><td>49.9</td><td>320</td><td>0</td><td>49.5</td><td>3</td><td>1</td><td>1</td><td>0.3999999999999986</td><td>null</td><td>0.008080808080808051</td><td>2025-09-05T18:25:36.341Z</td></tr><tr><td>2023-10-01</td><td>2023</td><td>10</td><td>1</td><td>58.0</td><td>450</td><td>100</td><td>56.8</td><td>3</td><td>0</td><td>1</td><td>1.2000000000000028</td><td>4.5</td><td>0.021126760563380333</td><td>2025-09-05T18:25:36.341Z</td></tr><tr><td>2023-10-01</td><td>2023</td><td>10</td><td>2</td><td>165.0</td><td>250</td><td>0</td><td>164.0</td><td>3</td><td>1</td><td>1</td><td>1.0</td><td>null</td><td>0.006097560975609756</td><td>2025-09-05T18:25:36.341Z</td></tr><tr><td>2023-10-01</td><td>2023</td><td>10</td><td>3</td><td>300.0</td><td>250</td><td>0</td><td>298.0</td><td>3</td><td>1</td><td>1</td><td>2.0</td><td>null</td><td>0.006711409395973154</td><td>2025-09-05T18:25:36.341Z</td></tr><tr><td>2023-10-01</td><td>2023</td><td>10</td><td>4</td><td>145.0</td><td>400</td><td>0</td><td>143.0</td><td>3</td><td>1</td><td>1</td><td>2.0</td><td>null</td><td>0.013986013986013986</td><td>2025-09-05T18:25:36.341Z</td></tr><tr><td>2023-10-01</td><td>2023</td><td>10</td><td>5</td><td>52.0</td><td>380</td><td>0</td><td>51.5</td><td>3</td><td>1</td><td>1</td><td>0.5</td><td>null</td><td>0.009708737864077669</td><td>2025-09-05T18:25:36.341Z</td></tr><tr><td>2023-11-01</td><td>2023</td><td>11</td><td>1</td><td>59.9</td><td>600</td><td>0</td><td>59.9</td><td>4</td><td>1</td><td>1</td><td>0.0</td><td>null</td><td>0.0</td><td>2025-09-05T18:25:36.341Z</td></tr><tr><td>2023-11-01</td><td>2023</td><td>11</td><td>2</td><td>169.9</td><td>300</td><td>0</td><td>169.9</td><td>4</td><td>1</td><td>1</td><td>0.0</td><td>null</td><td>0.0</td><td>2025-09-05T18:25:36.341Z</td></tr><tr><td>2023-11-01</td><td>2023</td><td>11</td><td>3</td><td>310.0</td><td>350</td><td>0</td><td>310.0</td><td>4</td><td>1</td><td>1</td><td>0.0</td><td>null</td><td>0.0</td><td>2025-09-05T18:25:36.341Z</td></tr><tr><td>2023-11-01</td><td>2023</td><td>11</td><td>4</td><td>150.0</td><td>550</td><td>0</td><td>150.0</td><td>4</td><td>1</td><td>1</td><td>0.0</td><td>null</td><td>0.0</td><td>2025-09-05T18:25:36.341Z</td></tr><tr><td>2023-11-01</td><td>2023</td><td>11</td><td>5</td><td>55.0</td><td>480</td><td>0</td><td>55.0</td><td>4</td><td>1</td><td>1</td><td>0.0</td><td>null</td><td>0.0</td><td>2025-09-05T18:25:36.341Z</td></tr><tr><td>2023-12-01</td><td>2023</td><td>12</td><td>1</td><td>60.0</td><td>550</td><td>0</td><td>59.0</td><td>3</td><td>1</td><td>1</td><td>1.0</td><td>null</td><td>0.01694915254237288</td><td>2025-09-05T18:25:36.341Z</td></tr><tr><td>2023-12-01</td><td>2023</td><td>12</td><td>2</td><td>170.0</td><td>280</td><td>0</td><td>168.0</td><td>3</td><td>1</td><td>1</td><td>2.0</td><td>null</td><td>0.011904761904761904</td><td>2025-09-05T18:25:36.341Z</td></tr><tr><td>2023-12-01</td><td>2023</td><td>12</td><td>3</td><td>320.0</td><td>300</td><td>0</td><td>315.0</td><td>3</td><td>1</td><td>1</td><td>5.0</td><td>null</td><td>0.015873015873015872</td><td>2025-09-05T18:25:36.341Z</td></tr><tr><td>2023-12-01</td><td>2023</td><td>12</td><td>4</td><td>155.0</td><td>480</td><td>0</td><td>153.0</td><td>3</td><td>1</td><td>1</td><td>2.0</td><td>null</td><td>0.013071895424836602</td><td>2025-09-05T18:25:36.341Z</td></tr><tr><td>2023-12-01</td><td>2023</td><td>12</td><td>5</td><td>58.0</td><td>450</td><td>0</td><td>57.5</td><td>3</td><td>1</td><td>1</td><td>0.5</td><td>null</td><td>0.008695652173913044</td><td>2025-09-05T18:25:36.341Z</td></tr><tr><td>2024-01-01</td><td>2024</td><td>1</td><td>1</td><td>50.0</td><td>200</td><td>800</td><td>49.0</td><td>1</td><td>0</td><td>0</td><td>1.0</td><td>0.25</td><td>0.02040816326530612</td><td>2025-09-05T18:25:36.341Z</td></tr><tr><td>2024-01-01</td><td>2024</td><td>1</td><td>2</td><td>155.0</td><td>100</td><td>700</td><td>152.0</td><td>1</td><td>0</td><td>0</td><td>3.0</td><td>0.14285714285714285</td><td>0.019736842105263157</td><td>2025-09-05T18:25:36.341Z</td></tr><tr><td>2024-01-01</td><td>2024</td><td>1</td><td>3</td><td>260.0</td><td>80</td><td>550</td><td>258.0</td><td>1</td><td>0</td><td>0</td><td>2.0</td><td>0.14545454545454545</td><td>0.007751937984496124</td><td>2025-09-05T18:25:36.341Z</td></tr><tr><td>2024-01-01</td><td>2024</td><td>1</td><td>4</td><td>105.0</td><td>90</td><td>950</td><td>103.0</td><td>1</td><td>0</td><td>0</td><td>2.0</td><td>0.09473684210526316</td><td>0.019417475728155338</td><td>2025-09-05T18:25:36.341Z</td></tr><tr><td>2024-01-01</td><td>2024</td><td>1</td><td>5</td><td>42.0</td><td>160</td><td>800</td><td>41.0</td><td>1</td><td>0</td><td>0</td><td>1.0</td><td>0.2</td><td>0.024390243902439025</td><td>2025-09-05T18:25:36.341Z</td></tr><tr><td>2024-02-01</td><td>2024</td><td>2</td><td>1</td><td>51.0</td><td>190</td><td>610</td><td>50.0</td><td>1</td><td>0</td><td>0</td><td>1.0</td><td>0.3114754098360656</td><td>0.02</td><td>2025-09-05T18:25:36.341Z</td></tr><tr><td>2024-02-01</td><td>2024</td><td>2</td><td>2</td><td>150.0</td><td>120</td><td>580</td><td>151.0</td><td>1</td><td>0</td><td>0</td><td>-1.0</td><td>0.20689655172413793</td><td>-0.006622516556291391</td><td>2025-09-05T18:25:36.341Z</td></tr><tr><td>2024-02-01</td><td>2024</td><td>2</td><td>3</td><td>265.0</td><td>90</td><td>460</td><td>263.0</td><td>1</td><td>0</td><td>0</td><td>2.0</td><td>0.1956521739130435</td><td>0.0076045627376425855</td><td>2025-09-05T18:25:36.341Z</td></tr><tr><td>2024-02-01</td><td>2024</td><td>2</td><td>4</td><td>110.0</td><td>100</td><td>850</td><td>108.0</td><td>1</td><td>0</td><td>0</td><td>2.0</td><td>0.11764705882352941</td><td>0.018518518518518517</td><td>2025-09-05T18:25:36.341Z</td></tr><tr><td>2024-02-01</td><td>2024</td><td>2</td><td>5</td><td>43.0</td><td>140</td><td>660</td><td>42.0</td><td>1</td><td>0</td><td>0</td><td>1.0</td><td>0.21212121212121213</td><td>0.023809523809523808</td><td>2025-09-05T18:25:36.341Z</td></tr><tr><td>2024-03-01</td><td>2024</td><td>3</td><td>1</td><td>52.0</td><td>240</td><td>370</td><td>51.0</td><td>2</td><td>0</td><td>1</td><td>1.0</td><td>0.6486486486486487</td><td>0.0196078431372549</td><td>2025-09-05T18:25:36.341Z</td></tr><tr><td>2024-03-01</td><td>2024</td><td>3</td><td>2</td><td>153.0</td><td>140</td><td>440</td><td>152.0</td><td>2</td><td>0</td><td>0</td><td>1.0</td><td>0.3181818181818182</td><td>0.006578947368421052</td><td>2025-09-05T18:25:36.341Z</td></tr><tr><td>2024-03-01</td><td>2024</td><td>3</td><td>3</td><td>270.0</td><td>110</td><td>350</td><td>268.0</td><td>2</td><td>0</td><td>0</td><td>2.0</td><td>0.3142857142857143</td><td>0.007462686567164179</td><td>2025-09-05T18:25:36.341Z</td></tr><tr><td>2024-03-01</td><td>2024</td><td>3</td><td>4</td><td>115.0</td><td>130</td><td>720</td><td>113.0</td><td>2</td><td>0</td><td>0</td><td>2.0</td><td>0.18055555555555555</td><td>0.017699115044247787</td><td>2025-09-05T18:25:36.341Z</td></tr><tr><td>2024-03-01</td><td>2024</td><td>3</td><td>5</td><td>45.0</td><td>190</td><td>470</td><td>44.5</td><td>2</td><td>0</td><td>0</td><td>0.5</td><td>0.40425531914893614</td><td>0.011235955056179775</td><td>2025-09-05T18:25:36.341Z</td></tr><tr><td>2024-04-01</td><td>2024</td><td>4</td><td>1</td><td>53.0</td><td>260</td><td>110</td><td>52.0</td><td>2</td><td>0</td><td>1</td><td>1.0</td><td>2.3636363636363638</td><td>0.019230769230769232</td><td>2025-09-05T18:25:36.341Z</td></tr><tr><td>2024-04-01</td><td>2024</td><td>4</td><td>2</td><td>156.0</td><td>160</td><td>280</td><td>155.0</td><td>2</td><td>0</td><td>0</td><td>1.0</td><td>0.5714285714285714</td><td>0.0064516129032258064</td><td>2025-09-05T18:25:36.341Z</td></tr><tr><td>2024-04-01</td><td>2024</td><td>4</td><td>3</td><td>275.0</td><td>130</td><td>220</td><td>273.0</td><td>2</td><td>0</td><td>0</td><td>2.0</td><td>0.5909090909090909</td><td>0.007326007326007326</td><td>2025-09-05T18:25:36.341Z</td></tr><tr><td>2024-04-01</td><td>2024</td><td>4</td><td>4</td><td>120.0</td><td>150</td><td>570</td><td>118.0</td><td>2</td><td>0</td><td>0</td><td>2.0</td><td>0.2631578947368421</td><td>0.01694915254237288</td><td>2025-09-05T18:25:36.341Z</td></tr><tr><td>2024-04-01</td><td>2024</td><td>4</td><td>5</td><td>47.0</td><td>220</td><td>250</td><td>46.5</td><td>2</td><td>0</td><td>1</td><td>0.5</td><td>0.88</td><td>0.010752688172043012</td><td>2025-09-05T18:25:36.341Z</td></tr><tr><td>2024-05-01</td><td>2024</td><td>5</td><td>1</td><td>51.0</td><td>220</td><td>900</td><td>50.0</td><td>2</td><td>0</td><td>1</td><td>1.0</td><td>0.24444444444444444</td><td>0.02</td><td>2025-09-05T18:25:36.341Z</td></tr><tr><td>2024-05-01</td><td>2024</td><td>5</td><td>2</td><td>154.0</td><td>150</td><td>750</td><td>153.0</td><td>2</td><td>0</td><td>0</td><td>1.0</td><td>0.2</td><td>0.006535947712418301</td><td>2025-09-05T18:25:36.341Z</td></tr><tr><td>2024-05-01</td><td>2024</td><td>5</td><td>3</td><td>270.0</td><td>120</td><td>600</td><td>269.0</td><td>2</td><td>0</td><td>0</td><td>1.0</td><td>0.2</td><td>0.0037174721189591076</td><td>2025-09-05T18:25:36.341Z</td></tr><tr><td>2024-05-01</td><td>2024</td><td>5</td><td>4</td><td>125.0</td><td>190</td><td>380</td><td>123.0</td><td>2</td><td>0</td><td>0</td><td>2.0</td><td>0.5</td><td>0.016260162601626018</td><td>2025-09-05T18:25:36.341Z</td></tr><tr><td>2024-05-01</td><td>2024</td><td>5</td><td>5</td><td>46.0</td><td>200</td><td>850</td><td>45.0</td><td>2</td><td>0</td><td>0</td><td>1.0</td><td>0.23529411764705882</td><td>0.022222222222222223</td><td>2025-09-05T18:25:36.341Z</td></tr><tr><td>2024-06-01</td><td>2024</td><td>6</td><td>1</td><td>54.0</td><td>300</td><td>600</td><td>53.0</td><td>2</td><td>0</td><td>1</td><td>1.0</td><td>0.5</td><td>0.018867924528301886</td><td>2025-09-05T18:25:36.341Z</td></tr><tr><td>2024-06-01</td><td>2024</td><td>6</td><td>2</td><td>157.0</td><td>170</td><td>580</td><td>156.0</td><td>2</td><td>0</td><td>0</td><td>1.0</td><td>0.29310344827586204</td><td>0.00641025641025641</td><td>2025-09-05T18:25:36.341Z</td></tr><tr><td>2024-06-01</td><td>2024</td><td>6</td><td>3</td><td>280.0</td><td>140</td><td>460</td><td>278.0</td><td>2</td><td>0</td><td>0</td><td>2.0</td><td>0.30434782608695654</td><td>0.007194244604316547</td><td>2025-09-05T18:25:36.341Z</td></tr><tr><td>2024-06-01</td><td>2024</td><td>6</td><td>4</td><td>130.0</td><td>230</td><td>150</td><td>128.0</td><td>2</td><td>0</td><td>1</td><td>2.0</td><td>1.5333333333333334</td><td>0.015625</td><td>2025-09-05T18:25:36.341Z</td></tr><tr><td>2024-06-01</td><td>2024</td><td>6</td><td>5</td><td>48.0</td><td>240</td><td>610</td><td>47.5</td><td>2</td><td>0</td><td>1</td><td>0.5</td><td>0.39344262295081966</td><td>0.010526315789473684</td><td>2025-09-05T18:25:36.341Z</td></tr><tr><td>2024-07-01</td><td>2024</td><td>7</td><td>1</td><td>55.0</td><td>340</td><td>260</td><td>54.0</td><td>3</td><td>0</td><td>1</td><td>1.0</td><td>1.3076923076923077</td><td>0.018518518518518517</td><td>2025-09-05T18:25:36.341Z</td></tr><tr><td>2024-07-01</td><td>2024</td><td>7</td><td>2</td><td>160.0</td><td>200</td><td>380</td><td>159.0</td><td>3</td><td>0</td><td>0</td><td>1.0</td><td>0.5263157894736842</td><td>0.006289308176100629</td><td>2025-09-05T18:25:36.341Z</td></tr><tr><td>2024-07-01</td><td>2024</td><td>7</td><td>3</td><td>290.0</td><td>170</td><td>290</td><td>288.0</td><td>3</td><td>0</td><td>0</td><td>2.0</td><td>0.5862068965517241</td><td>0.006944444444444444</td><td>2025-09-05T18:25:36.341Z</td></tr><tr><td>2024-07-01</td><td>2024</td><td>7</td><td>4</td><td>135.0</td><td>290</td><td>850</td><td>133.0</td><td>3</td><td>0</td><td>1</td><td>2.0</td><td>0.3411764705882353</td><td>0.015037593984962405</td><td>2025-09-05T18:25:36.341Z</td></tr><tr><td>2024-07-01</td><td>2024</td><td>7</td><td>5</td><td>50.0</td><td>290</td><td>320</td><td>49.5</td><td>3</td><td>0</td><td>1</td><td>0.5</td><td>0.90625</td><td>0.010101010101010102</td><td>2025-09-05T18:25:36.341Z</td></tr><tr><td>2024-08-01</td><td>2024</td><td>8</td><td>1</td><td>53.0</td><td>310</td><td>950</td><td>52.0</td><td>3</td><td>0</td><td>1</td><td>1.0</td><td>0.3263157894736842</td><td>0.019230769230769232</td><td>2025-09-05T18:25:36.341Z</td></tr><tr><td>2024-08-01</td><td>2024</td><td>8</td><td>2</td><td>158.0</td><td>190</td><td>190</td><td>157.0</td><td>3</td><td>0</td><td>0</td><td>1.0</td><td>1.0</td><td>0.006369426751592357</td><td>2025-09-05T18:25:36.341Z</td></tr><tr><td>2024-08-01</td><td>2024</td><td>8</td><td>3</td><td>285.0</td><td>160</td><td>130</td><td>283.0</td><td>3</td><td>0</td><td>0</td><td>2.0</td><td>1.2307692307692308</td><td>0.007067137809187279</td><td>2025-09-05T18:25:36.341Z</td></tr><tr><td>2024-08-01</td><td>2024</td><td>8</td><td>4</td><td>140.0</td><td>320</td><td>530</td><td>138.0</td><td>3</td><td>0</td><td>1</td><td>2.0</td><td>0.6037735849056604</td><td>0.014492753623188406</td><td>2025-09-05T18:25:36.341Z</td></tr><tr><td>2024-08-01</td><td>2024</td><td>8</td><td>5</td><td>49.0</td><td>270</td><td>50</td><td>48.5</td><td>3</td><td>1</td><td>1</td><td>0.5</td><td>5.4</td><td>0.010309278350515464</td><td>2025-09-05T18:25:36.341Z</td></tr><tr><td>2024-09-01</td><td>2024</td><td>9</td><td>1</td><td>56.0</td><td>380</td><td>570</td><td>55.0</td><td>3</td><td>0</td><td>1</td><td>1.0</td><td>0.6666666666666666</td><td>0.01818181818181818</td><td>2025-09-05T18:25:36.341Z</td></tr><tr><td>2024-09-01</td><td>2024</td><td>9</td><td>2</td><td>162.0</td><td>230</td><td>0</td><td>161.0</td><td>3</td><td>1</td><td>1</td><td>1.0</td><td>null</td><td>0.006211180124223602</td><td>2025-09-05T18:25:36.341Z</td></tr><tr><td>2024-09-01</td><td>2024</td><td>9</td><td>3</td><td>300.0</td><td>200</td><td>0</td><td>298.0</td><td>3</td><td>1</td><td>0</td><td>2.0</td><td>null</td><td>0.006711409395973154</td><td>2025-09-05T18:25:36.341Z</td></tr><tr><td>2024-09-01</td><td>2024</td><td>9</td><td>4</td><td>145.0</td><td>360</td><td>170</td><td>143.0</td><td>3</td><td>0</td><td>1</td><td>2.0</td><td>2.1176470588235294</td><td>0.013986013986013986</td><td>2025-09-05T18:25:36.341Z</td></tr><tr><td>2024-09-01</td><td>2024</td><td>9</td><td>5</td><td>52.0</td><td>330</td><td>0</td><td>51.5</td><td>3</td><td>1</td><td>1</td><td>0.5</td><td>null</td><td>0.009708737864077669</td><td>2025-09-05T18:25:36.341Z</td></tr><tr><td>2024-10-01</td><td>2024</td><td>10</td><td>1</td><td>59.0</td><td>480</td><td>90</td><td>58.0</td><td>3</td><td>1</td><td>1</td><td>1.0</td><td>5.333333333333333</td><td>0.017241379310344827</td><td>2025-09-05T18:25:36.341Z</td></tr><tr><td>2024-10-01</td><td>2024</td><td>10</td><td>2</td><td>168.0</td><td>260</td><td>0</td><td>166.0</td><td>3</td><td>1</td><td>1</td><td>2.0</td><td>null</td><td>0.012048192771084338</td><td>2025-09-05T18:25:36.341Z</td></tr><tr><td>2024-10-01</td><td>2024</td><td>10</td><td>3</td><td>310.0</td><td>260</td><td>0</td><td>308.0</td><td>3</td><td>1</td><td>1</td><td>2.0</td><td>null</td><td>0.006493506493506494</td><td>2025-09-05T18:25:36.341Z</td></tr><tr><td>2024-10-01</td><td>2024</td><td>10</td><td>4</td><td>150.0</td><td>410</td><td>0</td><td>148.0</td><td>3</td><td>1</td><td>1</td><td>2.0</td><td>null</td><td>0.013513513513513514</td><td>2025-09-05T18:25:36.341Z</td></tr><tr><td>2024-10-01</td><td>2024</td><td>10</td><td>5</td><td>55.0</td><td>400</td><td>0</td><td>54.5</td><td>3</td><td>1</td><td>1</td><td>0.5</td><td>null</td><td>0.009174311926605505</td><td>2025-09-05T18:25:36.341Z</td></tr><tr><td>2024-11-01</td><td>2024</td><td>11</td><td>1</td><td>62.0</td><td>650</td><td>0</td><td>62.0</td><td>4</td><td>1</td><td>1</td><td>0.0</td><td>null</td><td>0.0</td><td>2025-09-05T18:25:36.341Z</td></tr><tr><td>2024-11-01</td><td>2024</td><td>11</td><td>2</td><td>175.0</td><td>320</td><td>0</td><td>175.0</td><td>4</td><td>1</td><td>1</td><td>0.0</td><td>null</td><td>0.0</td><td>2025-09-05T18:25:36.341Z</td></tr><tr><td>2024-11-01</td><td>2024</td><td>11</td><td>3</td><td>330.0</td><td>360</td><td>0</td><td>330.0</td><td>4</td><td>1</td><td>1</td><td>0.0</td><td>null</td><td>0.0</td><td>2025-09-05T18:25:36.341Z</td></tr><tr><td>2024-11-01</td><td>2024</td><td>11</td><td>4</td><td>155.0</td><td>560</td><td>0</td><td>155.0</td><td>4</td><td>1</td><td>1</td><td>0.0</td><td>null</td><td>0.0</td><td>2025-09-05T18:25:36.341Z</td></tr><tr><td>2024-11-01</td><td>2024</td><td>11</td><td>5</td><td>58.0</td><td>500</td><td>0</td><td>58.0</td><td>4</td><td>1</td><td>1</td><td>0.0</td><td>null</td><td>0.0</td><td>2025-09-05T18:25:36.341Z</td></tr><tr><td>2024-12-01</td><td>2024</td><td>12</td><td>1</td><td>63.0</td><td>580</td><td>0</td><td>61.0</td><td>3</td><td>1</td><td>1</td><td>2.0</td><td>null</td><td>0.03278688524590164</td><td>2025-09-05T18:25:36.341Z</td></tr><tr><td>2024-12-01</td><td>2024</td><td>12</td><td>2</td><td>176.0</td><td>300</td><td>0</td><td>174.0</td><td>3</td><td>1</td><td>1</td><td>2.0</td><td>null</td><td>0.011494252873563218</td><td>2025-09-05T18:25:36.341Z</td></tr><tr><td>2024-12-01</td><td>2024</td><td>12</td><td>3</td><td>340.0</td><td>310</td><td>0</td><td>335.0</td><td>3</td><td>1</td><td>1</td><td>5.0</td><td>null</td><td>0.014925373134328358</td><td>2025-09-05T18:25:36.341Z</td></tr><tr><td>2024-12-01</td><td>2024</td><td>12</td><td>4</td><td>160.0</td><td>500</td><td>0</td><td>158.0</td><td>3</td><td>1</td><td>1</td><td>2.0</td><td>null</td><td>0.012658227848101266</td><td>2025-09-05T18:25:36.341Z</td></tr><tr><td>2024-12-01</td><td>2024</td><td>12</td><td>5</td><td>60.0</td><td>470</td><td>0</td><td>59.5</td><td>3</td><td>1</td><td>1</td><td>0.5</td><td>null</td><td>0.008403361344537815</td><td>2025-09-05T18:25:36.341Z</td></tr></tbody></table></div>"
      ]
     },
     "metadata": {
      "application/vnd.databricks.v1+output": {
       "addedWidgets": {},
       "aggData": [],
       "aggError": "",
       "aggOverflow": false,
       "aggSchema": [],
       "aggSeriesLimitReached": false,
       "aggType": "",
       "arguments": {},
       "columnCustomDisplayInfos": {},
       "data": [
        [
         "2023-01-01",
         2023,
         1,
         1,
         49.9,
         180,
         1200,
         48.5,
         1,
         0,
         0,
         1.3999999999999986,
         0.15,
         0.02886597938144327,
         "2025-09-05T18:25:36.341Z"
        ],
        [
         "2023-01-01",
         2023,
         1,
         2,
         149.9,
         90,
         600,
         155.0,
         1,
         0,
         0,
         -5.099999999999994,
         0.15,
         -0.03290322580645157,
         "2025-09-05T18:25:36.341Z"
        ],
        [
         "2023-01-01",
         2023,
         1,
         3,
         249.9,
         75,
         450,
         255.0,
         1,
         0,
         0,
         -5.099999999999994,
         0.16666666666666666,
         -0.019999999999999976,
         "2025-09-05T18:25:36.341Z"
        ],
        [
         "2023-01-01",
         2023,
         1,
         4,
         99.9,
         80,
         900,
         105.0,
         1,
         0,
         0,
         -5.099999999999994,
         0.08888888888888889,
         -0.048571428571428515,
         "2025-09-05T18:25:36.341Z"
        ],
        [
         "2023-01-01",
         2023,
         1,
         5,
         39.9,
         150,
         700,
         42.0,
         1,
         0,
         0,
         -2.1000000000000014,
         0.21428571428571427,
         -0.05000000000000003,
         "2025-09-05T18:25:36.341Z"
        ],
        [
         "2023-02-01",
         2023,
         2,
         1,
         51.5,
         160,
         1020,
         49.0,
         1,
         0,
         0,
         2.5,
         0.1568627450980392,
         0.05102040816326531,
         "2025-09-05T18:25:36.341Z"
        ],
        [
         "2023-02-01",
         2023,
         2,
         2,
         145.0,
         110,
         490,
         148.0,
         1,
         0,
         0,
         -3.0,
         0.22448979591836735,
         -0.02027027027027027,
         "2025-09-05T18:25:36.341Z"
        ],
        [
         "2023-02-01",
         2023,
         2,
         3,
         255.0,
         85,
         365,
         250.0,
         1,
         0,
         0,
         5.0,
         0.2328767123287671,
         0.02,
         "2025-09-05T18:25:36.341Z"
        ],
        [
         "2023-02-01",
         2023,
         2,
         4,
         105.0,
         90,
         810,
         102.5,
         1,
         0,
         0,
         2.5,
         0.1111111111111111,
         0.024390243902439025,
         "2025-09-05T18:25:36.341Z"
        ],
        [
         "2023-02-01",
         2023,
         2,
         5,
         41.0,
         130,
         570,
         40.5,
         1,
         0,
         0,
         0.5,
         0.22807017543859648,
         0.012345679012345678,
         "2025-09-05T18:25:36.341Z"
        ],
        [
         "2023-03-01",
         2023,
         3,
         1,
         50.0,
         220,
         800,
         50.5,
         2,
         0,
         1,
         -0.5,
         0.275,
         -0.009900990099009901,
         "2025-09-05T18:25:36.341Z"
        ],
        [
         "2023-03-01",
         2023,
         3,
         2,
         148.5,
         130,
         360,
         150.0,
         2,
         0,
         0,
         -1.5,
         0.3611111111111111,
         -0.01,
         "2025-09-05T18:25:36.341Z"
        ],
        [
         "2023-03-01",
         2023,
         3,
         3,
         259.0,
         100,
         265,
         258.0,
         2,
         0,
         0,
         1.0,
         0.37735849056603776,
         0.003875968992248062,
         "2025-09-05T18:25:36.341Z"
        ],
        [
         "2023-03-01",
         2023,
         3,
         4,
         110.0,
         120,
         690,
         108.0,
         2,
         0,
         0,
         2.0,
         0.17391304347826086,
         0.018518518518518517,
         "2025-09-05T18:25:36.341Z"
        ],
        [
         "2023-03-01",
         2023,
         3,
         5,
         43.0,
         180,
         390,
         42.5,
         2,
         0,
         0,
         0.5,
         0.46153846153846156,
         0.011764705882352941,
         "2025-09-05T18:25:36.341Z"
        ],
        [
         "2023-04-01",
         2023,
         4,
         1,
         52.0,
         250,
         550,
         51.2,
         2,
         0,
         1,
         0.7999999999999972,
         0.45454545454545453,
         0.015624999999999944,
         "2025-09-05T18:25:36.341Z"
        ],
        [
         "2023-04-01",
         2023,
         4,
         2,
         150.0,
         150,
         210,
         152.0,
         2,
         0,
         0,
         -2.0,
         0.7142857142857143,
         -0.013157894736842105,
         "2025-09-05T18:25:36.341Z"
        ],
        [
         "2023-04-01",
         2023,
         4,
         3,
         265.0,
         120,
         145,
         263.0,
         2,
         0,
         0,
         2.0,
         0.8275862068965517,
         0.0076045627376425855,
         "2025-09-05T18:25:36.341Z"
        ],
        [
         "2023-04-01",
         2023,
         4,
         4,
         115.0,
         140,
         550,
         113.0,
         2,
         0,
         0,
         2.0,
         0.2545454545454545,
         0.017699115044247787,
         "2025-09-05T18:25:36.341Z"
        ],
        [
         "2023-04-01",
         2023,
         4,
         5,
         45.0,
         210,
         180,
         44.5,
         2,
         0,
         1,
         0.5,
         1.1666666666666667,
         0.011235955056179775,
         "2025-09-05T18:25:36.341Z"
        ],
        [
         "2023-05-01",
         2023,
         5,
         1,
         50.5,
         210,
         340,
         49.8,
         2,
         0,
         1,
         0.7000000000000028,
         0.6176470588235294,
         0.014056224899598452,
         "2025-09-05T18:25:36.341Z"
        ],
        [
         "2023-05-01",
         2023,
         5,
         2,
         152.0,
         140,
         800,
         150.0,
         2,
         0,
         0,
         2.0,
         0.175,
         0.013333333333333334,
         "2025-09-05T18:25:36.341Z"
        ],
        [
         "2023-05-01",
         2023,
         5,
         3,
         260.0,
         110,
         650,
         259.0,
         2,
         0,
         0,
         1.0,
         0.16923076923076924,
         0.003861003861003861,
         "2025-09-05T18:25:36.341Z"
        ],
        [
         "2023-05-01",
         2023,
         5,
         4,
         120.0,
         180,
         370,
         118.0,
         2,
         0,
         0,
         2.0,
         0.4864864864864865,
         0.01694915254237288,
         "2025-09-05T18:25:36.341Z"
        ],
        [
         "2023-05-01",
         2023,
         5,
         5,
         44.0,
         190,
         900,
         43.8,
         2,
         0,
         0,
         0.20000000000000284,
         0.2111111111111111,
         0.004566210045662165,
         "2025-09-05T18:25:36.341Z"
        ],
        [
         "2023-06-01",
         2023,
         6,
         1,
         53.0,
         280,
         60,
         51.9,
         2,
         1,
         1,
         1.1000000000000014,
         4.666666666666667,
         0.021194605009633938,
         "2025-09-05T18:25:36.341Z"
        ],
        [
         "2023-06-01",
         2023,
         6,
         2,
         155.0,
         160,
         640,
         154.0,
         2,
         0,
         0,
         1.0,
         0.25,
         0.006493506493506494,
         "2025-09-05T18:25:36.341Z"
        ],
        [
         "2023-06-01",
         2023,
         6,
         3,
         270.0,
         130,
         520,
         268.0,
         2,
         0,
         0,
         2.0,
         0.25,
         0.007462686567164179,
         "2025-09-05T18:25:36.341Z"
        ],
        [
         "2023-06-01",
         2023,
         6,
         4,
         125.0,
         220,
         150,
         123.0,
         2,
         0,
         1,
         2.0,
         1.4666666666666666,
         0.016260162601626018,
         "2025-09-05T18:25:36.341Z"
        ],
        [
         "2023-06-01",
         2023,
         6,
         5,
         46.0,
         230,
         670,
         45.5,
         2,
         0,
         1,
         0.5,
         0.34328358208955223,
         0.01098901098901099,
         "2025-09-05T18:25:36.341Z"
        ],
        [
         "2023-07-01",
         2023,
         7,
         1,
         54.0,
         320,
         800,
         53.5,
         3,
         0,
         1,
         0.5,
         0.4,
         0.009345794392523364,
         "2025-09-05T18:25:36.341Z"
        ],
        [
         "2023-07-01",
         2023,
         7,
         2,
         158.0,
         190,
         450,
         157.0,
         3,
         0,
         0,
         1.0,
         0.4222222222222222,
         0.006369426751592357,
         "2025-09-05T18:25:36.341Z"
        ],
        [
         "2023-07-01",
         2023,
         7,
         3,
         280.0,
         160,
         360,
         278.0,
         3,
         0,
         0,
         2.0,
         0.4444444444444444,
         0.007194244604316547,
         "2025-09-05T18:25:36.341Z"
        ],
        [
         "2023-07-01",
         2023,
         7,
         4,
         130.0,
         280,
         800,
         128.0,
         3,
         0,
         1,
         2.0,
         0.35,
         0.015625,
         "2025-09-05T18:25:36.341Z"
        ],
        [
         "2023-07-01",
         2023,
         7,
         5,
         48.0,
         280,
         390,
         47.5,
         3,
         0,
         1,
         0.5,
         0.717948717948718,
         0.010526315789473684,
         "2025-09-05T18:25:36.341Z"
        ],
        [
         "2023-08-01",
         2023,
         8,
         1,
         52.5,
         290,
         480,
         51.9,
         3,
         0,
         1,
         0.6000000000000014,
         0.6041666666666666,
         0.011560693641618524,
         "2025-09-05T18:25:36.341Z"
        ],
        [
         "2023-08-01",
         2023,
         8,
         2,
         156.0,
         180,
         270,
         155.0,
         3,
         0,
         0,
         1.0,
         0.6666666666666666,
         0.0064516129032258064,
         "2025-09-05T18:25:36.341Z"
        ],
        [
         "2023-08-01",
         2023,
         8,
         3,
         275.0,
         150,
         210,
         273.0,
         3,
         0,
         0,
         2.0,
         0.7142857142857143,
         0.007326007326007326,
         "2025-09-05T18:25:36.341Z"
        ],
        [
         "2023-08-01",
         2023,
         8,
         4,
         135.0,
         310,
         490,
         133.0,
         3,
         0,
         1,
         2.0,
         0.6326530612244898,
         0.015037593984962405,
         "2025-09-05T18:25:36.341Z"
        ],
        [
         "2023-08-01",
         2023,
         8,
         5,
         47.0,
         260,
         130,
         46.5,
         3,
         0,
         1,
         0.5,
         2.0,
         0.010752688172043012,
         "2025-09-05T18:25:36.341Z"
        ],
        [
         "2023-09-01",
         2023,
         9,
         1,
         55.0,
         350,
         190,
         54.2,
         3,
         0,
         1,
         0.7999999999999972,
         1.8421052631578947,
         0.014760147601475962,
         "2025-09-05T18:25:36.341Z"
        ],
        [
         "2023-09-01",
         2023,
         9,
         2,
         160.0,
         220,
         50,
         159.0,
         3,
         1,
         1,
         1.0,
         4.4,
         0.006289308176100629,
         "2025-09-05T18:25:36.341Z"
        ],
        [
         "2023-09-01",
         2023,
         9,
         3,
         290.0,
         190,
         20,
         288.0,
         3,
         1,
         0,
         2.0,
         9.5,
         0.006944444444444444,
         "2025-09-05T18:25:36.341Z"
        ],
        [
         "2023-09-01",
         2023,
         9,
         4,
         140.0,
         350,
         140,
         138.0,
         3,
         0,
         1,
         2.0,
         2.5,
         0.014492753623188406,
         "2025-09-05T18:25:36.341Z"
        ],
        [
         "2023-09-01",
         2023,
         9,
         5,
         49.9,
         320,
         0,
         49.5,
         3,
         1,
         1,
         0.3999999999999986,
         null,
         0.008080808080808051,
         "2025-09-05T18:25:36.341Z"
        ],
        [
         "2023-10-01",
         2023,
         10,
         1,
         58.0,
         450,
         100,
         56.8,
         3,
         0,
         1,
         1.2000000000000028,
         4.5,
         0.021126760563380333,
         "2025-09-05T18:25:36.341Z"
        ],
        [
         "2023-10-01",
         2023,
         10,
         2,
         165.0,
         250,
         0,
         164.0,
         3,
         1,
         1,
         1.0,
         null,
         0.006097560975609756,
         "2025-09-05T18:25:36.341Z"
        ],
        [
         "2023-10-01",
         2023,
         10,
         3,
         300.0,
         250,
         0,
         298.0,
         3,
         1,
         1,
         2.0,
         null,
         0.006711409395973154,
         "2025-09-05T18:25:36.341Z"
        ],
        [
         "2023-10-01",
         2023,
         10,
         4,
         145.0,
         400,
         0,
         143.0,
         3,
         1,
         1,
         2.0,
         null,
         0.013986013986013986,
         "2025-09-05T18:25:36.341Z"
        ],
        [
         "2023-10-01",
         2023,
         10,
         5,
         52.0,
         380,
         0,
         51.5,
         3,
         1,
         1,
         0.5,
         null,
         0.009708737864077669,
         "2025-09-05T18:25:36.341Z"
        ],
        [
         "2023-11-01",
         2023,
         11,
         1,
         59.9,
         600,
         0,
         59.9,
         4,
         1,
         1,
         0.0,
         null,
         0.0,
         "2025-09-05T18:25:36.341Z"
        ],
        [
         "2023-11-01",
         2023,
         11,
         2,
         169.9,
         300,
         0,
         169.9,
         4,
         1,
         1,
         0.0,
         null,
         0.0,
         "2025-09-05T18:25:36.341Z"
        ],
        [
         "2023-11-01",
         2023,
         11,
         3,
         310.0,
         350,
         0,
         310.0,
         4,
         1,
         1,
         0.0,
         null,
         0.0,
         "2025-09-05T18:25:36.341Z"
        ],
        [
         "2023-11-01",
         2023,
         11,
         4,
         150.0,
         550,
         0,
         150.0,
         4,
         1,
         1,
         0.0,
         null,
         0.0,
         "2025-09-05T18:25:36.341Z"
        ],
        [
         "2023-11-01",
         2023,
         11,
         5,
         55.0,
         480,
         0,
         55.0,
         4,
         1,
         1,
         0.0,
         null,
         0.0,
         "2025-09-05T18:25:36.341Z"
        ],
        [
         "2023-12-01",
         2023,
         12,
         1,
         60.0,
         550,
         0,
         59.0,
         3,
         1,
         1,
         1.0,
         null,
         0.01694915254237288,
         "2025-09-05T18:25:36.341Z"
        ],
        [
         "2023-12-01",
         2023,
         12,
         2,
         170.0,
         280,
         0,
         168.0,
         3,
         1,
         1,
         2.0,
         null,
         0.011904761904761904,
         "2025-09-05T18:25:36.341Z"
        ],
        [
         "2023-12-01",
         2023,
         12,
         3,
         320.0,
         300,
         0,
         315.0,
         3,
         1,
         1,
         5.0,
         null,
         0.015873015873015872,
         "2025-09-05T18:25:36.341Z"
        ],
        [
         "2023-12-01",
         2023,
         12,
         4,
         155.0,
         480,
         0,
         153.0,
         3,
         1,
         1,
         2.0,
         null,
         0.013071895424836602,
         "2025-09-05T18:25:36.341Z"
        ],
        [
         "2023-12-01",
         2023,
         12,
         5,
         58.0,
         450,
         0,
         57.5,
         3,
         1,
         1,
         0.5,
         null,
         0.008695652173913044,
         "2025-09-05T18:25:36.341Z"
        ],
        [
         "2024-01-01",
         2024,
         1,
         1,
         50.0,
         200,
         800,
         49.0,
         1,
         0,
         0,
         1.0,
         0.25,
         0.02040816326530612,
         "2025-09-05T18:25:36.341Z"
        ],
        [
         "2024-01-01",
         2024,
         1,
         2,
         155.0,
         100,
         700,
         152.0,
         1,
         0,
         0,
         3.0,
         0.14285714285714285,
         0.019736842105263157,
         "2025-09-05T18:25:36.341Z"
        ],
        [
         "2024-01-01",
         2024,
         1,
         3,
         260.0,
         80,
         550,
         258.0,
         1,
         0,
         0,
         2.0,
         0.14545454545454545,
         0.007751937984496124,
         "2025-09-05T18:25:36.341Z"
        ],
        [
         "2024-01-01",
         2024,
         1,
         4,
         105.0,
         90,
         950,
         103.0,
         1,
         0,
         0,
         2.0,
         0.09473684210526316,
         0.019417475728155338,
         "2025-09-05T18:25:36.341Z"
        ],
        [
         "2024-01-01",
         2024,
         1,
         5,
         42.0,
         160,
         800,
         41.0,
         1,
         0,
         0,
         1.0,
         0.2,
         0.024390243902439025,
         "2025-09-05T18:25:36.341Z"
        ],
        [
         "2024-02-01",
         2024,
         2,
         1,
         51.0,
         190,
         610,
         50.0,
         1,
         0,
         0,
         1.0,
         0.3114754098360656,
         0.02,
         "2025-09-05T18:25:36.341Z"
        ],
        [
         "2024-02-01",
         2024,
         2,
         2,
         150.0,
         120,
         580,
         151.0,
         1,
         0,
         0,
         -1.0,
         0.20689655172413793,
         -0.006622516556291391,
         "2025-09-05T18:25:36.341Z"
        ],
        [
         "2024-02-01",
         2024,
         2,
         3,
         265.0,
         90,
         460,
         263.0,
         1,
         0,
         0,
         2.0,
         0.1956521739130435,
         0.0076045627376425855,
         "2025-09-05T18:25:36.341Z"
        ],
        [
         "2024-02-01",
         2024,
         2,
         4,
         110.0,
         100,
         850,
         108.0,
         1,
         0,
         0,
         2.0,
         0.11764705882352941,
         0.018518518518518517,
         "2025-09-05T18:25:36.341Z"
        ],
        [
         "2024-02-01",
         2024,
         2,
         5,
         43.0,
         140,
         660,
         42.0,
         1,
         0,
         0,
         1.0,
         0.21212121212121213,
         0.023809523809523808,
         "2025-09-05T18:25:36.341Z"
        ],
        [
         "2024-03-01",
         2024,
         3,
         1,
         52.0,
         240,
         370,
         51.0,
         2,
         0,
         1,
         1.0,
         0.6486486486486487,
         0.0196078431372549,
         "2025-09-05T18:25:36.341Z"
        ],
        [
         "2024-03-01",
         2024,
         3,
         2,
         153.0,
         140,
         440,
         152.0,
         2,
         0,
         0,
         1.0,
         0.3181818181818182,
         0.006578947368421052,
         "2025-09-05T18:25:36.341Z"
        ],
        [
         "2024-03-01",
         2024,
         3,
         3,
         270.0,
         110,
         350,
         268.0,
         2,
         0,
         0,
         2.0,
         0.3142857142857143,
         0.007462686567164179,
         "2025-09-05T18:25:36.341Z"
        ],
        [
         "2024-03-01",
         2024,
         3,
         4,
         115.0,
         130,
         720,
         113.0,
         2,
         0,
         0,
         2.0,
         0.18055555555555555,
         0.017699115044247787,
         "2025-09-05T18:25:36.341Z"
        ],
        [
         "2024-03-01",
         2024,
         3,
         5,
         45.0,
         190,
         470,
         44.5,
         2,
         0,
         0,
         0.5,
         0.40425531914893614,
         0.011235955056179775,
         "2025-09-05T18:25:36.341Z"
        ],
        [
         "2024-04-01",
         2024,
         4,
         1,
         53.0,
         260,
         110,
         52.0,
         2,
         0,
         1,
         1.0,
         2.3636363636363638,
         0.019230769230769232,
         "2025-09-05T18:25:36.341Z"
        ],
        [
         "2024-04-01",
         2024,
         4,
         2,
         156.0,
         160,
         280,
         155.0,
         2,
         0,
         0,
         1.0,
         0.5714285714285714,
         0.0064516129032258064,
         "2025-09-05T18:25:36.341Z"
        ],
        [
         "2024-04-01",
         2024,
         4,
         3,
         275.0,
         130,
         220,
         273.0,
         2,
         0,
         0,
         2.0,
         0.5909090909090909,
         0.007326007326007326,
         "2025-09-05T18:25:36.341Z"
        ],
        [
         "2024-04-01",
         2024,
         4,
         4,
         120.0,
         150,
         570,
         118.0,
         2,
         0,
         0,
         2.0,
         0.2631578947368421,
         0.01694915254237288,
         "2025-09-05T18:25:36.341Z"
        ],
        [
         "2024-04-01",
         2024,
         4,
         5,
         47.0,
         220,
         250,
         46.5,
         2,
         0,
         1,
         0.5,
         0.88,
         0.010752688172043012,
         "2025-09-05T18:25:36.341Z"
        ],
        [
         "2024-05-01",
         2024,
         5,
         1,
         51.0,
         220,
         900,
         50.0,
         2,
         0,
         1,
         1.0,
         0.24444444444444444,
         0.02,
         "2025-09-05T18:25:36.341Z"
        ],
        [
         "2024-05-01",
         2024,
         5,
         2,
         154.0,
         150,
         750,
         153.0,
         2,
         0,
         0,
         1.0,
         0.2,
         0.006535947712418301,
         "2025-09-05T18:25:36.341Z"
        ],
        [
         "2024-05-01",
         2024,
         5,
         3,
         270.0,
         120,
         600,
         269.0,
         2,
         0,
         0,
         1.0,
         0.2,
         0.0037174721189591076,
         "2025-09-05T18:25:36.341Z"
        ],
        [
         "2024-05-01",
         2024,
         5,
         4,
         125.0,
         190,
         380,
         123.0,
         2,
         0,
         0,
         2.0,
         0.5,
         0.016260162601626018,
         "2025-09-05T18:25:36.341Z"
        ],
        [
         "2024-05-01",
         2024,
         5,
         5,
         46.0,
         200,
         850,
         45.0,
         2,
         0,
         0,
         1.0,
         0.23529411764705882,
         0.022222222222222223,
         "2025-09-05T18:25:36.341Z"
        ],
        [
         "2024-06-01",
         2024,
         6,
         1,
         54.0,
         300,
         600,
         53.0,
         2,
         0,
         1,
         1.0,
         0.5,
         0.018867924528301886,
         "2025-09-05T18:25:36.341Z"
        ],
        [
         "2024-06-01",
         2024,
         6,
         2,
         157.0,
         170,
         580,
         156.0,
         2,
         0,
         0,
         1.0,
         0.29310344827586204,
         0.00641025641025641,
         "2025-09-05T18:25:36.341Z"
        ],
        [
         "2024-06-01",
         2024,
         6,
         3,
         280.0,
         140,
         460,
         278.0,
         2,
         0,
         0,
         2.0,
         0.30434782608695654,
         0.007194244604316547,
         "2025-09-05T18:25:36.341Z"
        ],
        [
         "2024-06-01",
         2024,
         6,
         4,
         130.0,
         230,
         150,
         128.0,
         2,
         0,
         1,
         2.0,
         1.5333333333333334,
         0.015625,
         "2025-09-05T18:25:36.341Z"
        ],
        [
         "2024-06-01",
         2024,
         6,
         5,
         48.0,
         240,
         610,
         47.5,
         2,
         0,
         1,
         0.5,
         0.39344262295081966,
         0.010526315789473684,
         "2025-09-05T18:25:36.341Z"
        ],
        [
         "2024-07-01",
         2024,
         7,
         1,
         55.0,
         340,
         260,
         54.0,
         3,
         0,
         1,
         1.0,
         1.3076923076923077,
         0.018518518518518517,
         "2025-09-05T18:25:36.341Z"
        ],
        [
         "2024-07-01",
         2024,
         7,
         2,
         160.0,
         200,
         380,
         159.0,
         3,
         0,
         0,
         1.0,
         0.5263157894736842,
         0.006289308176100629,
         "2025-09-05T18:25:36.341Z"
        ],
        [
         "2024-07-01",
         2024,
         7,
         3,
         290.0,
         170,
         290,
         288.0,
         3,
         0,
         0,
         2.0,
         0.5862068965517241,
         0.006944444444444444,
         "2025-09-05T18:25:36.341Z"
        ],
        [
         "2024-07-01",
         2024,
         7,
         4,
         135.0,
         290,
         850,
         133.0,
         3,
         0,
         1,
         2.0,
         0.3411764705882353,
         0.015037593984962405,
         "2025-09-05T18:25:36.341Z"
        ],
        [
         "2024-07-01",
         2024,
         7,
         5,
         50.0,
         290,
         320,
         49.5,
         3,
         0,
         1,
         0.5,
         0.90625,
         0.010101010101010102,
         "2025-09-05T18:25:36.341Z"
        ],
        [
         "2024-08-01",
         2024,
         8,
         1,
         53.0,
         310,
         950,
         52.0,
         3,
         0,
         1,
         1.0,
         0.3263157894736842,
         0.019230769230769232,
         "2025-09-05T18:25:36.341Z"
        ],
        [
         "2024-08-01",
         2024,
         8,
         2,
         158.0,
         190,
         190,
         157.0,
         3,
         0,
         0,
         1.0,
         1.0,
         0.006369426751592357,
         "2025-09-05T18:25:36.341Z"
        ],
        [
         "2024-08-01",
         2024,
         8,
         3,
         285.0,
         160,
         130,
         283.0,
         3,
         0,
         0,
         2.0,
         1.2307692307692308,
         0.007067137809187279,
         "2025-09-05T18:25:36.341Z"
        ],
        [
         "2024-08-01",
         2024,
         8,
         4,
         140.0,
         320,
         530,
         138.0,
         3,
         0,
         1,
         2.0,
         0.6037735849056604,
         0.014492753623188406,
         "2025-09-05T18:25:36.341Z"
        ],
        [
         "2024-08-01",
         2024,
         8,
         5,
         49.0,
         270,
         50,
         48.5,
         3,
         1,
         1,
         0.5,
         5.4,
         0.010309278350515464,
         "2025-09-05T18:25:36.341Z"
        ],
        [
         "2024-09-01",
         2024,
         9,
         1,
         56.0,
         380,
         570,
         55.0,
         3,
         0,
         1,
         1.0,
         0.6666666666666666,
         0.01818181818181818,
         "2025-09-05T18:25:36.341Z"
        ],
        [
         "2024-09-01",
         2024,
         9,
         2,
         162.0,
         230,
         0,
         161.0,
         3,
         1,
         1,
         1.0,
         null,
         0.006211180124223602,
         "2025-09-05T18:25:36.341Z"
        ],
        [
         "2024-09-01",
         2024,
         9,
         3,
         300.0,
         200,
         0,
         298.0,
         3,
         1,
         0,
         2.0,
         null,
         0.006711409395973154,
         "2025-09-05T18:25:36.341Z"
        ],
        [
         "2024-09-01",
         2024,
         9,
         4,
         145.0,
         360,
         170,
         143.0,
         3,
         0,
         1,
         2.0,
         2.1176470588235294,
         0.013986013986013986,
         "2025-09-05T18:25:36.341Z"
        ],
        [
         "2024-09-01",
         2024,
         9,
         5,
         52.0,
         330,
         0,
         51.5,
         3,
         1,
         1,
         0.5,
         null,
         0.009708737864077669,
         "2025-09-05T18:25:36.341Z"
        ],
        [
         "2024-10-01",
         2024,
         10,
         1,
         59.0,
         480,
         90,
         58.0,
         3,
         1,
         1,
         1.0,
         5.333333333333333,
         0.017241379310344827,
         "2025-09-05T18:25:36.341Z"
        ],
        [
         "2024-10-01",
         2024,
         10,
         2,
         168.0,
         260,
         0,
         166.0,
         3,
         1,
         1,
         2.0,
         null,
         0.012048192771084338,
         "2025-09-05T18:25:36.341Z"
        ],
        [
         "2024-10-01",
         2024,
         10,
         3,
         310.0,
         260,
         0,
         308.0,
         3,
         1,
         1,
         2.0,
         null,
         0.006493506493506494,
         "2025-09-05T18:25:36.341Z"
        ],
        [
         "2024-10-01",
         2024,
         10,
         4,
         150.0,
         410,
         0,
         148.0,
         3,
         1,
         1,
         2.0,
         null,
         0.013513513513513514,
         "2025-09-05T18:25:36.341Z"
        ],
        [
         "2024-10-01",
         2024,
         10,
         5,
         55.0,
         400,
         0,
         54.5,
         3,
         1,
         1,
         0.5,
         null,
         0.009174311926605505,
         "2025-09-05T18:25:36.341Z"
        ],
        [
         "2024-11-01",
         2024,
         11,
         1,
         62.0,
         650,
         0,
         62.0,
         4,
         1,
         1,
         0.0,
         null,
         0.0,
         "2025-09-05T18:25:36.341Z"
        ],
        [
         "2024-11-01",
         2024,
         11,
         2,
         175.0,
         320,
         0,
         175.0,
         4,
         1,
         1,
         0.0,
         null,
         0.0,
         "2025-09-05T18:25:36.341Z"
        ],
        [
         "2024-11-01",
         2024,
         11,
         3,
         330.0,
         360,
         0,
         330.0,
         4,
         1,
         1,
         0.0,
         null,
         0.0,
         "2025-09-05T18:25:36.341Z"
        ],
        [
         "2024-11-01",
         2024,
         11,
         4,
         155.0,
         560,
         0,
         155.0,
         4,
         1,
         1,
         0.0,
         null,
         0.0,
         "2025-09-05T18:25:36.341Z"
        ],
        [
         "2024-11-01",
         2024,
         11,
         5,
         58.0,
         500,
         0,
         58.0,
         4,
         1,
         1,
         0.0,
         null,
         0.0,
         "2025-09-05T18:25:36.341Z"
        ],
        [
         "2024-12-01",
         2024,
         12,
         1,
         63.0,
         580,
         0,
         61.0,
         3,
         1,
         1,
         2.0,
         null,
         0.03278688524590164,
         "2025-09-05T18:25:36.341Z"
        ],
        [
         "2024-12-01",
         2024,
         12,
         2,
         176.0,
         300,
         0,
         174.0,
         3,
         1,
         1,
         2.0,
         null,
         0.011494252873563218,
         "2025-09-05T18:25:36.341Z"
        ],
        [
         "2024-12-01",
         2024,
         12,
         3,
         340.0,
         310,
         0,
         335.0,
         3,
         1,
         1,
         5.0,
         null,
         0.014925373134328358,
         "2025-09-05T18:25:36.341Z"
        ],
        [
         "2024-12-01",
         2024,
         12,
         4,
         160.0,
         500,
         0,
         158.0,
         3,
         1,
         1,
         2.0,
         null,
         0.012658227848101266,
         "2025-09-05T18:25:36.341Z"
        ],
        [
         "2024-12-01",
         2024,
         12,
         5,
         60.0,
         470,
         0,
         59.5,
         3,
         1,
         1,
         0.5,
         null,
         0.008403361344537815,
         "2025-09-05T18:25:36.341Z"
        ]
       ],
       "datasetInfos": [
        {
         "name": "_sqldf",
         "schema": {
          "fields": [
           {
            "metadata": {
             "__detected_date_formats": "yyyy-M-d"
            },
            "name": "Data",
            "nullable": true,
            "type": "date"
           },
           {
            "metadata": {},
            "name": "ano",
            "nullable": true,
            "type": "integer"
           },
           {
            "metadata": {},
            "name": "mes",
            "nullable": true,
            "type": "integer"
           },
           {
            "metadata": {},
            "name": "produto_encoded",
            "nullable": true,
            "type": "integer"
           },
           {
            "metadata": {},
            "name": "preco_atual",
            "nullable": true,
            "type": "double"
           },
           {
            "metadata": {},
            "name": "demanda",
            "nullable": true,
            "type": "integer"
           },
           {
            "metadata": {},
            "name": "estoque",
            "nullable": true,
            "type": "integer"
           },
           {
            "metadata": {},
            "name": "preco_concorrencia",
            "nullable": true,
            "type": "double"
           },
           {
            "metadata": {},
            "name": "sazonalidade_encoded",
            "nullable": true,
            "type": "integer"
           },
           {
            "metadata": {},
            "name": "estoque_baixo",
            "nullable": true,
            "type": "integer"
           },
           {
            "metadata": {},
            "name": "demanda_alta",
            "nullable": true,
            "type": "integer"
           },
           {
            "metadata": {},
            "name": "diferenca_vs_concorrencia",
            "nullable": true,
            "type": "double"
           },
           {
            "metadata": {},
            "name": "taxa_rotatividade",
            "nullable": true,
            "type": "double"
           },
           {
            "metadata": {},
            "name": "percentual_diferenca_concorrencia",
            "nullable": true,
            "type": "double"
           },
           {
            "metadata": {},
            "name": "data_carga",
            "nullable": true,
            "type": "timestamp"
           }
          ],
          "type": "struct"
         },
         "tableIdentifier": null,
         "typeStr": "pyspark.sql.connect.dataframe.DataFrame"
        }
       ],
       "dbfsResultPath": null,
       "isJsonSchema": true,
       "metadata": {
        "createTempViewForImplicitDf": true,
        "dataframeName": "_sqldf",
        "executionCount": 17
       },
       "overflow": false,
       "plotOptions": {
        "customPlotOptions": {},
        "displayType": "table",
        "pivotAggregation": null,
        "pivotColumns": null,
        "xColumns": null,
        "yColumns": null
       },
       "removedWidgets": [],
       "schema": [
        {
         "metadata": "{\"__detected_date_formats\": \"yyyy-M-d\"}",
         "name": "Data",
         "type": "\"date\""
        },
        {
         "metadata": "{}",
         "name": "ano",
         "type": "\"integer\""
        },
        {
         "metadata": "{}",
         "name": "mes",
         "type": "\"integer\""
        },
        {
         "metadata": "{}",
         "name": "produto_encoded",
         "type": "\"integer\""
        },
        {
         "metadata": "{}",
         "name": "preco_atual",
         "type": "\"double\""
        },
        {
         "metadata": "{}",
         "name": "demanda",
         "type": "\"integer\""
        },
        {
         "metadata": "{}",
         "name": "estoque",
         "type": "\"integer\""
        },
        {
         "metadata": "{}",
         "name": "preco_concorrencia",
         "type": "\"double\""
        },
        {
         "metadata": "{}",
         "name": "sazonalidade_encoded",
         "type": "\"integer\""
        },
        {
         "metadata": "{}",
         "name": "estoque_baixo",
         "type": "\"integer\""
        },
        {
         "metadata": "{}",
         "name": "demanda_alta",
         "type": "\"integer\""
        },
        {
         "metadata": "{}",
         "name": "diferenca_vs_concorrencia",
         "type": "\"double\""
        },
        {
         "metadata": "{}",
         "name": "taxa_rotatividade",
         "type": "\"double\""
        },
        {
         "metadata": "{}",
         "name": "percentual_diferenca_concorrencia",
         "type": "\"double\""
        },
        {
         "metadata": "{}",
         "name": "data_carga",
         "type": "\"timestamp\""
        }
       ],
       "type": "table"
      }
     },
     "output_type": "display_data"
    }
   ],
   "source": [
    "%sql\n",
    "SELECT * FROM precificacao.db_precificacao.base_precificacao_gold;"
   ]
  },
  {
   "cell_type": "code",
   "execution_count": 0,
   "metadata": {
    "application/vnd.databricks.v1+cell": {
     "cellMetadata": {
      "byteLimit": 2048000,
      "implicitDf": true,
      "rowLimit": 10000
     },
     "inputWidgets": {},
     "nuid": "cdab5a7b-df33-4686-bfe7-78719c716320",
     "showTitle": false,
     "tableResultSettingsMap": {
      "0": {
       "dataGridStateBlob": "{\"version\":1,\"tableState\":{\"columnPinning\":{\"left\":[\"#row_number#\"],\"right\":[]},\"columnSizing\":{\"tableName\":175},\"columnVisibility\":{}},\"settings\":{\"columns\":{}},\"syncTimestamp\":1756843380203}",
       "filterBlob": null,
       "queryPlanFiltersBlob": null,
       "tableResultIndex": 0
      }
     },
     "title": ""
    }
   },
   "outputs": [
    {
     "output_type": "display_data",
     "data": {
      "text/html": [
       "<style scoped>\n",
       "  .table-result-container {\n",
       "    max-height: 300px;\n",
       "    overflow: auto;\n",
       "  }\n",
       "  table, th, td {\n",
       "    border: 1px solid black;\n",
       "    border-collapse: collapse;\n",
       "  }\n",
       "  th, td {\n",
       "    padding: 5px;\n",
       "  }\n",
       "  th {\n",
       "    text-align: left;\n",
       "  }\n",
       "</style><div class='table-result-container'><table class='table-result'><thead style='background-color: white'><tr><th>database</th><th>tableName</th><th>isTemporary</th></tr></thead><tbody><tr><td>db_precificacao</td><td>base_precificacao</td><td>false</td></tr><tr><td>db_precificacao</td><td>base_precificacao_gold</td><td>false</td></tr><tr><td></td><td>_sqldf</td><td>true</td></tr><tr><td></td><td>base_precificacao_silver</td><td>true</td></tr></tbody></table></div>"
      ]
     },
     "metadata": {
      "application/vnd.databricks.v1+output": {
       "addedWidgets": {},
       "aggData": [],
       "aggError": "",
       "aggOverflow": false,
       "aggSchema": [],
       "aggSeriesLimitReached": false,
       "aggType": "",
       "arguments": {},
       "columnCustomDisplayInfos": {},
       "data": [
        [
         "db_precificacao",
         "base_precificacao",
         false
        ],
        [
         "db_precificacao",
         "base_precificacao_gold",
         false
        ],
        [
         "",
         "_sqldf",
         true
        ],
        [
         "",
         "base_precificacao_silver",
         true
        ]
       ],
       "datasetInfos": [
        {
         "name": "_sqldf",
         "schema": {
          "fields": [
           {
            "metadata": {},
            "name": "database",
            "nullable": false,
            "type": "string"
           },
           {
            "metadata": {},
            "name": "tableName",
            "nullable": false,
            "type": "string"
           },
           {
            "metadata": {},
            "name": "isTemporary",
            "nullable": false,
            "type": "boolean"
           }
          ],
          "type": "struct"
         },
         "tableIdentifier": null,
         "typeStr": "pyspark.sql.connect.dataframe.DataFrame"
        }
       ],
       "dbfsResultPath": null,
       "isJsonSchema": true,
       "metadata": {
        "createTempViewForImplicitDf": true,
        "dataframeName": "_sqldf",
        "executionCount": 18
       },
       "overflow": false,
       "plotOptions": {
        "customPlotOptions": {},
        "displayType": "table",
        "pivotAggregation": null,
        "pivotColumns": null,
        "xColumns": null,
        "yColumns": null
       },
       "removedWidgets": [],
       "schema": [
        {
         "metadata": "{}",
         "name": "database",
         "type": "\"string\""
        },
        {
         "metadata": "{}",
         "name": "tableName",
         "type": "\"string\""
        },
        {
         "metadata": "{}",
         "name": "isTemporary",
         "type": "\"boolean\""
        }
       ],
       "type": "table"
      }
     },
     "output_type": "display_data"
    }
   ],
   "source": [
    "%sql\n",
    "SHOW TABLES IN precificacao.db_precificacao;"
   ]
  },
  {
   "cell_type": "code",
   "execution_count": 0,
   "metadata": {
    "application/vnd.databricks.v1+cell": {
     "cellMetadata": {
      "byteLimit": 2048000,
      "implicitDf": true,
      "rowLimit": 10000
     },
     "inputWidgets": {},
     "nuid": "f304ce91-1ff0-48c7-a276-9a35caba1604",
     "showTitle": false,
     "tableResultSettingsMap": {},
     "title": ""
    }
   },
   "outputs": [
    {
     "output_type": "display_data",
     "data": {
      "text/html": [
       "<style scoped>\n",
       "  .table-result-container {\n",
       "    max-height: 300px;\n",
       "    overflow: auto;\n",
       "  }\n",
       "  table, th, td {\n",
       "    border: 1px solid black;\n",
       "    border-collapse: collapse;\n",
       "  }\n",
       "  th, td {\n",
       "    padding: 5px;\n",
       "  }\n",
       "  th {\n",
       "    text-align: left;\n",
       "  }\n",
       "</style><div class='table-result-container'><table class='table-result'><thead style='background-color: white'><tr><th>total_registros</th><th>produtos_distintos</th><th>sazonalidades_distintas</th><th>data_inicio</th><th>data_fim</th></tr></thead><tbody><tr><td>120</td><td>5</td><td>4</td><td>2023-01-01</td><td>2024-12-01</td></tr></tbody></table></div>"
      ]
     },
     "metadata": {
      "application/vnd.databricks.v1+output": {
       "addedWidgets": {},
       "aggData": [],
       "aggError": "",
       "aggOverflow": false,
       "aggSchema": [],
       "aggSeriesLimitReached": false,
       "aggType": "",
       "arguments": {},
       "columnCustomDisplayInfos": {},
       "data": [
        [
         120,
         5,
         4,
         "2023-01-01",
         "2024-12-01"
        ]
       ],
       "datasetInfos": [
        {
         "name": "_sqldf",
         "schema": {
          "fields": [
           {
            "metadata": {},
            "name": "total_registros",
            "nullable": false,
            "type": "long"
           },
           {
            "metadata": {},
            "name": "produtos_distintos",
            "nullable": false,
            "type": "long"
           },
           {
            "metadata": {},
            "name": "sazonalidades_distintas",
            "nullable": false,
            "type": "long"
           },
           {
            "metadata": {},
            "name": "data_inicio",
            "nullable": true,
            "type": "date"
           },
           {
            "metadata": {},
            "name": "data_fim",
            "nullable": true,
            "type": "date"
           }
          ],
          "type": "struct"
         },
         "tableIdentifier": null,
         "typeStr": "pyspark.sql.connect.dataframe.DataFrame"
        }
       ],
       "dbfsResultPath": null,
       "isJsonSchema": true,
       "metadata": {
        "createTempViewForImplicitDf": true,
        "dataframeName": "_sqldf",
        "executionCount": 19
       },
       "overflow": false,
       "plotOptions": {
        "customPlotOptions": {},
        "displayType": "table",
        "pivotAggregation": null,
        "pivotColumns": null,
        "xColumns": null,
        "yColumns": null
       },
       "removedWidgets": [],
       "schema": [
        {
         "metadata": "{}",
         "name": "total_registros",
         "type": "\"long\""
        },
        {
         "metadata": "{}",
         "name": "produtos_distintos",
         "type": "\"long\""
        },
        {
         "metadata": "{}",
         "name": "sazonalidades_distintas",
         "type": "\"long\""
        },
        {
         "metadata": "{}",
         "name": "data_inicio",
         "type": "\"date\""
        },
        {
         "metadata": "{}",
         "name": "data_fim",
         "type": "\"date\""
        }
       ],
       "type": "table"
      }
     },
     "output_type": "display_data"
    }
   ],
   "source": [
    "%sql\n",
    "-- Estatísticas descritivas da Gold Layer\n",
    "SELECT \n",
    "  COUNT(*) as total_registros,\n",
    "  COUNT(DISTINCT produto_encoded) as produtos_distintos,\n",
    "  COUNT(DISTINCT sazonalidade_encoded) as sazonalidades_distintas,\n",
    "  MIN(Data) as data_inicio,\n",
    "  MAX(Data) as data_fim\n",
    "FROM precificacao.db_precificacao.base_precificacao_gold;"
   ]
  },
  {
   "cell_type": "code",
   "execution_count": 0,
   "metadata": {
    "application/vnd.databricks.v1+cell": {
     "cellMetadata": {
      "byteLimit": 2048000,
      "implicitDf": true,
      "rowLimit": 10000
     },
     "inputWidgets": {},
     "nuid": "55019514-f2ed-43e5-a128-7e2e73a2fbc0",
     "showTitle": false,
     "tableResultSettingsMap": {},
     "title": ""
    }
   },
   "outputs": [
    {
     "output_type": "display_data",
     "data": {
      "text/html": [
       "<style scoped>\n",
       "  .table-result-container {\n",
       "    max-height: 300px;\n",
       "    overflow: auto;\n",
       "  }\n",
       "  table, th, td {\n",
       "    border: 1px solid black;\n",
       "    border-collapse: collapse;\n",
       "  }\n",
       "  th, td {\n",
       "    padding: 5px;\n",
       "  }\n",
       "  th {\n",
       "    text-align: left;\n",
       "  }\n",
       "</style><div class='table-result-container'><table class='table-result'><thead style='background-color: white'><tr><th>Data</th><th>ano</th><th>mes</th><th>produto_encoded</th><th>preco_atual</th><th>demanda</th><th>estoque</th><th>preco_concorrencia</th><th>sazonalidade_encoded</th><th>estoque_baixo</th><th>demanda_alta</th><th>diferenca_vs_concorrencia</th><th>taxa_rotatividade</th><th>percentual_diferenca_concorrencia</th><th>data_carga</th></tr></thead><tbody><tr><td>2023-01-01</td><td>2023</td><td>1</td><td>1</td><td>49.9</td><td>180</td><td>1200</td><td>48.5</td><td>1</td><td>0</td><td>0</td><td>1.3999999999999986</td><td>0.15</td><td>0.02886597938144327</td><td>2025-09-05T18:25:36.341Z</td></tr><tr><td>2023-01-01</td><td>2023</td><td>1</td><td>2</td><td>149.9</td><td>90</td><td>600</td><td>155.0</td><td>1</td><td>0</td><td>0</td><td>-5.099999999999994</td><td>0.15</td><td>-0.03290322580645157</td><td>2025-09-05T18:25:36.341Z</td></tr><tr><td>2023-01-01</td><td>2023</td><td>1</td><td>3</td><td>249.9</td><td>75</td><td>450</td><td>255.0</td><td>1</td><td>0</td><td>0</td><td>-5.099999999999994</td><td>0.16666666666666666</td><td>-0.019999999999999976</td><td>2025-09-05T18:25:36.341Z</td></tr></tbody></table></div>"
      ]
     },
     "metadata": {
      "application/vnd.databricks.v1+output": {
       "addedWidgets": {},
       "aggData": [],
       "aggError": "",
       "aggOverflow": false,
       "aggSchema": [],
       "aggSeriesLimitReached": false,
       "aggType": "",
       "arguments": {},
       "columnCustomDisplayInfos": {},
       "data": [
        [
         "2023-01-01",
         2023,
         1,
         1,
         49.9,
         180,
         1200,
         48.5,
         1,
         0,
         0,
         1.3999999999999986,
         0.15,
         0.02886597938144327,
         "2025-09-05T18:25:36.341Z"
        ],
        [
         "2023-01-01",
         2023,
         1,
         2,
         149.9,
         90,
         600,
         155.0,
         1,
         0,
         0,
         -5.099999999999994,
         0.15,
         -0.03290322580645157,
         "2025-09-05T18:25:36.341Z"
        ],
        [
         "2023-01-01",
         2023,
         1,
         3,
         249.9,
         75,
         450,
         255.0,
         1,
         0,
         0,
         -5.099999999999994,
         0.16666666666666666,
         -0.019999999999999976,
         "2025-09-05T18:25:36.341Z"
        ]
       ],
       "datasetInfos": [
        {
         "name": "_sqldf",
         "schema": {
          "fields": [
           {
            "metadata": {
             "__detected_date_formats": "yyyy-M-d"
            },
            "name": "Data",
            "nullable": true,
            "type": "date"
           },
           {
            "metadata": {},
            "name": "ano",
            "nullable": true,
            "type": "integer"
           },
           {
            "metadata": {},
            "name": "mes",
            "nullable": true,
            "type": "integer"
           },
           {
            "metadata": {},
            "name": "produto_encoded",
            "nullable": true,
            "type": "integer"
           },
           {
            "metadata": {},
            "name": "preco_atual",
            "nullable": true,
            "type": "double"
           },
           {
            "metadata": {},
            "name": "demanda",
            "nullable": true,
            "type": "integer"
           },
           {
            "metadata": {},
            "name": "estoque",
            "nullable": true,
            "type": "integer"
           },
           {
            "metadata": {},
            "name": "preco_concorrencia",
            "nullable": true,
            "type": "double"
           },
           {
            "metadata": {},
            "name": "sazonalidade_encoded",
            "nullable": true,
            "type": "integer"
           },
           {
            "metadata": {},
            "name": "estoque_baixo",
            "nullable": true,
            "type": "integer"
           },
           {
            "metadata": {},
            "name": "demanda_alta",
            "nullable": true,
            "type": "integer"
           },
           {
            "metadata": {},
            "name": "diferenca_vs_concorrencia",
            "nullable": true,
            "type": "double"
           },
           {
            "metadata": {},
            "name": "taxa_rotatividade",
            "nullable": true,
            "type": "double"
           },
           {
            "metadata": {},
            "name": "percentual_diferenca_concorrencia",
            "nullable": true,
            "type": "double"
           },
           {
            "metadata": {},
            "name": "data_carga",
            "nullable": true,
            "type": "timestamp"
           }
          ],
          "type": "struct"
         },
         "tableIdentifier": null,
         "typeStr": "pyspark.sql.connect.dataframe.DataFrame"
        }
       ],
       "dbfsResultPath": null,
       "isJsonSchema": true,
       "metadata": {
        "createTempViewForImplicitDf": true,
        "dataframeName": "_sqldf",
        "executionCount": 20
       },
       "overflow": false,
       "plotOptions": {
        "customPlotOptions": {},
        "displayType": "table",
        "pivotAggregation": null,
        "pivotColumns": null,
        "xColumns": null,
        "yColumns": null
       },
       "removedWidgets": [],
       "schema": [
        {
         "metadata": "{\"__detected_date_formats\": \"yyyy-M-d\"}",
         "name": "Data",
         "type": "\"date\""
        },
        {
         "metadata": "{}",
         "name": "ano",
         "type": "\"integer\""
        },
        {
         "metadata": "{}",
         "name": "mes",
         "type": "\"integer\""
        },
        {
         "metadata": "{}",
         "name": "produto_encoded",
         "type": "\"integer\""
        },
        {
         "metadata": "{}",
         "name": "preco_atual",
         "type": "\"double\""
        },
        {
         "metadata": "{}",
         "name": "demanda",
         "type": "\"integer\""
        },
        {
         "metadata": "{}",
         "name": "estoque",
         "type": "\"integer\""
        },
        {
         "metadata": "{}",
         "name": "preco_concorrencia",
         "type": "\"double\""
        },
        {
         "metadata": "{}",
         "name": "sazonalidade_encoded",
         "type": "\"integer\""
        },
        {
         "metadata": "{}",
         "name": "estoque_baixo",
         "type": "\"integer\""
        },
        {
         "metadata": "{}",
         "name": "demanda_alta",
         "type": "\"integer\""
        },
        {
         "metadata": "{}",
         "name": "diferenca_vs_concorrencia",
         "type": "\"double\""
        },
        {
         "metadata": "{}",
         "name": "taxa_rotatividade",
         "type": "\"double\""
        },
        {
         "metadata": "{}",
         "name": "percentual_diferenca_concorrencia",
         "type": "\"double\""
        },
        {
         "metadata": "{}",
         "name": "data_carga",
         "type": "\"timestamp\""
        }
       ],
       "type": "table"
      }
     },
     "output_type": "display_data"
    }
   ],
   "source": [
    "%sql\n",
    "SELECT * FROM precificacao.db_precificacao.base_precificacao_gold LIMIT 3;"
   ]
  },
  {
   "cell_type": "code",
   "execution_count": 0,
   "metadata": {
    "application/vnd.databricks.v1+cell": {
     "cellMetadata": {
      "byteLimit": 2048000,
      "rowLimit": 10000
     },
     "inputWidgets": {},
     "nuid": "090f506b-5442-406b-8979-4c9dc1164009",
     "showTitle": false,
     "tableResultSettingsMap": {},
     "title": ""
    }
   },
   "outputs": [
    {
     "output_type": "stream",
     "name": "stdout",
     "output_type": "stream",
     "text": [
      "Primeiras 5 linhas da Gold Layer:\n"
     ]
    },
    {
     "output_type": "display_data",
     "data": {
      "text/html": [
       "<style scoped>\n",
       "  .table-result-container {\n",
       "    max-height: 300px;\n",
       "    overflow: auto;\n",
       "  }\n",
       "  table, th, td {\n",
       "    border: 1px solid black;\n",
       "    border-collapse: collapse;\n",
       "  }\n",
       "  th, td {\n",
       "    padding: 5px;\n",
       "  }\n",
       "  th {\n",
       "    text-align: left;\n",
       "  }\n",
       "</style><div class='table-result-container'><table class='table-result'><thead style='background-color: white'><tr><th>Data</th><th>ano</th><th>mes</th><th>produto_encoded</th><th>preco_atual</th><th>demanda</th><th>estoque</th><th>preco_concorrencia</th><th>sazonalidade_encoded</th><th>estoque_baixo</th><th>demanda_alta</th><th>diferenca_vs_concorrencia</th><th>taxa_rotatividade</th><th>percentual_diferenca_concorrencia</th><th>data_carga</th></tr></thead><tbody><tr><td>2023-01-01</td><td>2023</td><td>1</td><td>1</td><td>49.9</td><td>180</td><td>1200</td><td>48.5</td><td>1</td><td>0</td><td>0</td><td>1.3999999999999986</td><td>0.15</td><td>0.02886597938144327</td><td>2025-09-05T18:25:36.341Z</td></tr><tr><td>2023-01-01</td><td>2023</td><td>1</td><td>2</td><td>149.9</td><td>90</td><td>600</td><td>155.0</td><td>1</td><td>0</td><td>0</td><td>-5.099999999999994</td><td>0.15</td><td>-0.03290322580645157</td><td>2025-09-05T18:25:36.341Z</td></tr><tr><td>2023-01-01</td><td>2023</td><td>1</td><td>3</td><td>249.9</td><td>75</td><td>450</td><td>255.0</td><td>1</td><td>0</td><td>0</td><td>-5.099999999999994</td><td>0.16666666666666666</td><td>-0.019999999999999976</td><td>2025-09-05T18:25:36.341Z</td></tr><tr><td>2023-01-01</td><td>2023</td><td>1</td><td>4</td><td>99.9</td><td>80</td><td>900</td><td>105.0</td><td>1</td><td>0</td><td>0</td><td>-5.099999999999994</td><td>0.08888888888888889</td><td>-0.048571428571428515</td><td>2025-09-05T18:25:36.341Z</td></tr><tr><td>2023-01-01</td><td>2023</td><td>1</td><td>5</td><td>39.9</td><td>150</td><td>700</td><td>42.0</td><td>1</td><td>0</td><td>0</td><td>-2.1000000000000014</td><td>0.21428571428571427</td><td>-0.05000000000000003</td><td>2025-09-05T18:25:36.341Z</td></tr></tbody></table></div>"
      ]
     },
     "metadata": {
      "application/vnd.databricks.v1+output": {
       "addedWidgets": {},
       "aggData": [],
       "aggError": "",
       "aggOverflow": false,
       "aggSchema": [],
       "aggSeriesLimitReached": false,
       "aggType": "",
       "arguments": {},
       "columnCustomDisplayInfos": {},
       "data": [
        [
         "2023-01-01",
         2023,
         1,
         1,
         49.9,
         180,
         1200,
         48.5,
         1,
         0,
         0,
         1.3999999999999986,
         0.15,
         0.02886597938144327,
         "2025-09-05T18:25:36.341Z"
        ],
        [
         "2023-01-01",
         2023,
         1,
         2,
         149.9,
         90,
         600,
         155.0,
         1,
         0,
         0,
         -5.099999999999994,
         0.15,
         -0.03290322580645157,
         "2025-09-05T18:25:36.341Z"
        ],
        [
         "2023-01-01",
         2023,
         1,
         3,
         249.9,
         75,
         450,
         255.0,
         1,
         0,
         0,
         -5.099999999999994,
         0.16666666666666666,
         -0.019999999999999976,
         "2025-09-05T18:25:36.341Z"
        ],
        [
         "2023-01-01",
         2023,
         1,
         4,
         99.9,
         80,
         900,
         105.0,
         1,
         0,
         0,
         -5.099999999999994,
         0.08888888888888889,
         -0.048571428571428515,
         "2025-09-05T18:25:36.341Z"
        ],
        [
         "2023-01-01",
         2023,
         1,
         5,
         39.9,
         150,
         700,
         42.0,
         1,
         0,
         0,
         -2.1000000000000014,
         0.21428571428571427,
         -0.05000000000000003,
         "2025-09-05T18:25:36.341Z"
        ]
       ],
       "datasetInfos": [],
       "dbfsResultPath": null,
       "isJsonSchema": true,
       "metadata": {},
       "overflow": false,
       "plotOptions": {
        "customPlotOptions": {},
        "displayType": "table",
        "pivotAggregation": null,
        "pivotColumns": null,
        "xColumns": null,
        "yColumns": null
       },
       "removedWidgets": [],
       "schema": [
        {
         "metadata": "{}",
         "name": "Data",
         "type": "\"date\""
        },
        {
         "metadata": "{}",
         "name": "ano",
         "type": "\"integer\""
        },
        {
         "metadata": "{}",
         "name": "mes",
         "type": "\"integer\""
        },
        {
         "metadata": "{}",
         "name": "produto_encoded",
         "type": "\"integer\""
        },
        {
         "metadata": "{}",
         "name": "preco_atual",
         "type": "\"double\""
        },
        {
         "metadata": "{}",
         "name": "demanda",
         "type": "\"integer\""
        },
        {
         "metadata": "{}",
         "name": "estoque",
         "type": "\"integer\""
        },
        {
         "metadata": "{}",
         "name": "preco_concorrencia",
         "type": "\"double\""
        },
        {
         "metadata": "{}",
         "name": "sazonalidade_encoded",
         "type": "\"integer\""
        },
        {
         "metadata": "{}",
         "name": "estoque_baixo",
         "type": "\"integer\""
        },
        {
         "metadata": "{}",
         "name": "demanda_alta",
         "type": "\"integer\""
        },
        {
         "metadata": "{}",
         "name": "diferenca_vs_concorrencia",
         "type": "\"double\""
        },
        {
         "metadata": "{}",
         "name": "taxa_rotatividade",
         "type": "\"double\""
        },
        {
         "metadata": "{}",
         "name": "percentual_diferenca_concorrencia",
         "type": "\"double\""
        },
        {
         "metadata": "{}",
         "name": "data_carga",
         "type": "\"timestamp\""
        }
       ],
       "type": "table"
      }
     },
     "output_type": "display_data"
    }
   ],
   "source": [
    "# Primeiro, vamos carregar os dados da Gold Layer para um DataFrame\n",
    "gold_df = spark.table(\"precificacao.db_precificacao.base_precificacao_gold\")\n",
    "\n",
    "# Agora vamos converter para Pandas para usar com Scikit-learn\n",
    "# (Como temos apenas 120 linhas, podemos fazer isso tranquilamente)\n",
    "pandas_df = gold_df.toPandas()\n",
    "\n",
    "# Visualizar as primeiras linhas para confirmar\n",
    "print(\"Primeiras 5 linhas da Gold Layer:\")\n",
    "display(pandas_df.head(5))"
   ]
  },
  {
   "cell_type": "code",
   "execution_count": 0,
   "metadata": {
    "application/vnd.databricks.v1+cell": {
     "cellMetadata": {
      "byteLimit": 2048000,
      "rowLimit": 10000
     },
     "inputWidgets": {},
     "nuid": "6782fcd0-e500-4833-961f-4b4ad7306a38",
     "showTitle": false,
     "tableResultSettingsMap": {},
     "title": ""
    }
   },
   "outputs": [
    {
     "output_type": "stream",
     "name": "stdout",
     "output_type": "stream",
     "text": [
      "DataFrame criado com sucesso!\nFormato do DataFrame: (120, 15)\nColunas disponíveis: ['Data', 'ano', 'mes', 'produto_encoded', 'preco_atual', 'demanda', 'estoque', 'preco_concorrencia', 'sazonalidade_encoded', 'estoque_baixo', 'demanda_alta', 'diferenca_vs_concorrencia', 'taxa_rotatividade', 'percentual_diferenca_concorrencia', 'data_carga']\n"
     ]
    },
    {
     "output_type": "display_data",
     "data": {
      "text/html": [
       "<style scoped>\n",
       "  .table-result-container {\n",
       "    max-height: 300px;\n",
       "    overflow: auto;\n",
       "  }\n",
       "  table, th, td {\n",
       "    border: 1px solid black;\n",
       "    border-collapse: collapse;\n",
       "  }\n",
       "  th, td {\n",
       "    padding: 5px;\n",
       "  }\n",
       "  th {\n",
       "    text-align: left;\n",
       "  }\n",
       "</style><div class='table-result-container'><table class='table-result'><thead style='background-color: white'><tr><th>Data</th><th>ano</th><th>mes</th><th>produto_encoded</th><th>preco_atual</th><th>demanda</th><th>estoque</th><th>preco_concorrencia</th><th>sazonalidade_encoded</th><th>estoque_baixo</th><th>demanda_alta</th><th>diferenca_vs_concorrencia</th><th>taxa_rotatividade</th><th>percentual_diferenca_concorrencia</th><th>data_carga</th></tr></thead><tbody><tr><td>2023-01-01</td><td>2023</td><td>1</td><td>1</td><td>49.9</td><td>180</td><td>1200</td><td>48.5</td><td>1</td><td>0</td><td>0</td><td>1.3999999999999986</td><td>0.15</td><td>0.02886597938144327</td><td>2025-09-05T18:25:36.341Z</td></tr><tr><td>2023-01-01</td><td>2023</td><td>1</td><td>2</td><td>149.9</td><td>90</td><td>600</td><td>155.0</td><td>1</td><td>0</td><td>0</td><td>-5.099999999999994</td><td>0.15</td><td>-0.03290322580645157</td><td>2025-09-05T18:25:36.341Z</td></tr><tr><td>2023-01-01</td><td>2023</td><td>1</td><td>3</td><td>249.9</td><td>75</td><td>450</td><td>255.0</td><td>1</td><td>0</td><td>0</td><td>-5.099999999999994</td><td>0.16666666666666666</td><td>-0.019999999999999976</td><td>2025-09-05T18:25:36.341Z</td></tr></tbody></table></div>"
      ]
     },
     "metadata": {
      "application/vnd.databricks.v1+output": {
       "addedWidgets": {},
       "aggData": [],
       "aggError": "",
       "aggOverflow": false,
       "aggSchema": [],
       "aggSeriesLimitReached": false,
       "aggType": "",
       "arguments": {},
       "columnCustomDisplayInfos": {},
       "data": [
        [
         "2023-01-01",
         2023,
         1,
         1,
         49.9,
         180,
         1200,
         48.5,
         1,
         0,
         0,
         1.3999999999999986,
         0.15,
         0.02886597938144327,
         "2025-09-05T18:25:36.341Z"
        ],
        [
         "2023-01-01",
         2023,
         1,
         2,
         149.9,
         90,
         600,
         155.0,
         1,
         0,
         0,
         -5.099999999999994,
         0.15,
         -0.03290322580645157,
         "2025-09-05T18:25:36.341Z"
        ],
        [
         "2023-01-01",
         2023,
         1,
         3,
         249.9,
         75,
         450,
         255.0,
         1,
         0,
         0,
         -5.099999999999994,
         0.16666666666666666,
         -0.019999999999999976,
         "2025-09-05T18:25:36.341Z"
        ]
       ],
       "datasetInfos": [],
       "dbfsResultPath": null,
       "isJsonSchema": true,
       "metadata": {},
       "overflow": false,
       "plotOptions": {
        "customPlotOptions": {},
        "displayType": "table",
        "pivotAggregation": null,
        "pivotColumns": null,
        "xColumns": null,
        "yColumns": null
       },
       "removedWidgets": [],
       "schema": [
        {
         "metadata": "{}",
         "name": "Data",
         "type": "\"date\""
        },
        {
         "metadata": "{}",
         "name": "ano",
         "type": "\"integer\""
        },
        {
         "metadata": "{}",
         "name": "mes",
         "type": "\"integer\""
        },
        {
         "metadata": "{}",
         "name": "produto_encoded",
         "type": "\"integer\""
        },
        {
         "metadata": "{}",
         "name": "preco_atual",
         "type": "\"double\""
        },
        {
         "metadata": "{}",
         "name": "demanda",
         "type": "\"integer\""
        },
        {
         "metadata": "{}",
         "name": "estoque",
         "type": "\"integer\""
        },
        {
         "metadata": "{}",
         "name": "preco_concorrencia",
         "type": "\"double\""
        },
        {
         "metadata": "{}",
         "name": "sazonalidade_encoded",
         "type": "\"integer\""
        },
        {
         "metadata": "{}",
         "name": "estoque_baixo",
         "type": "\"integer\""
        },
        {
         "metadata": "{}",
         "name": "demanda_alta",
         "type": "\"integer\""
        },
        {
         "metadata": "{}",
         "name": "diferenca_vs_concorrencia",
         "type": "\"double\""
        },
        {
         "metadata": "{}",
         "name": "taxa_rotatividade",
         "type": "\"double\""
        },
        {
         "metadata": "{}",
         "name": "percentual_diferenca_concorrencia",
         "type": "\"double\""
        },
        {
         "metadata": "{}",
         "name": "data_carga",
         "type": "\"timestamp\""
        }
       ],
       "type": "table"
      }
     },
     "output_type": "display_data"
    }
   ],
   "source": [
    "# Recriando o DataFrame desde o início\n",
    "from pyspark.sql import SparkSession\n",
    "\n",
    "# Certificar que temos uma sessão Spark\n",
    "spark = SparkSession.builder.appName(\"PrecificacaoML\").getOrCreate()\n",
    "\n",
    "# Carregar os dados da Gold Layer\n",
    "gold_df = spark.table(\"precificacao.db_precificacao.base_precificacao_gold\")\n",
    "\n",
    "# Converter para Pandas DataFrame\n",
    "pandas_df = gold_df.toPandas()\n",
    "\n",
    "# Verificar se funcionou\n",
    "print(\"DataFrame criado com sucesso!\")\n",
    "print(f\"Formato do DataFrame: {pandas_df.shape}\")\n",
    "print(f\"Colunas disponíveis: {list(pandas_df.columns)}\")\n",
    "\n",
    "# Mostrar as primeiras linhas\n",
    "display(pandas_df.head(3))"
   ]
  },
  {
   "cell_type": "code",
   "execution_count": 0,
   "metadata": {
    "application/vnd.databricks.v1+cell": {
     "cellMetadata": {
      "byteLimit": 2048000,
      "rowLimit": 10000
     },
     "inputWidgets": {},
     "nuid": "2e713fd8-dccc-4558-b347-a09c23dd2328",
     "showTitle": false,
     "tableResultSettingsMap": {},
     "title": ""
    }
   },
   "outputs": [
    {
     "output_type": "stream",
     "name": "stderr",
     "output_type": "stream",
     "text": [
      "Exception ignored on calling ctypes callback function: <function _ThreadpoolInfo._find_modules_with_dl_iterate_phdr.<locals>.match_module_callback at 0xff862b88ccc0>\nTraceback (most recent call last):\n  File \"/databricks/python/lib/python3.12/site-packages/threadpoolctl.py\", line 400, in match_module_callback\n    self._make_module_from_path(filepath)\n  File \"/databricks/python/lib/python3.12/site-packages/threadpoolctl.py\", line 515, in _make_module_from_path\n    module = module_class(filepath, prefix, user_api, internal_api)\n             ^^^^^^^^^^^^^^^^^^^^^^^^^^^^^^^^^^^^^^^^^^^^^^^^^^^^^^\n  File \"/databricks/python/lib/python3.12/site-packages/threadpoolctl.py\", line 606, in __init__\n    self.version = self.get_version()\n                   ^^^^^^^^^^^^^^^^^^\n  File \"/databricks/python/lib/python3.12/site-packages/threadpoolctl.py\", line 646, in get_version\n    config = get_config().split()\n             ^^^^^^^^^^^^^^^^^^\nAttributeError: 'NoneType' object has no attribute 'split'\n"
     ]
    },
    {
     "output_type": "stream",
     "name": "stdout",
     "output_type": "stream",
     "text": [
      "Formato dos dados:\nX_treino: (96, 12)\nX_teste:  (24, 12)\ny_treino: (96,)\ny_teste:  (24,)\n\n\uD83D\uDD0D Primeiras linhas dos dados de treino (X_treino):\n"
     ]
    },
    {
     "output_type": "display_data",
     "data": {
      "text/html": [
       "<style scoped>\n",
       "  .table-result-container {\n",
       "    max-height: 300px;\n",
       "    overflow: auto;\n",
       "  }\n",
       "  table, th, td {\n",
       "    border: 1px solid black;\n",
       "    border-collapse: collapse;\n",
       "  }\n",
       "  th, td {\n",
       "    padding: 5px;\n",
       "  }\n",
       "  th {\n",
       "    text-align: left;\n",
       "  }\n",
       "</style><div class='table-result-container'><table class='table-result'><thead style='background-color: white'><tr><th>ano</th><th>mes</th><th>produto_encoded</th><th>demanda</th><th>estoque</th><th>preco_concorrencia</th><th>sazonalidade_encoded</th><th>estoque_baixo</th><th>demanda_alta</th><th>diferenca_vs_concorrencia</th><th>taxa_rotatividade</th><th>percentual_diferenca_concorrencia</th></tr></thead><tbody><tr><td>2023</td><td>9</td><td>3</td><td>190</td><td>20</td><td>288.0</td><td>3</td><td>1</td><td>0</td><td>2.0</td><td>9.5</td><td>0.006944444444444444</td></tr><tr><td>2023</td><td>3</td><td>3</td><td>100</td><td>265</td><td>258.0</td><td>2</td><td>0</td><td>0</td><td>1.0</td><td>0.37735849056603776</td><td>0.003875968992248062</td></tr><tr><td>2023</td><td>4</td><td>1</td><td>250</td><td>550</td><td>51.2</td><td>2</td><td>0</td><td>1</td><td>0.7999999999999972</td><td>0.45454545454545453</td><td>0.015624999999999944</td></tr></tbody></table></div>"
      ]
     },
     "metadata": {
      "application/vnd.databricks.v1+output": {
       "addedWidgets": {},
       "aggData": [],
       "aggError": "",
       "aggOverflow": false,
       "aggSchema": [],
       "aggSeriesLimitReached": false,
       "aggType": "",
       "arguments": {},
       "columnCustomDisplayInfos": {},
       "data": [
        [
         2023,
         9,
         3,
         190,
         20,
         288.0,
         3,
         1,
         0,
         2.0,
         9.5,
         0.006944444444444444
        ],
        [
         2023,
         3,
         3,
         100,
         265,
         258.0,
         2,
         0,
         0,
         1.0,
         0.37735849056603776,
         0.003875968992248062
        ],
        [
         2023,
         4,
         1,
         250,
         550,
         51.2,
         2,
         0,
         1,
         0.7999999999999972,
         0.45454545454545453,
         0.015624999999999944
        ]
       ],
       "datasetInfos": [],
       "dbfsResultPath": null,
       "isJsonSchema": true,
       "metadata": {},
       "overflow": false,
       "plotOptions": {
        "customPlotOptions": {},
        "displayType": "table",
        "pivotAggregation": null,
        "pivotColumns": null,
        "xColumns": null,
        "yColumns": null
       },
       "removedWidgets": [],
       "schema": [
        {
         "metadata": "{}",
         "name": "ano",
         "type": "\"integer\""
        },
        {
         "metadata": "{}",
         "name": "mes",
         "type": "\"integer\""
        },
        {
         "metadata": "{}",
         "name": "produto_encoded",
         "type": "\"integer\""
        },
        {
         "metadata": "{}",
         "name": "demanda",
         "type": "\"integer\""
        },
        {
         "metadata": "{}",
         "name": "estoque",
         "type": "\"integer\""
        },
        {
         "metadata": "{}",
         "name": "preco_concorrencia",
         "type": "\"double\""
        },
        {
         "metadata": "{}",
         "name": "sazonalidade_encoded",
         "type": "\"integer\""
        },
        {
         "metadata": "{}",
         "name": "estoque_baixo",
         "type": "\"integer\""
        },
        {
         "metadata": "{}",
         "name": "demanda_alta",
         "type": "\"integer\""
        },
        {
         "metadata": "{}",
         "name": "diferenca_vs_concorrencia",
         "type": "\"double\""
        },
        {
         "metadata": "{}",
         "name": "taxa_rotatividade",
         "type": "\"double\""
        },
        {
         "metadata": "{}",
         "name": "percentual_diferenca_concorrencia",
         "type": "\"double\""
        }
       ],
       "type": "table"
      }
     },
     "output_type": "display_data"
    }
   ],
   "source": [
    "# Importar a função para dividir os dados\n",
    "from sklearn.model_selection import train_test_split\n",
    "\n",
    "# Primeiro, vamos definir nossas variáveis:\n",
    "# X = Variáveis que usaremos para fazer a previsão (features)\n",
    "# y = Variável que queremos prever (target)\n",
    "\n",
    "# Todas as colunas EXCETO 'preco_atual' e 'Data' (e 'data_carga' se existir)\n",
    "features = [col for col in pandas_df.columns if col not in ['preco_atual', 'Data', 'data_carga']]\n",
    "\n",
    "X = pandas_df[features]  # Variáveis preditoras\n",
    "y = pandas_df['preco_atual']  # Variável alvo (o preço que queremos prever)\n",
    "\n",
    "# Agora dividimos os dados: 80% para treino, 20% para teste\n",
    "# random_state=42 garante que a divisão seja reproduzível\n",
    "X_treino, X_teste, y_treino, y_teste = train_test_split(X, y, test_size=0.2, random_state=42)\n",
    "\n",
    "# Vamos verificar o tamanho de cada conjunto\n",
    "print(f\"Formato dos dados:\")\n",
    "print(f\"X_treino: {X_treino.shape}\")\n",
    "print(f\"X_teste:  {X_teste.shape}\")\n",
    "print(f\"y_treino: {y_treino.shape}\")\n",
    "print(f\"y_teste:  {y_teste.shape}\")\n",
    "\n",
    "# Mostrar as primeiras linhas dos dados de treino\n",
    "print(\"\\n\uD83D\uDD0D Primeiras linhas dos dados de treino (X_treino):\")\n",
    "display(X_treino.head(3))"
   ]
  },
  {
   "cell_type": "code",
   "execution_count": 0,
   "metadata": {
    "application/vnd.databricks.v1+cell": {
     "cellMetadata": {
      "byteLimit": 2048000,
      "rowLimit": 10000
     },
     "inputWidgets": {},
     "nuid": "4173097b-956b-4411-a6a7-7ada6863fc8c",
     "showTitle": false,
     "tableResultSettingsMap": {},
     "title": ""
    }
   },
   "outputs": [
    {
     "output_type": "stream",
     "name": "stdout",
     "output_type": "stream",
     "text": [
      " Colunas no DataFrame:\n  - Data\n  - ano\n  - mes\n  - produto_encoded\n  - preco_atual\n  - demanda\n  - estoque\n  - preco_concorrencia\n  - sazonalidade_encoded\n  - estoque_baixo\n  - demanda_alta\n  - diferenca_vs_concorrencia\n  - taxa_rotatividade\n  - percentual_diferenca_concorrencia\n  - data_carga\n\n Features selecionadas: ['ano', 'mes', 'produto_encoded', 'demanda', 'estoque', 'preco_concorrencia', 'sazonalidade_encoded', 'estoque_baixo', 'demanda_alta', 'diferenca_vs_concorrencia', 'taxa_rotatividade', 'percentual_diferenca_concorrencia']\n\n Divisão concluída:\nX_treino: (96, 12)\nX_teste:  (24, 12)\ny_treino: (96,)\ny_teste:  (24,)\n\n Dados preparados para o modelo de Machine Learning!\n"
     ]
    }
   ],
   "source": [
    "# Agora sim, vamos fazer a divisão dos dados\n",
    "from sklearn.model_selection import train_test_split\n",
    "\n",
    "# Verificar todas as colunas disponíveis\n",
    "print(\" Colunas no DataFrame:\")\n",
    "for col in pandas_df.columns:\n",
    "    print(f\"  - {col}\")\n",
    "\n",
    "# Definir features (X) e target (y)\n",
    "# Vamos usar todas as colunas exceto as que não são features\n",
    "features = [col for col in pandas_df.columns if col not in ['preco_atual', 'Data', 'data_carga']]\n",
    "\n",
    "print(f\"\\n Features selecionadas: {features}\")\n",
    "\n",
    "X = pandas_df[features]  # Variáveis preditoras\n",
    "y = pandas_df['preco_atual']  # Variável alvo\n",
    "\n",
    "# Dividir os dados\n",
    "X_treino, X_teste, y_treino, y_teste = train_test_split(\n",
    "    X, y, \n",
    "    test_size=0.2,       # 20% para teste\n",
    "    random_state=42,     # Semente para reproducibilidade\n",
    "    shuffle=True         # Embaralhar os dados antes de dividir\n",
    ")\n",
    "\n",
    "# Verificar os resultados\n",
    "print(f\"\\n Divisão concluída:\")\n",
    "print(f\"X_treino: {X_treino.shape}\")\n",
    "print(f\"X_teste:  {X_teste.shape}\")\n",
    "print(f\"y_treino: {y_treino.shape}\")\n",
    "print(f\"y_teste:  {y_teste.shape}\")\n",
    "\n",
    "print(\"\\n Dados preparados para o modelo de Machine Learning!\")"
   ]
  },
  {
   "cell_type": "code",
   "execution_count": 0,
   "metadata": {
    "application/vnd.databricks.v1+cell": {
     "cellMetadata": {
      "byteLimit": 2048000,
      "rowLimit": 10000
     },
     "inputWidgets": {},
     "nuid": "b1f315ab-fa31-4290-9457-d603d59f5776",
     "showTitle": false,
     "tableResultSettingsMap": {},
     "title": ""
    }
   },
   "outputs": [
    {
     "output_type": "stream",
     "name": "stdout",
     "output_type": "stream",
     "text": [
      " Valores NaN por coluna:\nData                                  0\nano                                   0\nmes                                   0\nproduto_encoded                       0\npreco_atual                           0\ndemanda                               0\nestoque                               0\npreco_concorrencia                    0\nsazonalidade_encoded                  0\nestoque_baixo                         0\ndemanda_alta                          0\ndiferenca_vs_concorrencia             0\ntaxa_rotatividade                    32\npercentual_diferenca_concorrencia     0\ndata_carga                            0\ndtype: int64\n\n Colunas com NaN: []\n\n Valores NaN após tratamento:\nData                                 0\nano                                  0\nmes                                  0\nproduto_encoded                      0\npreco_atual                          0\ndemanda                              0\nestoque                              0\npreco_concorrencia                   0\nsazonalidade_encoded                 0\nestoque_baixo                        0\ndemanda_alta                         0\ndiferenca_vs_concorrencia            0\ntaxa_rotatividade                    0\npercentual_diferenca_concorrencia    0\ndata_carga                           0\ndtype: int64\n\n Dados limpos e divididos:\nX_treino: (96, 12)\nX_teste:  (24, 12)\n"
     ]
    }
   ],
   "source": [
    "# Verificar quantos valores NaN temos em cada coluna\n",
    "print(\" Valores NaN por coluna:\")\n",
    "print(pandas_df.isnull().sum())\n",
    "\n",
    "# Solução 1: Preencher NaN com valor específico\n",
    "# Para taxa_rotatividade: quando estoque é 0, taxa é 0\n",
    "pandas_df['taxa_rotatividade'] = pandas_df['taxa_rotatividade'].fillna(0)\n",
    "\n",
    "# Solução 2: Preencher outras colunas NaN com a média\n",
    "# Vamos identificar outras colunas com NaN\n",
    "colunas_com_nan = pandas_df.columns[pandas_df.isnull().any()].tolist()\n",
    "print(f\"\\n Colunas com NaN: {colunas_com_nan}\")\n",
    "\n",
    "for coluna in colunas_com_nan:\n",
    "    if coluna != 'taxa_rotatividade':  # Já tratamos essa\n",
    "        media = pandas_df[coluna].mean()\n",
    "        pandas_df[coluna] = pandas_df[coluna].fillna(media)\n",
    "        print(f\" Coluna '{coluna}': NaN preenchidos com média {media:.2f}\")\n",
    "\n",
    "# Verificar se ainda existem NaN\n",
    "print(f\"\\n Valores NaN após tratamento:\")\n",
    "print(pandas_df.isnull().sum())\n",
    "\n",
    "# Agora vamos recriar X e y com dados limpos\n",
    "features = [col for col in pandas_df.columns if col not in ['preco_atual', 'Data', 'data_carga']]\n",
    "X = pandas_df[features]\n",
    "y = pandas_df['preco_atual']\n",
    "\n",
    "# Refazer a divisão dos dados\n",
    "X_treino, X_teste, y_treino, y_teste = train_test_split(\n",
    "    X, y, \n",
    "    test_size=0.2,\n",
    "    random_state=42,\n",
    "    shuffle=True\n",
    ")\n",
    "\n",
    "print(f\"\\n Dados limpos e divididos:\")\n",
    "print(f\"X_treino: {X_treino.shape}\")\n",
    "print(f\"X_teste:  {X_teste.shape}\")"
   ]
  },
  {
   "cell_type": "markdown",
   "metadata": {
    "application/vnd.databricks.v1+cell": {
     "cellMetadata": {
      "byteLimit": 2048000,
      "rowLimit": 10000
     },
     "inputWidgets": {},
     "nuid": "cbe4e564-57c8-42ad-acc7-f736d09cbebd",
     "showTitle": false,
     "tableResultSettingsMap": {},
     "title": ""
    }
   },
   "source": [
    "# MODELO 1 - Com vazamento de dados (resultados irreais)"
   ]
  },
  {
   "cell_type": "code",
   "execution_count": 0,
   "metadata": {
    "application/vnd.databricks.v1+cell": {
     "cellMetadata": {
      "byteLimit": 2048000,
      "rowLimit": 10000
     },
     "inputWidgets": {},
     "nuid": "df0bc576-22cd-4119-983a-7f039f7f1a09",
     "showTitle": false,
     "tableResultSettingsMap": {},
     "title": ""
    }
   },
   "outputs": [
    {
     "output_type": "stream",
     "name": "stdout",
     "output_type": "stream",
     "text": [
      " Treinando o modelo de Regressão Linear...\nModelo treinado com sucesso!\n\n RESULTADOS DO MODELO:\nMAE (Erro Absoluto Médio): 0.00\nMSE (Erro Quadrático Médio): 0.00\nRMSE (Raiz do Erro Quadrático Médio): 0.00\nR² (Coeficiente de Determinação): 1.0000\n\n Comparação: Previsão vs Real (primeiras 10 amostras)\n"
     ]
    },
    {
     "output_type": "display_data",
     "data": {
      "text/html": [
       "<style scoped>\n",
       "  .table-result-container {\n",
       "    max-height: 300px;\n",
       "    overflow: auto;\n",
       "  }\n",
       "  table, th, td {\n",
       "    border: 1px solid black;\n",
       "    border-collapse: collapse;\n",
       "  }\n",
       "  th, td {\n",
       "    padding: 5px;\n",
       "  }\n",
       "  th {\n",
       "    text-align: left;\n",
       "  }\n",
       "</style><div class='table-result-container'><table class='table-result'><thead style='background-color: white'><tr><th>Real</th><th>Previsto</th><th>Diferença</th></tr></thead><tbody><tr><td>49.9</td><td>49.90000000000042</td><td>4.192202140984591E-13</td></tr><tr><td>300.0</td><td>299.99999999999966</td><td>-3.410605131648481E-13</td></tr><tr><td>39.9</td><td>39.90000000000024</td><td>2.4158453015843406E-13</td></tr><tr><td>60.0</td><td>59.999999999999986</td><td>-1.4210854715202004E-14</td></tr><tr><td>155.0</td><td>154.9999999999999</td><td>-1.1368683772161603E-13</td></tr><tr><td>42.0</td><td>42.000000000000114</td><td>1.1368683772161603E-13</td></tr><tr><td>115.0</td><td>114.99999999999999</td><td>-1.4210854715202004E-14</td></tr><tr><td>50.0</td><td>50.000000000000014</td><td>1.4210854715202004E-14</td></tr><tr><td>55.0</td><td>55.00000000000024</td><td>2.4158453015843406E-13</td></tr><tr><td>310.0</td><td>309.99999999999966</td><td>-3.410605131648481E-13</td></tr></tbody></table></div>"
      ]
     },
     "metadata": {
      "application/vnd.databricks.v1+output": {
       "addedWidgets": {},
       "aggData": [],
       "aggError": "",
       "aggOverflow": false,
       "aggSchema": [],
       "aggSeriesLimitReached": false,
       "aggType": "",
       "arguments": {},
       "columnCustomDisplayInfos": {},
       "data": [
        [
         49.9,
         49.90000000000042,
         4.192202140984591E-13
        ],
        [
         300.0,
         299.99999999999966,
         -3.410605131648481E-13
        ],
        [
         39.9,
         39.90000000000024,
         2.4158453015843406E-13
        ],
        [
         60.0,
         59.999999999999986,
         -1.4210854715202004E-14
        ],
        [
         155.0,
         154.9999999999999,
         -1.1368683772161603E-13
        ],
        [
         42.0,
         42.000000000000114,
         1.1368683772161603E-13
        ],
        [
         115.0,
         114.99999999999999,
         -1.4210854715202004E-14
        ],
        [
         50.0,
         50.000000000000014,
         1.4210854715202004E-14
        ],
        [
         55.0,
         55.00000000000024,
         2.4158453015843406E-13
        ],
        [
         310.0,
         309.99999999999966,
         -3.410605131648481E-13
        ]
       ],
       "datasetInfos": [],
       "dbfsResultPath": null,
       "isJsonSchema": true,
       "metadata": {},
       "overflow": false,
       "plotOptions": {
        "customPlotOptions": {},
        "displayType": "table",
        "pivotAggregation": null,
        "pivotColumns": null,
        "xColumns": null,
        "yColumns": null
       },
       "removedWidgets": [],
       "schema": [
        {
         "metadata": "{}",
         "name": "Real",
         "type": "\"double\""
        },
        {
         "metadata": "{}",
         "name": "Previsto",
         "type": "\"double\""
        },
        {
         "metadata": "{}",
         "name": "Diferença",
         "type": "\"double\""
        }
       ],
       "type": "table"
      }
     },
     "output_type": "display_data"
    }
   ],
   "source": [
    "# Primeiro, vamos importar o modelo de Regressão Linear\n",
    "from sklearn.linear_model import LinearRegression\n",
    "from sklearn.metrics import mean_absolute_error, mean_squared_error, r2_score\n",
    "import pandas as pd\n",
    "import numpy as np\n",
    "\n",
    "# 1. Criar o modelo\n",
    "modelo_lr = LinearRegression()\n",
    "\n",
    "print(\" Treinando o modelo de Regressão Linear...\")\n",
    "\n",
    "# 2. Treinar o modelo com os dados de TREINO\n",
    "modelo_lr.fit(X_treino, y_treino)\n",
    "\n",
    "print(\"Modelo treinado com sucesso!\")\n",
    "\n",
    "# 3. Fazer previsões nos dados de TESTE\n",
    "y_previsto = modelo_lr.predict(X_teste)\n",
    "\n",
    "# 4. Avaliar o modelo\n",
    "mae = mean_absolute_error(y_teste, y_previsto)\n",
    "mse = mean_squared_error(y_teste, y_previsto)\n",
    "rmse = np.sqrt(mse)\n",
    "r2 = r2_score(y_teste, y_previsto)\n",
    "\n",
    "print(\"\\n RESULTADOS DO MODELO:\")\n",
    "print(f\"MAE (Erro Absoluto Médio): {mae:.2f}\")\n",
    "print(f\"MSE (Erro Quadrático Médio): {mse:.2f}\")\n",
    "print(f\"RMSE (Raiz do Erro Quadrático Médio): {rmse:.2f}\")\n",
    "print(f\"R² (Coeficiente de Determinação): {r2:.4f}\")\n",
    "\n",
    "# 5. Mostrar comparação entre previsões e valores reais\n",
    "print(\"\\n Comparação: Previsão vs Real (primeiras 10 amostras)\")\n",
    "comparacao = pd.DataFrame({\n",
    "    'Real': y_teste.values[:10],\n",
    "    'Previsto': y_previsto[:10],\n",
    "    'Diferença': y_previsto[:10] - y_teste.values[:10]\n",
    "})\n",
    "display(comparacao)"
   ]
  },
  {
   "cell_type": "markdown",
   "metadata": {
    "application/vnd.databricks.v1+cell": {
     "cellMetadata": {
      "byteLimit": 2048000,
      "rowLimit": 10000
     },
     "inputWidgets": {},
     "nuid": "e56cbf7c-4248-4809-8c8c-e59d906868cc",
     "showTitle": false,
     "tableResultSettingsMap": {},
     "title": ""
    }
   },
   "source": [
    "# MODELO 2 - Corrigido (features seguras, resultados realistas)"
   ]
  },
  {
   "cell_type": "code",
   "execution_count": 0,
   "metadata": {
    "application/vnd.databricks.v1+cell": {
     "cellMetadata": {
      "byteLimit": 2048000,
      "rowLimit": 10000
     },
     "inputWidgets": {},
     "nuid": "7aec596b-bfe5-4324-92b8-18472cc67889",
     "showTitle": false,
     "tableResultSettingsMap": {},
     "title": ""
    }
   },
   "outputs": [
    {
     "output_type": "stream",
     "name": "stdout",
     "output_type": "stream",
     "text": [
      " Features selecionadas para o modelo:\n  - ano\n  - mes\n  - produto_encoded\n  - demanda\n  - estoque\n  - sazonalidade_encoded\n  - estoque_baixo\n  - demanda_alta\n\n Dados divididos:\nX_treino: (96, 8), X_teste: (24, 8)\n\n Treinando modelo com features seguras...\n\n RESULTADOS REAIS DO MODELO:\nMAE (Erro Absoluto Médio): 53.54 reais\nRMSE (Raiz do Erro Quadrático Médio): 64.01 reais\nR² (Coeficiente de Determinação): 0.3660\n\n Comparação: Previsão vs Real (primeiras 10 amostras)\n"
     ]
    },
    {
     "output_type": "display_data",
     "data": {
      "text/html": [
       "<style scoped>\n",
       "  .table-result-container {\n",
       "    max-height: 300px;\n",
       "    overflow: auto;\n",
       "  }\n",
       "  table, th, td {\n",
       "    border: 1px solid black;\n",
       "    border-collapse: collapse;\n",
       "  }\n",
       "  th, td {\n",
       "    padding: 5px;\n",
       "  }\n",
       "  th {\n",
       "    text-align: left;\n",
       "  }\n",
       "</style><div class='table-result-container'><table class='table-result'><thead style='background-color: white'><tr><th>Real</th><th>Previsto</th><th>Diferença</th></tr></thead><tbody><tr><td>49.9</td><td>129.74700131914506</td><td>79.84700131914505</td></tr><tr><td>300.0</td><td>202.16997374039238</td><td>-97.83002625960762</td></tr><tr><td>39.9</td><td>60.39861590367582</td><td>20.49861590367582</td></tr><tr><td>60.0</td><td>93.87485577090592</td><td>33.874855770905924</td></tr><tr><td>155.0</td><td>196.63251297367788</td><td>41.632512973677876</td></tr><tr><td>42.0</td><td>52.65539303777041</td><td>10.65539303777041</td></tr><tr><td>115.0</td><td>139.82521209736296</td><td>24.825212097362964</td></tr><tr><td>50.0</td><td>14.949394694804141</td><td>-35.05060530519586</td></tr><tr><td>55.0</td><td>128.1185706187116</td><td>73.1185706187116</td></tr><tr><td>310.0</td><td>202.89661552602774</td><td>-107.10338447397226</td></tr></tbody></table></div>"
      ]
     },
     "metadata": {
      "application/vnd.databricks.v1+output": {
       "addedWidgets": {},
       "aggData": [],
       "aggError": "",
       "aggOverflow": false,
       "aggSchema": [],
       "aggSeriesLimitReached": false,
       "aggType": "",
       "arguments": {},
       "columnCustomDisplayInfos": {},
       "data": [
        [
         49.9,
         129.74700131914506,
         79.84700131914505
        ],
        [
         300.0,
         202.16997374039238,
         -97.83002625960762
        ],
        [
         39.9,
         60.39861590367582,
         20.49861590367582
        ],
        [
         60.0,
         93.87485577090592,
         33.874855770905924
        ],
        [
         155.0,
         196.63251297367788,
         41.632512973677876
        ],
        [
         42.0,
         52.65539303777041,
         10.65539303777041
        ],
        [
         115.0,
         139.82521209736296,
         24.825212097362964
        ],
        [
         50.0,
         14.949394694804141,
         -35.05060530519586
        ],
        [
         55.0,
         128.1185706187116,
         73.1185706187116
        ],
        [
         310.0,
         202.89661552602774,
         -107.10338447397226
        ]
       ],
       "datasetInfos": [],
       "dbfsResultPath": null,
       "isJsonSchema": true,
       "metadata": {},
       "overflow": false,
       "plotOptions": {
        "customPlotOptions": {},
        "displayType": "table",
        "pivotAggregation": null,
        "pivotColumns": null,
        "xColumns": null,
        "yColumns": null
       },
       "removedWidgets": [],
       "schema": [
        {
         "metadata": "{}",
         "name": "Real",
         "type": "\"double\""
        },
        {
         "metadata": "{}",
         "name": "Previsto",
         "type": "\"double\""
        },
        {
         "metadata": "{}",
         "name": "Diferença",
         "type": "\"double\""
        }
       ],
       "type": "table"
      }
     },
     "output_type": "display_data"
    },
    {
     "output_type": "stream",
     "name": "stdout",
     "output_type": "stream",
     "text": [
      "\n Interpretação:\n- O modelo erra em média 53.54 reais nas previsões\n- O R² de 0.3660 indica quanto das variações de preço o modelo explica\n- Poder explicativo baixo - precisamos melhorar o modelo\n"
     ]
    }
   ],
   "source": [
    "# 1. IMPORTAR BIBLIOTECAS\n",
    "from sklearn.model_selection import train_test_split\n",
    "from sklearn.linear_model import LinearRegression\n",
    "from sklearn.metrics import mean_absolute_error, mean_squared_error, r2_score\n",
    "import numpy as np\n",
    "import pandas as pd\n",
    "\n",
    "# 2. DEFINIR FEATURES SEGURAS (sem vazamento de dados)\n",
    "# Removemos features que contêm informação do preço atual ou da concorrência\n",
    "features_seguras = [\n",
    "    'ano', \n",
    "    'mes', \n",
    "    'produto_encoded', \n",
    "    'demanda', \n",
    "    'estoque',\n",
    "    'sazonalidade_encoded', \n",
    "    'estoque_baixo', \n",
    "    'demanda_alta'\n",
    "    # REMOVEMOS: 'preco_concorrencia', 'diferenca_vs_concorrencia', 'taxa_rotatividade'\n",
    "]\n",
    "\n",
    "print(\" Features selecionadas para o modelo:\")\n",
    "for feature in features_seguras:\n",
    "    print(f\"  - {feature}\")\n",
    "\n",
    "# 3. CRIAR X e y COM FEATURES SEGURAS\n",
    "X = pandas_df[features_seguras]\n",
    "y = pandas_df['preco_atual']\n",
    "\n",
    "# 4. DIVIDIR OS DADOS\n",
    "X_treino, X_teste, y_treino, y_teste = train_test_split(\n",
    "    X, y, \n",
    "    test_size=0.2,\n",
    "    random_state=42,\n",
    "    shuffle=True\n",
    ")\n",
    "\n",
    "print(f\"\\n Dados divididos:\")\n",
    "print(f\"X_treino: {X_treino.shape}, X_teste: {X_teste.shape}\")\n",
    "\n",
    "# 5. TREINAR O MODELO\n",
    "modelo_lr = LinearRegression()\n",
    "print(\"\\n Treinando modelo com features seguras...\")\n",
    "modelo_lr.fit(X_treino, y_treino)\n",
    "\n",
    "# 6. FAZER PREVISÕES\n",
    "y_previsto = modelo_lr.predict(X_teste)\n",
    "\n",
    "# 7. AVALIAR O MODELO\n",
    "mae = mean_absolute_error(y_teste, y_previsto)\n",
    "mse = mean_squared_error(y_teste, y_previsto)\n",
    "rmse = np.sqrt(mse)\n",
    "r2 = r2_score(y_teste, y_previsto)\n",
    "\n",
    "print(\"\\n RESULTADOS REAIS DO MODELO:\")\n",
    "print(f\"MAE (Erro Absoluto Médio): {mae:.2f} reais\")\n",
    "print(f\"RMSE (Raiz do Erro Quadrático Médio): {rmse:.2f} reais\")\n",
    "print(f\"R² (Coeficiente de Determinação): {r2:.4f}\")\n",
    "\n",
    "# 8. MOSTRAR COMPARAÇÃO\n",
    "print(\"\\n Comparação: Previsão vs Real (primeiras 10 amostras)\")\n",
    "comparacao = pd.DataFrame({\n",
    "    'Real': y_teste.values[:10],\n",
    "    'Previsto': y_previsto[:10],\n",
    "    'Diferença': y_previsto[:10] - y_teste.values[:10]\n",
    "})\n",
    "display(comparacao)\n",
    "\n",
    "# 9. INTERPRETAR RESULTADOS\n",
    "print(\"\\n Interpretação:\")\n",
    "print(f\"- O modelo erra em média {mae:.2f} reais nas previsões\")\n",
    "print(f\"- O R² de {r2:.4f} indica quanto das variações de preço o modelo explica\")\n",
    "if r2 > 0.7:\n",
    "    print(\"-  Bom poder explicativo!\")\n",
    "elif r2 > 0.5:\n",
    "    print(\"- Poder explicativo moderado\")\n",
    "else:\n",
    "    print(\"- Poder explicativo baixo - precisamos melhorar o modelo\")"
   ]
  },
  {
   "cell_type": "markdown",
   "metadata": {
    "application/vnd.databricks.v1+cell": {
     "cellMetadata": {
      "byteLimit": 2048000,
      "rowLimit": 10000
     },
     "inputWidgets": {},
     "nuid": "25a08297-6048-4cd4-94f9-d5b2ae56eae4",
     "showTitle": false,
     "tableResultSettingsMap": {},
     "title": ""
    }
   },
   "source": [
    "### \uD83C\uDFAF MODELO 2 - CORRIGIDO (FEATURES SEGURAS)\n",
    "\n",
    "**Removemos features que causavam vazamento de dados:**\n",
    "- `preco_concorrencia`: Não teríamos essa info na hora de prever  \n",
    "- `diferenca_vs_concorrencia`: Derivada do preço atual (vazamento)"
   ]
  },
  {
   "cell_type": "code",
   "execution_count": 0,
   "metadata": {
    "application/vnd.databricks.v1+cell": {
     "cellMetadata": {
      "byteLimit": 2048000,
      "rowLimit": 10000
     },
     "inputWidgets": {},
     "nuid": "1b58428e-392a-40d4-8955-582f25d7d5e0",
     "showTitle": false,
     "tableResultSettingsMap": {},
     "title": ""
    }
   },
   "outputs": [
    {
     "output_type": "stream",
     "name": "stdout",
     "output_type": "stream",
     "text": [
      " COMPARAÇÃO DOS MODELOS:\nModelo 1 (com vazamento): R² = 1.0000 - IRREAL\nModelo 2 (corrigido): R² = 0.3660 - REALISTA\n"
     ]
    }
   ],
   "source": [
    "# Célula adicional para comparação:\n",
    "print(\" COMPARAÇÃO DOS MODELOS:\")\n",
    "print(\"Modelo 1 (com vazamento): R² = 1.0000 - IRREAL\")\n",
    "print(f\"Modelo 2 (corrigido): R² = {r2:.4f} - REALISTA\")"
   ]
  },
  {
   "cell_type": "code",
   "execution_count": 0,
   "metadata": {
    "application/vnd.databricks.v1+cell": {
     "cellMetadata": {
      "byteLimit": 2048000,
      "rowLimit": 10000
     },
     "inputWidgets": {},
     "nuid": "f8144ab8-2aae-416d-8baf-7be3e2d9fd9a",
     "showTitle": false,
     "tableResultSettingsMap": {},
     "title": ""
    }
   },
   "outputs": [
    {
     "output_type": "stream",
     "name": "stdout",
     "output_type": "stream",
     "text": [
      " Treinando Random Forest...\n\n RESULTADOS RANDOM FOREST:\nMAE: 3.90 reais\nRMSE: 5.00 reais\nR²: 0.9961\n\n COMPARAÇÃO COM REGRESSÃO LINEAR:\nLinear - MAE: 53.54, R²: 0.3660\nRandom Forest - MAE: 3.90, R²: 0.9961\n\n IMPORTÂNCIA DAS VARIÁVEIS (Random Forest):\n  - ano: 0.0001\n  - mes: 0.0139\n  - produto_encoded: 0.8913\n  - demanda: 0.0562\n  - estoque: 0.0304\n  - sazonalidade_encoded: 0.0020\n  - estoque_baixo: 0.0005\n  - demanda_alta: 0.0055\n"
     ]
    }
   ],
   "source": [
    "# 1. IMPORTAR RandomForest (adicionar esta linha)\n",
    "from sklearn.ensemble import RandomForestRegressor\n",
    "\n",
    "# 2. CRIAR E TREINAR RANDOM FOREST\n",
    "modelo_rf = RandomForestRegressor(\n",
    "    n_estimators=100,  # Número de árvores\n",
    "    random_state=42,   # Semente para reproducibilidade\n",
    "    max_depth=5        # Profundidade máxima das árvores (evita overfitting)\n",
    ")\n",
    "\n",
    "print(\" Treinando Random Forest...\")\n",
    "modelo_rf.fit(X_treino, y_treino)\n",
    "\n",
    "# 3. FAZER PREVISÕES\n",
    "y_previsto_rf = modelo_rf.predict(X_teste)\n",
    "\n",
    "# 4. AVALIAR O MODELO\n",
    "mae_rf = mean_absolute_error(y_teste, y_previsto_rf)\n",
    "mse_rf = mean_squared_error(y_teste, y_previsto_rf)\n",
    "rmse_rf = np.sqrt(mse_rf)\n",
    "r2_rf = r2_score(y_teste, y_previsto_rf)\n",
    "\n",
    "print(\"\\n RESULTADOS RANDOM FOREST:\")\n",
    "print(f\"MAE: {mae_rf:.2f} reais\")\n",
    "print(f\"RMSE: {rmse_rf:.2f} reais\")\n",
    "print(f\"R²: {r2_rf:.4f}\")\n",
    "\n",
    "# 5. COMPARAR COM REGRESSÃO LINEAR\n",
    "print(\"\\n COMPARAÇÃO COM REGRESSÃO LINEAR:\")\n",
    "print(f\"Linear - MAE: {mae:.2f}, R²: {r2:.4f}\")\n",
    "print(f\"Random Forest - MAE: {mae_rf:.2f}, R²: {r2_rf:.4f}\")\n",
    "\n",
    "# 6. MOSTAR IMPORTÂNCIA DAS VARIÁVEIS\n",
    "importancias = modelo_rf.feature_importances_\n",
    "print(\"\\n IMPORTÂNCIA DAS VARIÁVEIS (Random Forest):\")\n",
    "for feature, importancia in zip(features_seguras, importancias):\n",
    "    print(f\"  - {feature}: {importancia:.4f}\")"
   ]
  },
  {
   "cell_type": "code",
   "execution_count": 0,
   "metadata": {
    "application/vnd.databricks.v1+cell": {
     "cellMetadata": {
      "byteLimit": 2048000,
      "implicitDf": true,
      "rowLimit": 10000
     },
     "inputWidgets": {},
     "nuid": "af0cc690-9fd3-4714-b74e-f963de61292c",
     "showTitle": false,
     "tableResultSettingsMap": {},
     "title": ""
    }
   },
   "outputs": [
    {
     "output_type": "display_data",
     "data": {
      "text/html": [
       "<style scoped>\n",
       "  .table-result-container {\n",
       "    max-height: 300px;\n",
       "    overflow: auto;\n",
       "  }\n",
       "  table, th, td {\n",
       "    border: 1px solid black;\n",
       "    border-collapse: collapse;\n",
       "  }\n",
       "  th, td {\n",
       "    padding: 5px;\n",
       "  }\n",
       "  th {\n",
       "    text-align: left;\n",
       "  }\n",
       "</style><div class='table-result-container'><table class='table-result'><thead style='background-color: white'><tr><th>Data</th><th>Produto</th><th>Preco_Atual</th><th>Demanda</th><th>Estoque</th><th>Concorrencia</th><th>Sazonalidade</th></tr></thead><tbody><tr><td>2023-01-01</td><td>Boné de Aba Reta</td><td>39.9</td><td>150</td><td>700</td><td>42.0</td><td>Baixa</td></tr><tr><td>2023-01-01</td><td>Calça Jeans</td><td>149.9</td><td>90</td><td>600</td><td>155.0</td><td>Baixa</td></tr><tr><td>2023-01-01</td><td>Camiseta Básica</td><td>49.9</td><td>180</td><td>1200</td><td>48.5</td><td>Baixa</td></tr></tbody></table></div>"
      ]
     },
     "metadata": {
      "application/vnd.databricks.v1+output": {
       "addedWidgets": {},
       "aggData": [],
       "aggError": "",
       "aggOverflow": false,
       "aggSchema": [],
       "aggSeriesLimitReached": false,
       "aggType": "",
       "arguments": {},
       "columnCustomDisplayInfos": {},
       "data": [
        [
         "2023-01-01",
         "Boné de Aba Reta",
         39.9,
         150,
         700,
         42.0,
         "Baixa"
        ],
        [
         "2023-01-01",
         "Calça Jeans",
         149.9,
         90,
         600,
         155.0,
         "Baixa"
        ],
        [
         "2023-01-01",
         "Camiseta Básica",
         49.9,
         180,
         1200,
         48.5,
         "Baixa"
        ]
       ],
       "datasetInfos": [
        {
         "name": "_sqldf",
         "schema": {
          "fields": [
           {
            "metadata": {
             "__detected_date_formats": "yyyy-M-d"
            },
            "name": "Data",
            "nullable": true,
            "type": "date"
           },
           {
            "metadata": {},
            "name": "Produto",
            "nullable": true,
            "type": "string"
           },
           {
            "metadata": {},
            "name": "Preco_Atual",
            "nullable": true,
            "type": "double"
           },
           {
            "metadata": {},
            "name": "Demanda",
            "nullable": true,
            "type": "long"
           },
           {
            "metadata": {},
            "name": "Estoque",
            "nullable": true,
            "type": "long"
           },
           {
            "metadata": {},
            "name": "Concorrencia",
            "nullable": true,
            "type": "double"
           },
           {
            "metadata": {},
            "name": "Sazonalidade",
            "nullable": true,
            "type": "string"
           }
          ],
          "type": "struct"
         },
         "tableIdentifier": null,
         "typeStr": "pyspark.sql.connect.dataframe.DataFrame"
        }
       ],
       "dbfsResultPath": null,
       "isJsonSchema": true,
       "metadata": {
        "createTempViewForImplicitDf": true,
        "dataframeName": "_sqldf",
        "executionCount": 30
       },
       "overflow": false,
       "plotOptions": {
        "customPlotOptions": {},
        "displayType": "table",
        "pivotAggregation": null,
        "pivotColumns": null,
        "xColumns": null,
        "yColumns": null
       },
       "removedWidgets": [],
       "schema": [
        {
         "metadata": "{\"__detected_date_formats\": \"yyyy-M-d\"}",
         "name": "Data",
         "type": "\"date\""
        },
        {
         "metadata": "{}",
         "name": "Produto",
         "type": "\"string\""
        },
        {
         "metadata": "{}",
         "name": "Preco_Atual",
         "type": "\"double\""
        },
        {
         "metadata": "{}",
         "name": "Demanda",
         "type": "\"long\""
        },
        {
         "metadata": "{}",
         "name": "Estoque",
         "type": "\"long\""
        },
        {
         "metadata": "{}",
         "name": "Concorrencia",
         "type": "\"double\""
        },
        {
         "metadata": "{}",
         "name": "Sazonalidade",
         "type": "\"string\""
        }
       ],
       "type": "table"
      }
     },
     "output_type": "display_data"
    }
   ],
   "source": [
    "%sql\n",
    "-- Visualizar a Bronze (dados originais)\n",
    "SELECT * FROM precificacao.db_precificacao.base_precificacao \n",
    "ORDER BY Data, Produto \n",
    "LIMIT 3;"
   ]
  },
  {
   "cell_type": "code",
   "execution_count": 0,
   "metadata": {
    "application/vnd.databricks.v1+cell": {
     "cellMetadata": {
      "byteLimit": 2048000,
      "implicitDf": true,
      "rowLimit": 10000
     },
     "inputWidgets": {},
     "nuid": "06d50787-08cb-497d-a39d-cd4552546d49",
     "showTitle": false,
     "tableResultSettingsMap": {},
     "title": ""
    }
   },
   "outputs": [
    {
     "output_type": "display_data",
     "data": {
      "text/html": [
       "<style scoped>\n",
       "  .table-result-container {\n",
       "    max-height: 300px;\n",
       "    overflow: auto;\n",
       "  }\n",
       "  table, th, td {\n",
       "    border: 1px solid black;\n",
       "    border-collapse: collapse;\n",
       "  }\n",
       "  th, td {\n",
       "    padding: 5px;\n",
       "  }\n",
       "  th {\n",
       "    text-align: left;\n",
       "  }\n",
       "</style><div class='table-result-container'><table class='table-result'><thead style='background-color: white'><tr><th>Data</th><th>ano</th><th>mes</th><th>Produto</th><th>preco_atual</th><th>demanda</th><th>estoque</th><th>preco_concorrencia</th><th>Sazonalidade</th><th>estoque_baixo</th><th>demanda_alta</th><th>diferenca_vs_concorrencia</th><th>data_carga</th></tr></thead><tbody><tr><td>2023-01-01</td><td>2023</td><td>1</td><td>Boné de Aba Reta</td><td>39.9</td><td>150</td><td>700</td><td>42.0</td><td>Baixa</td><td>0</td><td>0</td><td>-2.1000000000000014</td><td>2025-09-05T18:26:01.837Z</td></tr><tr><td>2023-01-01</td><td>2023</td><td>1</td><td>Calça Jeans</td><td>149.9</td><td>90</td><td>600</td><td>155.0</td><td>Baixa</td><td>0</td><td>0</td><td>-5.099999999999994</td><td>2025-09-05T18:26:01.837Z</td></tr><tr><td>2023-01-01</td><td>2023</td><td>1</td><td>Camiseta Básica</td><td>49.9</td><td>180</td><td>1200</td><td>48.5</td><td>Baixa</td><td>0</td><td>0</td><td>1.3999999999999986</td><td>2025-09-05T18:26:01.837Z</td></tr></tbody></table></div>"
      ]
     },
     "metadata": {
      "application/vnd.databricks.v1+output": {
       "addedWidgets": {},
       "aggData": [],
       "aggError": "",
       "aggOverflow": false,
       "aggSchema": [],
       "aggSeriesLimitReached": false,
       "aggType": "",
       "arguments": {},
       "columnCustomDisplayInfos": {},
       "data": [
        [
         "2023-01-01",
         2023,
         1,
         "Boné de Aba Reta",
         39.9,
         150,
         700,
         42.0,
         "Baixa",
         0,
         0,
         -2.1000000000000014,
         "2025-09-05T18:26:01.837Z"
        ],
        [
         "2023-01-01",
         2023,
         1,
         "Calça Jeans",
         149.9,
         90,
         600,
         155.0,
         "Baixa",
         0,
         0,
         -5.099999999999994,
         "2025-09-05T18:26:01.837Z"
        ],
        [
         "2023-01-01",
         2023,
         1,
         "Camiseta Básica",
         49.9,
         180,
         1200,
         48.5,
         "Baixa",
         0,
         0,
         1.3999999999999986,
         "2025-09-05T18:26:01.837Z"
        ]
       ],
       "datasetInfos": [
        {
         "name": "_sqldf",
         "schema": {
          "fields": [
           {
            "metadata": {
             "__detected_date_formats": "yyyy-M-d"
            },
            "name": "Data",
            "nullable": true,
            "type": "date"
           },
           {
            "metadata": {},
            "name": "ano",
            "nullable": true,
            "type": "integer"
           },
           {
            "metadata": {},
            "name": "mes",
            "nullable": true,
            "type": "integer"
           },
           {
            "metadata": {},
            "name": "Produto",
            "nullable": true,
            "type": "string"
           },
           {
            "metadata": {},
            "name": "preco_atual",
            "nullable": true,
            "type": "double"
           },
           {
            "metadata": {},
            "name": "demanda",
            "nullable": true,
            "type": "integer"
           },
           {
            "metadata": {},
            "name": "estoque",
            "nullable": true,
            "type": "integer"
           },
           {
            "metadata": {},
            "name": "preco_concorrencia",
            "nullable": true,
            "type": "double"
           },
           {
            "metadata": {},
            "name": "Sazonalidade",
            "nullable": true,
            "type": "string"
           },
           {
            "metadata": {},
            "name": "estoque_baixo",
            "nullable": false,
            "type": "integer"
           },
           {
            "metadata": {},
            "name": "demanda_alta",
            "nullable": false,
            "type": "integer"
           },
           {
            "metadata": {},
            "name": "diferenca_vs_concorrencia",
            "nullable": true,
            "type": "double"
           },
           {
            "metadata": {},
            "name": "data_carga",
            "nullable": false,
            "type": "timestamp"
           }
          ],
          "type": "struct"
         },
         "tableIdentifier": null,
         "typeStr": "pyspark.sql.connect.dataframe.DataFrame"
        }
       ],
       "dbfsResultPath": null,
       "isJsonSchema": true,
       "metadata": {
        "createTempViewForImplicitDf": true,
        "dataframeName": "_sqldf",
        "executionCount": 31
       },
       "overflow": false,
       "plotOptions": {
        "customPlotOptions": {},
        "displayType": "table",
        "pivotAggregation": null,
        "pivotColumns": null,
        "xColumns": null,
        "yColumns": null
       },
       "removedWidgets": [],
       "schema": [
        {
         "metadata": "{\"__detected_date_formats\": \"yyyy-M-d\"}",
         "name": "Data",
         "type": "\"date\""
        },
        {
         "metadata": "{}",
         "name": "ano",
         "type": "\"integer\""
        },
        {
         "metadata": "{}",
         "name": "mes",
         "type": "\"integer\""
        },
        {
         "metadata": "{}",
         "name": "Produto",
         "type": "\"string\""
        },
        {
         "metadata": "{}",
         "name": "preco_atual",
         "type": "\"double\""
        },
        {
         "metadata": "{}",
         "name": "demanda",
         "type": "\"integer\""
        },
        {
         "metadata": "{}",
         "name": "estoque",
         "type": "\"integer\""
        },
        {
         "metadata": "{}",
         "name": "preco_concorrencia",
         "type": "\"double\""
        },
        {
         "metadata": "{}",
         "name": "Sazonalidade",
         "type": "\"string\""
        },
        {
         "metadata": "{}",
         "name": "estoque_baixo",
         "type": "\"integer\""
        },
        {
         "metadata": "{}",
         "name": "demanda_alta",
         "type": "\"integer\""
        },
        {
         "metadata": "{}",
         "name": "diferenca_vs_concorrencia",
         "type": "\"double\""
        },
        {
         "metadata": "{}",
         "name": "data_carga",
         "type": "\"timestamp\""
        }
       ],
       "type": "table"
      }
     },
     "output_type": "display_data"
    }
   ],
   "source": [
    "%sql\n",
    "-- Visualizar a Silver (como temporary view)\n",
    "SELECT * FROM base_precificacao_silver \n",
    "ORDER BY Data, produto \n",
    "LIMIT 3;"
   ]
  },
  {
   "cell_type": "code",
   "execution_count": 0,
   "metadata": {
    "application/vnd.databricks.v1+cell": {
     "cellMetadata": {
      "byteLimit": 2048000,
      "implicitDf": true,
      "rowLimit": 10000
     },
     "inputWidgets": {},
     "nuid": "1b6071d0-b3b2-4a2b-bb05-9e1ce8c83895",
     "showTitle": false,
     "tableResultSettingsMap": {},
     "title": ""
    }
   },
   "outputs": [
    {
     "output_type": "display_data",
     "data": {
      "text/html": [
       "<style scoped>\n",
       "  .table-result-container {\n",
       "    max-height: 300px;\n",
       "    overflow: auto;\n",
       "  }\n",
       "  table, th, td {\n",
       "    border: 1px solid black;\n",
       "    border-collapse: collapse;\n",
       "  }\n",
       "  th, td {\n",
       "    padding: 5px;\n",
       "  }\n",
       "  th {\n",
       "    text-align: left;\n",
       "  }\n",
       "</style><div class='table-result-container'><table class='table-result'><thead style='background-color: white'><tr><th>Data</th><th>ano</th><th>mes</th><th>produto_encoded</th><th>preco_atual</th><th>demanda</th><th>estoque</th><th>preco_concorrencia</th><th>sazonalidade_encoded</th><th>estoque_baixo</th><th>demanda_alta</th><th>diferenca_vs_concorrencia</th><th>taxa_rotatividade</th><th>percentual_diferenca_concorrencia</th><th>data_carga</th></tr></thead><tbody><tr><td>2023-01-01</td><td>2023</td><td>1</td><td>1</td><td>49.9</td><td>180</td><td>1200</td><td>48.5</td><td>1</td><td>0</td><td>0</td><td>1.3999999999999986</td><td>0.15</td><td>0.02886597938144327</td><td>2025-09-05T18:25:36.341Z</td></tr><tr><td>2023-01-01</td><td>2023</td><td>1</td><td>2</td><td>149.9</td><td>90</td><td>600</td><td>155.0</td><td>1</td><td>0</td><td>0</td><td>-5.099999999999994</td><td>0.15</td><td>-0.03290322580645157</td><td>2025-09-05T18:25:36.341Z</td></tr><tr><td>2023-01-01</td><td>2023</td><td>1</td><td>3</td><td>249.9</td><td>75</td><td>450</td><td>255.0</td><td>1</td><td>0</td><td>0</td><td>-5.099999999999994</td><td>0.16666666666666666</td><td>-0.019999999999999976</td><td>2025-09-05T18:25:36.341Z</td></tr></tbody></table></div>"
      ]
     },
     "metadata": {
      "application/vnd.databricks.v1+output": {
       "addedWidgets": {},
       "aggData": [],
       "aggError": "",
       "aggOverflow": false,
       "aggSchema": [],
       "aggSeriesLimitReached": false,
       "aggType": "",
       "arguments": {},
       "columnCustomDisplayInfos": {},
       "data": [
        [
         "2023-01-01",
         2023,
         1,
         1,
         49.9,
         180,
         1200,
         48.5,
         1,
         0,
         0,
         1.3999999999999986,
         0.15,
         0.02886597938144327,
         "2025-09-05T18:25:36.341Z"
        ],
        [
         "2023-01-01",
         2023,
         1,
         2,
         149.9,
         90,
         600,
         155.0,
         1,
         0,
         0,
         -5.099999999999994,
         0.15,
         -0.03290322580645157,
         "2025-09-05T18:25:36.341Z"
        ],
        [
         "2023-01-01",
         2023,
         1,
         3,
         249.9,
         75,
         450,
         255.0,
         1,
         0,
         0,
         -5.099999999999994,
         0.16666666666666666,
         -0.019999999999999976,
         "2025-09-05T18:25:36.341Z"
        ]
       ],
       "datasetInfos": [
        {
         "name": "_sqldf",
         "schema": {
          "fields": [
           {
            "metadata": {
             "__detected_date_formats": "yyyy-M-d"
            },
            "name": "Data",
            "nullable": true,
            "type": "date"
           },
           {
            "metadata": {},
            "name": "ano",
            "nullable": true,
            "type": "integer"
           },
           {
            "metadata": {},
            "name": "mes",
            "nullable": true,
            "type": "integer"
           },
           {
            "metadata": {},
            "name": "produto_encoded",
            "nullable": true,
            "type": "integer"
           },
           {
            "metadata": {},
            "name": "preco_atual",
            "nullable": true,
            "type": "double"
           },
           {
            "metadata": {},
            "name": "demanda",
            "nullable": true,
            "type": "integer"
           },
           {
            "metadata": {},
            "name": "estoque",
            "nullable": true,
            "type": "integer"
           },
           {
            "metadata": {},
            "name": "preco_concorrencia",
            "nullable": true,
            "type": "double"
           },
           {
            "metadata": {},
            "name": "sazonalidade_encoded",
            "nullable": true,
            "type": "integer"
           },
           {
            "metadata": {},
            "name": "estoque_baixo",
            "nullable": true,
            "type": "integer"
           },
           {
            "metadata": {},
            "name": "demanda_alta",
            "nullable": true,
            "type": "integer"
           },
           {
            "metadata": {},
            "name": "diferenca_vs_concorrencia",
            "nullable": true,
            "type": "double"
           },
           {
            "metadata": {},
            "name": "taxa_rotatividade",
            "nullable": true,
            "type": "double"
           },
           {
            "metadata": {},
            "name": "percentual_diferenca_concorrencia",
            "nullable": true,
            "type": "double"
           },
           {
            "metadata": {},
            "name": "data_carga",
            "nullable": true,
            "type": "timestamp"
           }
          ],
          "type": "struct"
         },
         "tableIdentifier": null,
         "typeStr": "pyspark.sql.connect.dataframe.DataFrame"
        }
       ],
       "dbfsResultPath": null,
       "isJsonSchema": true,
       "metadata": {
        "createTempViewForImplicitDf": true,
        "dataframeName": "_sqldf",
        "executionCount": 32
       },
       "overflow": false,
       "plotOptions": {
        "customPlotOptions": {},
        "displayType": "table",
        "pivotAggregation": null,
        "pivotColumns": null,
        "xColumns": null,
        "yColumns": null
       },
       "removedWidgets": [],
       "schema": [
        {
         "metadata": "{\"__detected_date_formats\": \"yyyy-M-d\"}",
         "name": "Data",
         "type": "\"date\""
        },
        {
         "metadata": "{}",
         "name": "ano",
         "type": "\"integer\""
        },
        {
         "metadata": "{}",
         "name": "mes",
         "type": "\"integer\""
        },
        {
         "metadata": "{}",
         "name": "produto_encoded",
         "type": "\"integer\""
        },
        {
         "metadata": "{}",
         "name": "preco_atual",
         "type": "\"double\""
        },
        {
         "metadata": "{}",
         "name": "demanda",
         "type": "\"integer\""
        },
        {
         "metadata": "{}",
         "name": "estoque",
         "type": "\"integer\""
        },
        {
         "metadata": "{}",
         "name": "preco_concorrencia",
         "type": "\"double\""
        },
        {
         "metadata": "{}",
         "name": "sazonalidade_encoded",
         "type": "\"integer\""
        },
        {
         "metadata": "{}",
         "name": "estoque_baixo",
         "type": "\"integer\""
        },
        {
         "metadata": "{}",
         "name": "demanda_alta",
         "type": "\"integer\""
        },
        {
         "metadata": "{}",
         "name": "diferenca_vs_concorrencia",
         "type": "\"double\""
        },
        {
         "metadata": "{}",
         "name": "taxa_rotatividade",
         "type": "\"double\""
        },
        {
         "metadata": "{}",
         "name": "percentual_diferenca_concorrencia",
         "type": "\"double\""
        },
        {
         "metadata": "{}",
         "name": "data_carga",
         "type": "\"timestamp\""
        }
       ],
       "type": "table"
      }
     },
     "output_type": "display_data"
    }
   ],
   "source": [
    "%sql\n",
    "-- Visualizar a Gold (tabela permanente)\n",
    "SELECT * FROM precificacao.db_precificacao.base_precificacao_gold \n",
    "ORDER BY Data, produto_encoded \n",
    "LIMIT 3;"
   ]
  },
  {
   "cell_type": "code",
   "execution_count": 0,
   "metadata": {
    "application/vnd.databricks.v1+cell": {
     "cellMetadata": {
      "byteLimit": 2048000,
      "rowLimit": 10000
     },
     "inputWidgets": {},
     "nuid": "1ed19981-c820-4f55-a421-45d2af20618b",
     "showTitle": false,
     "tableResultSettingsMap": {},
     "title": ""
    }
   },
   "outputs": [
    {
     "output_type": "stream",
     "name": "stdout",
     "output_type": "stream",
     "text": [
      "================================================================================\nANÁLISE DE PREVISÕES - MODELO RANDOM FOREST\n================================================================================\n"
     ]
    },
    {
     "output_type": "display_data",
     "data": {
      "text/html": [
       "<style scoped>\n",
       "  .table-result-container {\n",
       "    max-height: 300px;\n",
       "    overflow: auto;\n",
       "  }\n",
       "  table, th, td {\n",
       "    border: 1px solid black;\n",
       "    border-collapse: collapse;\n",
       "  }\n",
       "  th, td {\n",
       "    padding: 5px;\n",
       "  }\n",
       "  th {\n",
       "    text-align: left;\n",
       "  }\n",
       "</style><div class='table-result-container'><table class='table-result'><thead style='background-color: white'><tr><th>Data</th><th>Produto</th><th>Real (R$)</th><th>Previsto (R$)</th><th>Concorrência (R$)</th><th>Diferença vs Concorrente (R$)</th><th>Erro Absoluto (R$)</th></tr></thead><tbody><tr><td>2023-01-01</td><td>Boné de Aba Reta</td><td>39.9</td><td>43.84</td><td>42.0</td><td>1.84</td><td>3.94</td></tr><tr><td>2023-01-01</td><td>Camiseta Básica</td><td>49.9</td><td>53.58</td><td>48.5</td><td>5.08</td><td>3.68</td></tr><tr><td>2023-03-01</td><td>Calça Jeans</td><td>148.5</td><td>153.43</td><td>150.0</td><td>3.43</td><td>4.93</td></tr><tr><td>2023-03-01</td><td>Camiseta Básica</td><td>50.0</td><td>51.1</td><td>50.5</td><td>0.6</td><td>1.1</td></tr><tr><td>2023-04-01</td><td>Moletom com Capuz</td><td>115.0</td><td>120.85</td><td>113.0</td><td>7.85</td><td>5.85</td></tr><tr><td>2023-06-01</td><td>Calça Jeans</td><td>155.0</td><td>153.42</td><td>154.0</td><td>-0.58</td><td>1.58</td></tr><tr><td>2023-07-01</td><td>Calça Jeans</td><td>158.0</td><td>151.14</td><td>157.0</td><td>-5.86</td><td>6.86</td></tr><tr><td>2023-08-01</td><td>Calça Jeans</td><td>156.0</td><td>152.03</td><td>155.0</td><td>-2.97</td><td>3.97</td></tr><tr><td>2023-09-01</td><td>Boné de Aba Reta</td><td>49.9</td><td>62.22</td><td>49.5</td><td>12.72</td><td>12.32</td></tr><tr><td>2023-09-01</td><td>Camiseta Básica</td><td>55.0</td><td>56.8</td><td>54.2</td><td>2.6</td><td>1.8</td></tr></tbody></table></div>"
      ]
     },
     "metadata": {
      "application/vnd.databricks.v1+output": {
       "addedWidgets": {},
       "aggData": [],
       "aggError": "",
       "aggOverflow": false,
       "aggSchema": [],
       "aggSeriesLimitReached": false,
       "aggType": "",
       "arguments": {},
       "columnCustomDisplayInfos": {},
       "data": [
        [
         "2023-01-01",
         "Boné de Aba Reta",
         39.9,
         43.84,
         42.0,
         1.84,
         3.94
        ],
        [
         "2023-01-01",
         "Camiseta Básica",
         49.9,
         53.58,
         48.5,
         5.08,
         3.68
        ],
        [
         "2023-03-01",
         "Calça Jeans",
         148.5,
         153.43,
         150.0,
         3.43,
         4.93
        ],
        [
         "2023-03-01",
         "Camiseta Básica",
         50.0,
         51.1,
         50.5,
         0.6,
         1.1
        ],
        [
         "2023-04-01",
         "Moletom com Capuz",
         115.0,
         120.85,
         113.0,
         7.85,
         5.85
        ],
        [
         "2023-06-01",
         "Calça Jeans",
         155.0,
         153.42,
         154.0,
         -0.58,
         1.58
        ],
        [
         "2023-07-01",
         "Calça Jeans",
         158.0,
         151.14,
         157.0,
         -5.86,
         6.86
        ],
        [
         "2023-08-01",
         "Calça Jeans",
         156.0,
         152.03,
         155.0,
         -2.97,
         3.97
        ],
        [
         "2023-09-01",
         "Boné de Aba Reta",
         49.9,
         62.22,
         49.5,
         12.72,
         12.32
        ],
        [
         "2023-09-01",
         "Camiseta Básica",
         55.0,
         56.8,
         54.2,
         2.6,
         1.8
        ]
       ],
       "datasetInfos": [],
       "dbfsResultPath": null,
       "isJsonSchema": true,
       "metadata": {},
       "overflow": false,
       "plotOptions": {
        "customPlotOptions": {},
        "displayType": "table",
        "pivotAggregation": null,
        "pivotColumns": null,
        "xColumns": null,
        "yColumns": null
       },
       "removedWidgets": [],
       "schema": [
        {
         "metadata": "{}",
         "name": "Data",
         "type": "\"date\""
        },
        {
         "metadata": "{}",
         "name": "Produto",
         "type": "\"string\""
        },
        {
         "metadata": "{}",
         "name": "Real (R$)",
         "type": "\"double\""
        },
        {
         "metadata": "{}",
         "name": "Previsto (R$)",
         "type": "\"double\""
        },
        {
         "metadata": "{}",
         "name": "Concorrência (R$)",
         "type": "\"double\""
        },
        {
         "metadata": "{}",
         "name": "Diferença vs Concorrente (R$)",
         "type": "\"double\""
        },
        {
         "metadata": "{}",
         "name": "Erro Absoluto (R$)",
         "type": "\"double\""
        }
       ],
       "type": "table"
      }
     },
     "output_type": "display_data"
    },
    {
     "output_type": "stream",
     "name": "stdout",
     "output_type": "stream",
     "text": [
      "\n================================================================================\nESTATÍSTICAS DE PERFORMANCE\n================================================================================\nErro Médio Absoluto (MAE): R$ 3.90\nPreço Médio Previsto: R$ 111.68\nPreço Médio Concorrência: R$ 110.38\nPosicionamento Médio: R$ 1.30 acima da concorrência\n\nEstratégia Competitiva:\n- Acima da concorrência: 15 previsões\n- Abaixo da concorrência: 9 previsões\n- Alinhado com concorrência: 0 previsões\n================================================================================\n"
     ]
    }
   ],
   "source": [
    "#                                            Análise de Previsões\n",
    "resultados_ml = pd.DataFrame({\n",
    "    'Data': pandas_df.iloc[y_teste.index]['Data'].values,\n",
    "    'Produto_encoded': X_teste['produto_encoded'].values,\n",
    "    'Real': y_teste.values,\n",
    "    'Previsto_RF': y_previsto_rf,\n",
    "    'Preco_Concorrencia': pandas_df.iloc[y_teste.index]['preco_concorrencia'].values\n",
    "})\n",
    "\n",
    "# Adicionar descrição do produto\n",
    "mapa_produtos = {\n",
    "    1: 'Camiseta Básica',\n",
    "    2: 'Calça Jeans', \n",
    "    3: 'Tênis Esportivo',\n",
    "    4: 'Moletom com Capuz',\n",
    "    5: 'Boné de Aba Reta'\n",
    "}\n",
    "\n",
    "resultados_ml['Produto'] = resultados_ml['Produto_encoded'].map(mapa_produtos)\n",
    "\n",
    "# Calcular métricas\n",
    "resultados_ml['Erro_Absoluto'] = np.abs(y_previsto_rf - y_teste.values).round(2)\n",
    "resultados_ml['Diferenca_Concorrente'] = (y_previsto_rf - resultados_ml['Preco_Concorrencia']).round(2)\n",
    "\n",
    "# Ordenar por data e produto\n",
    "resultados_ml = resultados_ml.sort_values(['Data', 'Produto'])\n",
    "\n",
    "# Formatar valores monetários\n",
    "resultados_ml['Real'] = resultados_ml['Real'].round(2)\n",
    "resultados_ml['Previsto_RF'] = resultados_ml['Previsto_RF'].round(2)\n",
    "resultados_ml['Preco_Concorrencia'] = resultados_ml['Preco_Concorrencia'].round(2)\n",
    "\n",
    "# Selecionar e ordenar colunas para exibição\n",
    "resultados_display = resultados_ml[['Data', 'Produto', 'Real', 'Previsto_RF', \n",
    "                                  'Preco_Concorrencia', 'Diferenca_Concorrente', 'Erro_Absoluto']]\n",
    "\n",
    "# Renomear colunas para português\n",
    "resultados_display.columns = ['Data', 'Produto', 'Real (R$)', 'Previsto (R$)', \n",
    "                            'Concorrência (R$)', 'Diferença vs Concorrente (R$)', 'Erro Absoluto (R$)']\n",
    "\n",
    "print(\"=\" * 80)\n",
    "print(\"ANÁLISE DE PREVISÕES - MODELO RANDOM FOREST\")\n",
    "print(\"=\" * 80)\n",
    "display(resultados_display.head(10))\n",
    "\n",
    "# Estatísticas resumidas\n",
    "print(\"\\n\" + \"=\" * 80)\n",
    "print(\"ESTATÍSTICAS DE PERFORMANCE\")\n",
    "print(\"=\" * 80)\n",
    "\n",
    "print(f\"Erro Médio Absoluto (MAE): R$ {resultados_display['Erro Absoluto (R$)'].mean():.2f}\")\n",
    "print(f\"Preço Médio Previsto: R$ {resultados_display['Previsto (R$)'].mean():.2f}\")\n",
    "print(f\"Preço Médio Concorrência: R$ {resultados_display['Concorrência (R$)'].mean():.2f}\")\n",
    "\n",
    "diferenca_media = resultados_display['Diferença vs Concorrente (R$)'].mean()\n",
    "posicionamento = \"acima\" if diferenca_media > 0 else \"abaixo\"\n",
    "print(f\"Posicionamento Médio: R$ {abs(diferenca_media):.2f} {posicionamento} da concorrência\")\n",
    "\n",
    "# Análise competitiva\n",
    "acima = (resultados_display['Diferença vs Concorrente (R$)'] > 0).sum()\n",
    "abaixo = (resultados_display['Diferença vs Concorrente (R$)'] < 0).sum()\n",
    "igual = (resultados_display['Diferença vs Concorrente (R$)'] == 0).sum()\n",
    "\n",
    "print(f\"\\nEstratégia Competitiva:\")\n",
    "print(f\"- Acima da concorrência: {acima} previsões\")\n",
    "print(f\"- Abaixo da concorrência: {abaixo} previsões\") \n",
    "print(f\"- Alinhado com concorrência: {igual} previsões\")\n",
    "print(\"=\" * 80)"
   ]
  },
  {
   "cell_type": "code",
   "execution_count": 0,
   "metadata": {
    "application/vnd.databricks.v1+cell": {
     "cellMetadata": {
      "byteLimit": 2048000,
      "rowLimit": 10000
     },
     "inputWidgets": {},
     "nuid": "c5aa3531-3d71-42f0-9df2-51a7616f06e7",
     "showTitle": false,
     "tableResultSettingsMap": {},
     "title": ""
    }
   },
   "outputs": [
    {
     "output_type": "display_data",
     "data": {
      "image/png": "[encoded data removed]",
      "text/plain": [
       "<Figure size 600x300 with 1 Axes>"
      ]
     },
     "metadata": {},
     "output_type": "display_data"
    }
   ],
   "source": [
    "# Gráfico comparativo\n",
    "import matplotlib.pyplot as plt\n",
    "\n",
    "plt.figure(figsize=(6, 3))\n",
    "plt.plot(resultados_ml['Real'].values, label='Real', marker='o')\n",
    "plt.plot(resultados_ml['Previsto_RF'].values, label='Previsto', marker='x')\n",
    "plt.title('Preços Reais vs Previsões do Modelo')\n",
    "plt.xlabel('Amostras')\n",
    "plt.ylabel('Preço (R$)')\n",
    "plt.legend()\n",
    "plt.grid(True)\n",
    "plt.show()"
   ]
  },
  {
   "cell_type": "markdown",
   "metadata": {
    "application/vnd.databricks.v1+cell": {
     "cellMetadata": {
      "byteLimit": 2048000,
      "rowLimit": 10000
     },
     "inputWidgets": {},
     "nuid": "dc994534-ddd8-40f6-b09a-568f9f25370a",
     "showTitle": false,
     "tableResultSettingsMap": {},
     "title": ""
    }
   },
   "source": [
    "#                                                                          Deploy"
   ]
  },
  {
   "cell_type": "code",
   "execution_count": 0,
   "metadata": {
    "application/vnd.databricks.v1+cell": {
     "cellMetadata": {
      "byteLimit": 2048000,
      "rowLimit": 10000
     },
     "inputWidgets": {},
     "nuid": "32156927-6754-40fe-b967-d699e0bb77a7",
     "showTitle": false,
     "tableResultSettingsMap": {},
     "title": ""
    }
   },
   "outputs": [
    {
     "output_type": "stream",
     "name": "stdout",
     "output_type": "stream",
     "text": [
      "Modelo Random Forest treinado com sucesso\n"
     ]
    }
   ],
   "source": [
    "# Recriar e treinar o modelo Random Forest\n",
    "from sklearn.ensemble import RandomForestRegressor\n",
    "import numpy as np\n",
    "\n",
    "# Recarregar os dados\n",
    "gold_df = spark.table(\"precificacao.db_precificacao.base_precificacao_gold\")\n",
    "pandas_df = gold_df.toPandas()\n",
    "\n",
    "# Features seguras (sem vazamento)\n",
    "features_seguras = ['ano', 'mes', 'produto_encoded', 'demanda', 'estoque', 'sazonalidade_encoded', 'estoque_baixo', 'demanda_alta']\n",
    "\n",
    "# Separar features e target\n",
    "X = pandas_df[features_seguras]\n",
    "y = pandas_df['preco_atual']\n",
    "\n",
    "# Treinar o modelo Random Forest\n",
    "modelo_rf = RandomForestRegressor(n_estimators=100, random_state=42, max_depth=5)\n",
    "modelo_rf.fit(X, y)\n",
    "\n",
    "print(\"Modelo Random Forest treinado com sucesso\")"
   ]
  },
  {
   "cell_type": "code",
   "execution_count": 0,
   "metadata": {
    "application/vnd.databricks.v1+cell": {
     "cellMetadata": {
      "byteLimit": 2048000,
      "rowLimit": 10000
     },
     "inputWidgets": {},
     "nuid": "c877df47-5aa9-4640-a1f4-e382807a609c",
     "showTitle": false,
     "tableResultSettingsMap": {},
     "title": ""
    }
   },
   "outputs": [
    {
     "output_type": "stream",
     "name": "stdout",
     "output_type": "stream",
     "text": [
      "Função 'prever_preco' criada com sucesso\nUso: prever_preco('Camiseta Básica', 200, 150, 'Alta', 12, 2024)\n"
     ]
    }
   ],
   "source": [
    "# Importar pandas\n",
    "import pandas as pd\n",
    "\n",
    "# Agora recriar a função de previsão\n",
    "def prever_preco(produto, demanda, estoque, sazonalidade, mes, ano):\n",
    "    \"\"\"\n",
    "    FUNÇÃO PARA PREVER PREÇO DE PRODUTOS\n",
    "    Entrada: dados do produto e contexto de mercado\n",
    "    Saída: preço sugerido pelo modelo\n",
    "    \"\"\"\n",
    "    # Mapeamentos consistentes com o treino\n",
    "    mapa_produtos = {\n",
    "        'Camiseta Básica': 1, \n",
    "        'Calça Jeans': 2, \n",
    "        'Tênis Esportivo': 3, \n",
    "        'Moletom com Capuz': 4, \n",
    "        'Boné de Aba Reta': 5\n",
    "    }\n",
    "    \n",
    "    mapa_sazonalidade = {\n",
    "        'Baixa': 1, \n",
    "        'Média': 2, \n",
    "        'Alta': 3, \n",
    "        'Black Friday': 4\n",
    "    }\n",
    "    \n",
    "    # Preparar os dados para o modelo\n",
    "    dados_entrada = {\n",
    "        'ano': [ano],\n",
    "        'mes': [mes], \n",
    "        'produto_encoded': [mapa_produtos[produto]],\n",
    "        'demanda': [demanda],\n",
    "        'estoque': [estoque],\n",
    "        'sazonalidade_encoded': [mapa_sazonalidade[sazonalidade]],\n",
    "        'estoque_baixo': [1 if estoque < 100 else 0],\n",
    "        'demanda_alta': [1 if demanda > 200 else 0]\n",
    "    }\n",
    "    \n",
    "    # Converter para DataFrame\n",
    "    df_entrada = pd.DataFrame(dados_entrada)\n",
    "    \n",
    "    # Fazer a previsão\n",
    "    preco_previsto = modelo_rf.predict(df_entrada)\n",
    "    \n",
    "    return round(float(preco_previsto[0]), 2)\n",
    "\n",
    "print(\"Função 'prever_preco' criada com sucesso\")\n",
    "print(\"Uso: prever_preco('Camiseta Básica', 200, 150, 'Alta', 12, 2024)\")"
   ]
  },
  {
   "cell_type": "code",
   "execution_count": 0,
   "metadata": {
    "application/vnd.databricks.v1+cell": {
     "cellMetadata": {
      "byteLimit": 2048000,
      "rowLimit": 10000
     },
     "inputWidgets": {},
     "nuid": "f9b2100e-b3e3-45cf-95dc-617bf0ce43af",
     "showTitle": false,
     "tableResultSettingsMap": {},
     "title": ""
    }
   },
   "outputs": [
    {
     "output_type": "stream",
     "name": "stdout",
     "output_type": "stream",
     "text": [
      "Preço Camiseta (Alta temporada): R$ 55.99\nPreço Calça (Média temporada): R$ 154.13\nPreço Tênis (Black Friday): R$ 305.7\n"
     ]
    }
   ],
   "source": [
    "# Testar a função com alguns exemplos\n",
    "try:\n",
    "    # Teste 1\n",
    "    preco1 = prever_preco('Camiseta Básica', 250, 80, 'Alta', 12, 2024)\n",
    "    print(f\"Preço Camiseta (Alta temporada): R$ {preco1}\")\n",
    "    \n",
    "    # Teste 2  \n",
    "    preco2 = prever_preco('Calça Jeans', 150, 200, 'Média', 6, 2024)\n",
    "    print(f\"Preço Calça (Média temporada): R$ {preco2}\")\n",
    "    \n",
    "    # Teste 3\n",
    "    preco3 = prever_preco('Tênis Esportivo', 350, 50, 'Black Friday', 11, 2024)\n",
    "    print(f\"Preço Tênis (Black Friday): R$ {preco3}\")\n",
    "    \n",
    "except Exception as e:\n",
    "    print(f\"Erro ao testar função: {e}\")"
   ]
  },
  {
   "cell_type": "code",
   "execution_count": 0,
   "metadata": {
    "application/vnd.databricks.v1+cell": {
     "cellMetadata": {
      "byteLimit": 2048000,
      "rowLimit": 10000
     },
     "inputWidgets": {},
     "nuid": "1a39dd60-2001-45a6-80df-6ef3af6b0e12",
     "showTitle": false,
     "tableResultSettingsMap": {},
     "title": ""
    }
   },
   "outputs": [
    {
     "output_type": "stream",
     "name": "stdout",
     "output_type": "stream",
     "text": [
      "ANÁLISE DETALHADA DAS PREVISÕES\n==================================================\n\n=== ANÁLISE PARA CAMISETA BÁSICA ===\nPreço previsto: R$ 55.99\n\nCOMPARAÇÃO COM HISTÓRICO:\n• Preço médio histórico: R$ 54.39\n• Preço médio na Alta: R$ 56.55\n• Variação histórica: R$ 49.90 - R$ 63.00\n\nSTATUS: ALINHADO com a média sazonal\n==================================================\n\n=== ANÁLISE PARA CALÇA JEANS ===\nPreço previsto: R$ 154.13\n\nCOMPARAÇÃO COM HISTÓRICO:\n• Preço médio histórico: R$ 158.47\n• Preço médio na Média: R$ 153.19\n• Variação histórica: R$ 145.00 - R$ 176.00\n\nSTATUS: ALINHADO com a média sazonal\n==================================================\n\n=== ANÁLISE PARA TÊNIS ESPORTIVO ===\nPreço previsto: R$ 305.70\n\nCOMPARAÇÃO COM HISTÓRICO:\n• Preço médio histórico: R$ 283.70\n• Preço médio na Black Friday: R$ 320.00\n• Variação histórica: R$ 249.90 - R$ 340.00\n\nSTATUS: ABAIXO da média sazonal (R$ 14.30)\n==================================================\n\n"
     ]
    }
   ],
   "source": [
    "# Análise comparativa das previsões\n",
    "def analisar_previsao(produto, demanda, estoque, sazonalidade, mes, ano):\n",
    "    \"\"\"\n",
    "    Função para analisar a previsão com comparações\n",
    "    \"\"\"\n",
    "    # Fazer a previsão\n",
    "    preco_previsto = prever_preco(produto, demanda, estoque, sazonalidade, mes, ano)\n",
    "    \n",
    "    # Encontrar preços históricos para comparação\n",
    "    historico_produto = pandas_df[\n",
    "        (pandas_df['produto_encoded'] == {'Camiseta Básica': 1, 'Calça Jeans': 2, \n",
    "                                         'Tênis Esportivo': 3, 'Moletom com Capuz': 4, \n",
    "                                         'Boné de Aba Reta': 5}[produto])\n",
    "    ]\n",
    "    \n",
    "    # Calcular estatísticas históricas\n",
    "    preco_medio_historico = historico_produto['preco_atual'].mean()\n",
    "    preco_max_historico = historico_produto['preco_atual'].max()\n",
    "    preco_min_historico = historico_produto['preco_atual'].min()\n",
    "    \n",
    "    # Encontrar preços na mesma sazonalidade\n",
    "    sazonalidade_code = {'Baixa': 1, 'Média': 2, 'Alta': 3, 'Black Friday': 4}[sazonalidade]\n",
    "    historico_sazonal = historico_produto[historico_produto['sazonalidade_encoded'] == sazonalidade_code]\n",
    "    \n",
    "    if not historico_sazonal.empty:\n",
    "        preco_medio_sazonal = historico_sazonal['preco_atual'].mean()\n",
    "    else:\n",
    "        preco_medio_sazonal = preco_medio_historico\n",
    "    \n",
    "    print(f\"=== ANÁLISE PARA {produto.upper()} ===\")\n",
    "    print(f\"Preço previsto: R$ {preco_previsto:.2f}\")\n",
    "    print(\"\")\n",
    "    print(\"COMPARAÇÃO COM HISTÓRICO:\")\n",
    "    print(f\"• Preço médio histórico: R$ {preco_medio_historico:.2f}\")\n",
    "    print(f\"• Preço médio na {sazonalidade}: R$ {preco_medio_sazonal:.2f}\")\n",
    "    print(f\"• Variação histórica: R$ {preco_min_historico:.2f} - R$ {preco_max_historico:.2f}\")\n",
    "    print(\"\")\n",
    "    \n",
    "    # Análise de posicionamento\n",
    "    diferenca_media = preco_previsto - preco_medio_sazonal\n",
    "    if abs(diferenca_media) < 5:\n",
    "        status = \"ALINHADO com a média sazonal\"\n",
    "    elif diferenca_media > 0:\n",
    "        status = f\"ACIMA da média sazonal (+R$ {diferenca_media:.2f})\"\n",
    "    else:\n",
    "        status = f\"ABAIXO da média sazonal (R$ {abs(diferenca_media):.2f})\"\n",
    "    \n",
    "    print(f\"STATUS: {status}\")\n",
    "    print(\"=\" * 50)\n",
    "    print(\"\")\n",
    "    \n",
    "    return preco_previsto\n",
    "\n",
    "# Executar análise para os mesmos exemplos\n",
    "print(\"ANÁLISE DETALHADA DAS PREVISÕES\")\n",
    "print(\"=\" * 50)\n",
    "print(\"\")\n",
    "\n",
    "preco1 = analisar_previsao('Camiseta Básica', 250, 80, 'Alta', 12, 2024)\n",
    "preco2 = analisar_previsao('Calça Jeans', 150, 200, 'Média', 6, 2024)\n",
    "preco3 = analisar_previsao('Tênis Esportivo', 350, 50, 'Black Friday', 11, 2024)"
   ]
  },
  {
   "cell_type": "code",
   "execution_count": 0,
   "metadata": {
    "application/vnd.databricks.v1+cell": {
     "cellMetadata": {
      "byteLimit": 2048000,
      "rowLimit": 10000
     },
     "inputWidgets": {},
     "nuid": "ac2dfe75-c583-43da-b4a7-e0e13e6045b3",
     "showTitle": false,
     "tableResultSettingsMap": {},
     "title": ""
    }
   },
   "outputs": [
    {
     "output_type": "stream",
     "name": "stdout",
     "output_type": "stream",
     "text": [
      "TESTE DO SISTEMA COMPLETO COM VALIDAÇÃO\n==================================================\n\n=== PREVISÃO VALIDADA PARA CAMISETA BÁSICA ===\nPreço previsto inicial: R$ 55.99\nPreço final validado: R$ 55.99\n\nVALIDAÇÕES:\n• ✓ Dentro dos limites do produto\n• ✓ Variação de 2.9% aceitável\n==================================================\n\n=== PREVISÃO VALIDADA PARA CALÇA JEANS ===\nPreço previsto inicial: R$ 154.13\nPreço final validado: R$ 153.99\n\nVALIDAÇÕES:\n• ✓ Dentro dos limites do produto\n• ✓ Variação de -2.7% aceitável\n==================================================\n"
     ]
    }
   ],
   "source": [
    "def validar_previsao(produto, preco_previsto, preco_medio_historico):\n",
    "    \"\"\"\n",
    "    FUNÇÃO PARA VALIDAR PREVISÕES COM REGRAS DE NEGÓCIO\n",
    "    \"\"\"\n",
    "    # Definir limites por tipo de produto (em reais)\n",
    "    limites_produtos = {\n",
    "        'Camiseta Básica': {'min': 30.00, 'max': 80.00},\n",
    "        'Calça Jeans': {'min': 100.00, 'max': 200.00},\n",
    "        'Tênis Esportivo': {'min': 200.00, 'max': 350.00},\n",
    "        'Moletom com Capuz': {'min': 80.00, 'max': 160.00},\n",
    "        'Boné de Aba Reta': {'min': 35.00, 'max': 70.00}\n",
    "    }\n",
    "    \n",
    "    # Obter limites do produto\n",
    "    limites = limites_produtos.get(produto, {'min': 0, 'max': float('inf')})\n",
    "    \n",
    "    # Aplicar regras de validação\n",
    "    validacoes = []\n",
    "    \n",
    "    # 1. Verificar se está dentro dos limites absolutos\n",
    "    if preco_previsto < limites['min']:\n",
    "        validacoes.append(f\"ALERTA: Preço abaixo do mínimo (R$ {limites['min']})\")\n",
    "        preco_previsto = limites['min']\n",
    "    elif preco_previsto > limites['max']:\n",
    "        validacoes.append(f\"ALERTA: Preço acima do máximo (R$ {limites['max']})\")\n",
    "        preco_previsto = limites['max']\n",
    "    else:\n",
    "        validacoes.append(\"✓ Dentro dos limites do produto\")\n",
    "    \n",
    "    # 2. Verificar variação em relação à média histórica\n",
    "    variacao_percentual = ((preco_previsto - preco_medio_historico) / preco_medio_historico) * 100\n",
    "    \n",
    "    if abs(variacao_percentual) > 30:\n",
    "        validacoes.append(f\"ALERTA: Variação de {variacao_percentual:.1f}% da média histórica\")\n",
    "    else:\n",
    "        validacoes.append(f\"✓ Variação de {variacao_percentual:.1f}% aceitável\")\n",
    "    \n",
    "    # 3. Arredondar para múltiplo de 0.99 (prática comum no varejo)\n",
    "    preco_final = round(preco_previsto) - 0.01\n",
    "    \n",
    "    return preco_final, validacoes\n",
    "\n",
    "# Função completa com validação\n",
    "def prever_preco_com_validacao(produto, demanda, estoque, sazonalidade, mes, ano):\n",
    "    \"\"\"\n",
    "    FUNÇÃO COMPLETA COM PREVISÃO E VALIDAÇÃO\n",
    "    \"\"\"\n",
    "    # Fazer previsão\n",
    "    preco_previsto = prever_preco(produto, demanda, estoque, sazonalidade, mes, ano)\n",
    "    \n",
    "    # Calcular média histórica para validação\n",
    "    historico_produto = pandas_df[\n",
    "        (pandas_df['produto_encoded'] == {'Camiseta Básica': 1, 'Calça Jeans': 2, \n",
    "                                         'Tênis Esportivo': 3, 'Moletom com Capuz': 4, \n",
    "                                         'Boné de Aba Reta': 5}[produto])\n",
    "    ]\n",
    "    preco_medio_historico = historico_produto['preco_atual'].mean()\n",
    "    \n",
    "    # Validar previsão\n",
    "    preco_final, validacoes = validar_previsao(produto, preco_previsto, preco_medio_historico)\n",
    "    \n",
    "    print(f\"=== PREVISÃO VALIDADA PARA {produto.upper()} ===\")\n",
    "    print(f\"Preço previsto inicial: R$ {preco_previsto:.2f}\")\n",
    "    print(f\"Preço final validado: R$ {preco_final:.2f}\")\n",
    "    print(\"\")\n",
    "    print(\"VALIDAÇÕES:\")\n",
    "    for validacao in validacoes:\n",
    "        print(f\"• {validacao}\")\n",
    "    print(\"=\" * 50)\n",
    "    \n",
    "    return preco_final\n",
    "\n",
    "# Testar a função completa\n",
    "print(\"TESTE DO SISTEMA COMPLETO COM VALIDAÇÃO\")\n",
    "print(\"=\" * 50)\n",
    "print(\"\")\n",
    "\n",
    "preco_validado1 = prever_preco_com_validacao('Camiseta Básica', 250, 80, 'Alta', 12, 2024)\n",
    "print(\"\")\n",
    "preco_validado2 = prever_preco_com_validacao('Calça Jeans', 150, 200, 'Média', 6, 2024)"
   ]
  },
  {
   "cell_type": "markdown",
   "metadata": {
    "application/vnd.databricks.v1+cell": {
     "cellMetadata": {
      "byteLimit": 2048000,
      "rowLimit": 10000
     },
     "inputWidgets": {},
     "nuid": "c60b0010-8878-4560-ad9b-1cf56fcef8c7",
     "showTitle": false,
     "tableResultSettingsMap": {},
     "title": ""
    }
   },
   "source": [
    "# Monitoramento\n"
   ]
  },
  {
   "cell_type": "code",
   "execution_count": 0,
   "metadata": {
    "application/vnd.databricks.v1+cell": {
     "cellMetadata": {
      "byteLimit": 2048000,
      "rowLimit": 10000
     },
     "inputWidgets": {},
     "nuid": "7c6a0627-f32b-4344-8c20-79de36d90567",
     "showTitle": false,
     "tableResultSettingsMap": {},
     "title": ""
    }
   },
   "outputs": [
    {
     "output_type": "stream",
     "name": "stdout",
     "output_type": "stream",
     "text": [
      "Variáveis y_teste e y_previsto_rf recriadas\ny_teste shape: (24,)\ny_previsto_rf shape: (24,)\n"
     ]
    }
   ],
   "source": [
    "# Recriar as variáveis de teste e previsões\n",
    "from sklearn.model_selection import train_test_split\n",
    "\n",
    "# Certificar que temos os dados\n",
    "gold_df = spark.table(\"precificacao.db_precificacao.base_precificacao_gold\")\n",
    "pandas_df = gold_df.toPandas()\n",
    "\n",
    "# Features seguras\n",
    "features_seguras = ['ano', 'mes', 'produto_encoded', 'demanda', 'estoque', 'sazonalidade_encoded', 'estoque_baixo', 'demanda_alta']\n",
    "\n",
    "# Separar dados\n",
    "X = pandas_df[features_seguras]\n",
    "y = pandas_df['preco_atual']\n",
    "\n",
    "X_treino, X_teste, y_treino, y_teste = train_test_split(X, y, test_size=0.2, random_state=42)\n",
    "\n",
    "# Fazer previsões novamente\n",
    "y_previsto_rf = modelo_rf.predict(X_teste)\n",
    "\n",
    "print(\"Variáveis y_teste e y_previsto_rf recriadas\")\n",
    "print(f\"y_teste shape: {y_teste.shape}\")\n",
    "print(f\"y_previsto_rf shape: {y_previsto_rf.shape}\")"
   ]
  },
  {
   "cell_type": "code",
   "execution_count": 0,
   "metadata": {
    "application/vnd.databricks.v1+cell": {
     "cellMetadata": {
      "byteLimit": 2048000,
      "rowLimit": 10000
     },
     "inputWidgets": {},
     "nuid": "9d694fb2-bcf9-4977-ad02-8af599b6d6cb",
     "showTitle": false,
     "tableResultSettingsMap": {},
     "title": ""
    }
   },
   "outputs": [
    {
     "output_type": "stream",
     "name": "stdout",
     "output_type": "stream",
     "text": [
      "Dados preparados para dashboard\n"
     ]
    }
   ],
   "source": [
    "# Preparar dados para dashboard\n",
    "from sklearn.metrics import mean_absolute_error, r2_score\n",
    "\n",
    "def preparar_dados_dashboard():\n",
    "    dashboard_data = pd.DataFrame({\n",
    "        'data': pandas_df['Data'],\n",
    "        'produto': pandas_df['produto_encoded'].map({\n",
    "            1: 'Camiseta Básica', \n",
    "            2: 'Calça Jeans', \n",
    "            3: 'Tênis Esportivo',\n",
    "            4: 'Moletom com Capuz', \n",
    "            5: 'Boné de Aba Reta'\n",
    "        }),\n",
    "        'preco_real': pandas_df['preco_atual'],\n",
    "        'sazonalidade': pandas_df['sazonalidade_encoded'].map({\n",
    "            1: 'Baixa', \n",
    "            2: 'Média', \n",
    "            3: 'Alta', \n",
    "            4: 'Black Friday'\n",
    "        }),\n",
    "        'demanda': pandas_df['demanda'],\n",
    "        'estoque': pandas_df['estoque']\n",
    "    })\n",
    "    \n",
    "    performance = {\n",
    "        'mae': mean_absolute_error(y_teste, y_previsto_rf),\n",
    "        'r2': r2_score(y_teste, y_previsto_rf),\n",
    "        'total_previsoes': len(y_previsto_rf)\n",
    "    }\n",
    "    \n",
    "    return dashboard_data, performance\n",
    "\n",
    "dados_dashboard, metricas = preparar_dados_dashboard()\n",
    "print(\"Dados preparados para dashboard\")"
   ]
  },
  {
   "cell_type": "code",
   "execution_count": 0,
   "metadata": {
    "application/vnd.databricks.v1+cell": {
     "cellMetadata": {
      "byteLimit": 2048000,
      "rowLimit": 10000
     },
     "inputWidgets": {},
     "nuid": "46a9e85a-b5c4-4232-8453-130e1344e2c1",
     "showTitle": false,
     "tableResultSettingsMap": {},
     "title": ""
    }
   },
   "outputs": [
    {
     "output_type": "stream",
     "name": "stdout",
     "output_type": "stream",
     "text": [
      "DASHBOARD DE MONITORAMENTO\nPerformance do Modelo:\nMAE: 1.74\nR²: 0.9989\nTotal de previsoes: 24\n\n"
     ]
    },
    {
     "output_type": "display_data",
     "data": {
      "image/png": "[encoded data removed]",
      "text/plain": [
       "<Figure size 1000x400 with 1 Axes>"
      ]
     },
     "metadata": {},
     "output_type": "display_data"
    },
    {
     "output_type": "display_data",
     "data": {
      "image/png": "[encoded data removed]",
      "text/plain": [
       "<Figure size 1000x400 with 1 Axes>"
      ]
     },
     "metadata": {},
     "output_type": "display_data"
    }
   ],
   "source": [
    "import matplotlib.pyplot as plt\n",
    "\n",
    "print(\"DASHBOARD DE MONITORAMENTO\")\n",
    "print(\"Performance do Modelo:\")\n",
    "print(f\"MAE: {metricas['mae']:.2f}\")\n",
    "print(f\"R²: {metricas['r2']:.4f}\")\n",
    "print(f\"Total de previsoes: {metricas['total_previsoes']}\")\n",
    "print(\"\")\n",
    "\n",
    "# Grafico 1: Precos Reais vs Previstos\n",
    "plt.figure(figsize=(10, 4))\n",
    "plt.plot(y_teste.values, label='Real', alpha=0.7)\n",
    "plt.plot(y_previsto_rf, label='Previsto', alpha=0.7)\n",
    "plt.title('Comparacao: Precos Reais vs Previsoes')\n",
    "plt.legend()\n",
    "plt.grid(True)\n",
    "plt.show()\n",
    "\n",
    "# Grafico 2: Distribuicao de Erros\n",
    "plt.figure(figsize=(10, 4))\n",
    "erros = y_previsto_rf - y_teste.values\n",
    "plt.hist(erros, bins=20, alpha=0.7, edgecolor='black')\n",
    "plt.title('Distribuicao dos Erros de Previsao')\n",
    "plt.xlabel('Erro (R$)')\n",
    "plt.ylabel('Frequencia')\n",
    "plt.axvline(x=0, color='red', linestyle='--')\n",
    "plt.show()"
   ]
  },
  {
   "cell_type": "code",
   "execution_count": 0,
   "metadata": {
    "application/vnd.databricks.v1+cell": {
     "cellMetadata": {
      "byteLimit": 2048000,
      "rowLimit": 10000
     },
     "inputWidgets": {},
     "nuid": "1a23c1c6-c6e5-4fde-8952-d14774f0fd29",
     "showTitle": false,
     "tableResultSettingsMap": {},
     "title": ""
    }
   },
   "outputs": [
    {
     "output_type": "stream",
     "name": "stdout",
     "output_type": "stream",
     "text": [
      "Modelo salvo como 'modelo_precificacao_rf.pkl'\nMapeamentos salvos como 'mapeamentos_modelo.pkl'\n"
     ]
    }
   ],
   "source": [
    "import joblib\n",
    "\n",
    "# Salvar o modelo em arquivo\n",
    "joblib.dump(modelo_rf, 'modelo_precificacao_rf.pkl')\n",
    "print(\"Modelo salvo como 'modelo_precificacao_rf.pkl'\")\n",
    "\n",
    "# Salvar os mapeamentos necessários\n",
    "mapeamentos = {\n",
    "    'produtos': {'Camiseta Básica': 1, 'Calça Jeans': 2, 'Tênis Esportivo': 3, 'Moletom com Capuz': 4, 'Boné de Aba Reta': 5},\n",
    "    'sazonalidade': {'Baixa': 1, 'Média': 2, 'Alta': 3, 'Black Friday': 4}\n",
    "}\n",
    "\n",
    "joblib.dump(mapeamentos, 'mapeamentos_modelo.pkl')\n",
    "print(\"Mapeamentos salvos como 'mapeamentos_modelo.pkl'\")"
   ]
  },
  {
   "cell_type": "code",
   "execution_count": 0,
   "metadata": {
    "application/vnd.databricks.v1+cell": {
     "cellMetadata": {
      "byteLimit": 2048000,
      "rowLimit": 10000
     },
     "inputWidgets": {},
     "nuid": "cc2bc5fa-0381-426a-9f15-6533bdc20773",
     "showTitle": false,
     "tableResultSettingsMap": {},
     "title": ""
    }
   },
   "outputs": [
    {
     "output_type": "stream",
     "name": "stdout",
     "output_type": "stream",
     "text": [
      "Função salva como 'funcao_precificacao.py'\n"
     ]
    }
   ],
   "source": [
    "# Salvar função de previsão em arquivo Python\n",
    "codigo_funcao = '''\n",
    "import pandas as pd\n",
    "import joblib\n",
    "\n",
    "def prever_preco(produto, demanda, estoque, sazonalidade, mes, ano):\n",
    "    \"\"\"Função para prever preço de produtos\"\"\"\n",
    "    # Carregar modelo e mapeamentos\n",
    "    modelo = joblib.load('modelo_precificacao_rf.pkl')\n",
    "    mapeamentos = joblib.load('mapeamentos_modelo.pkl')\n",
    "    \n",
    "    # Preparar dados de entrada\n",
    "    dados_entrada = {\n",
    "        'ano': [ano],\n",
    "        'mes': [mes], \n",
    "        'produto_encoded': [mapeamentos['produtos'][produto]],\n",
    "        'demanda': [demanda],\n",
    "        'estoque': [estoque],\n",
    "        'sazonalidade_encoded': [mapeamentos['sazonalidade'][sazonalidade]],\n",
    "        'estoque_baixo': [1 if estoque < 100 else 0],\n",
    "        'demanda_alta': [1 if demanda > 200 else 0]\n",
    "    }\n",
    "    \n",
    "    df_entrada = pd.DataFrame(dados_entrada)\n",
    "    preco_previsto = modelo.predict(df_entrada)\n",
    "    \n",
    "    return round(float(preco_previsto[0]), 2)\n",
    "'''\n",
    "\n",
    "with open('funcao_precificacao.py', 'w') as f:\n",
    "    f.write(codigo_funcao)\n",
    "print(\"Função salva como 'funcao_precificacao.py'\")"
   ]
  },
  {
   "cell_type": "code",
   "execution_count": 0,
   "metadata": {
    "application/vnd.databricks.v1+cell": {
     "cellMetadata": {
      "byteLimit": 2048000,
      "rowLimit": 10000
     },
     "inputWidgets": {},
     "nuid": "16822776-4f3e-424e-a2ca-342d38cd6af2",
     "showTitle": false,
     "tableResultSettingsMap": {},
     "title": ""
    }
   },
   "outputs": [],
   "source": [
    "# Script para monitoramento periódico\n",
    "def monitorar_performance(novos_dados, novos_precos_reais):\n",
    "    \"\"\"\n",
    "    Função para monitorar performance do modelo ao longo do tempo\n",
    "    \"\"\"\n",
    "    # Fazer previsões para novos dados\n",
    "    previsoes = modelo_rf.predict(novos_dados)\n",
    "    \n",
    "    # Calcular métricas atuais\n",
    "    mae_atual = mean_absolute_error(novos_precos_reais, previsoes)\n",
    "    r2_atual = r2_score(novos_precos_reais, previsoes)\n",
    "    \n",
    "    # Comparar com baseline\n",
    "    degradacao_mae = ((mae_atual - 1.74) / 1.74) * 100  # 1.74 é o MAE original\n",
    "    \n",
    "    print(f\"MAE atual: {mae_atual:.2f} ({degradacao_mae:+.1f}% vs baseline)\")\n",
    "    print(f\"R² atual: {r2_atual:.4f}\")\n",
    "    \n",
    "    # Alertas\n",
    "    if degradacao_mae > 20:\n",
    "        print(\"ALERTA: Performance degradou significativamente\")\n",
    "    if r2_atual < 0.95:\n",
    "        print(\"ALERTA: Poder explicativo abaixo do esperado\")"
   ]
  },
  {
   "cell_type": "code",
   "execution_count": 0,
   "metadata": {
    "application/vnd.databricks.v1+cell": {
     "cellMetadata": {
      "byteLimit": 2048000,
      "rowLimit": 10000
     },
     "inputWidgets": {},
     "nuid": "bb2b539c-df1e-4f2d-a51e-479f529458ad",
     "showTitle": false,
     "tableResultSettingsMap": {},
     "title": ""
    }
   },
   "outputs": [
    {
     "output_type": "stream",
     "name": "stdout",
     "output_type": "stream",
     "text": [
      "Plano de re-treinamento definido:\nperiodicidade: trimestral\ngatilhos: ['MAE aumentar mais de 20%', 'R² cair abaixo de 0.95', 'Mudança significativa no padrão dos dados', 'Lançamento de novos produtos']\nacoes: ['Coletar novos dados', 'Re-treinar modelo', 'Validar performance', 'Substituir modelo em produção']\n"
     ]
    }
   ],
   "source": [
    "# Estratégia de re-treinamento\n",
    "plano_retreinamento = {\n",
    "    'periodicidade': 'trimestral',\n",
    "    'gatilhos': [\n",
    "        'MAE aumentar mais de 20%',\n",
    "        'R² cair abaixo de 0.95', \n",
    "        'Mudança significativa no padrão dos dados',\n",
    "        'Lançamento de novos produtos'\n",
    "    ],\n",
    "    'acoes': [\n",
    "        'Coletar novos dados',\n",
    "        'Re-treinar modelo',\n",
    "        'Validar performance',\n",
    "        'Substituir modelo em produção'\n",
    "    ]\n",
    "}\n",
    "\n",
    "print(\"Plano de re-treinamento definido:\")\n",
    "for key, value in plano_retreinamento.items():\n",
    "    print(f\"{key}: {value}\")"
   ]
  },
  {
   "cell_type": "code",
   "execution_count": 0,
   "metadata": {
    "application/vnd.databricks.v1+cell": {
     "cellMetadata": {
      "byteLimit": 2048000,
      "rowLimit": 10000
     },
     "inputWidgets": {},
     "nuid": "79db9d77-e917-401a-a63d-7d666598dcc2",
     "showTitle": false,
     "tableResultSettingsMap": {},
     "title": ""
    }
   },
   "outputs": [
    {
     "output_type": "stream",
     "name": "stdout",
     "output_type": "stream",
     "text": [
      "Collecting openpyxl\n  Downloading openpyxl-3.1.5-py2.py3-none-any.whl.metadata (2.5 kB)\nCollecting et-xmlfile (from openpyxl)\n  Downloading et_xmlfile-2.0.0-py3-none-any.whl.metadata (2.7 kB)\nDownloading openpyxl-3.1.5-py2.py3-none-any.whl (250 kB)\nDownloading et_xmlfile-2.0.0-py3-none-any.whl (18 kB)\nInstalling collected packages: et-xmlfile, openpyxl\nSuccessfully installed et-xmlfile-2.0.0 openpyxl-3.1.5\n\u001B[43mNote: you may need to restart the kernel using %restart_python or dbutils.library.restartPython() to use updated packages.\u001B[0m\n"
     ]
    }
   ],
   "source": [
    "# Instalar a biblioteca para trabalhar com Excel\n",
    "%pip install openpyxl"
   ]
  },
  {
   "cell_type": "code",
   "execution_count": 0,
   "metadata": {
    "application/vnd.databricks.v1+cell": {
     "cellMetadata": {
      "byteLimit": 2048000,
      "rowLimit": 10000
     },
     "inputWidgets": {},
     "nuid": "9efda217-0b6d-465e-bbe0-b88c4607dcf2",
     "showTitle": false,
     "tableResultSettingsMap": {},
     "title": ""
    }
   },
   "outputs": [
    {
     "output_type": "stream",
     "name": "stdout",
     "output_type": "stream",
     "text": [
      "\u001B[43mWarning: statements after `dbutils.library.restartPython()` will execute before Python is restarted.\u001B[0m\nKernel Python reiniciado - bibliotecas disponíveis\n"
     ]
    }
   ],
   "source": [
    "# Reiniciar o kernel Python para carregar as novas bibliotecas\n",
    "dbutils.library.restartPython()\n",
    "print(\"Kernel Python reiniciado - bibliotecas disponíveis\")"
   ]
  },
  {
   "cell_type": "code",
   "execution_count": 0,
   "metadata": {
    "application/vnd.databricks.v1+cell": {
     "cellMetadata": {
      "byteLimit": 2048000,
      "rowLimit": 10000
     },
     "inputWidgets": {},
     "nuid": "971aba5e-0a7b-4368-9b36-210c483cc892",
     "showTitle": false,
     "tableResultSettingsMap": {},
     "title": ""
    }
   },
   "outputs": [
    {
     "output_type": "stream",
     "name": "stdout",
     "output_type": "stream",
     "text": [
      "Função prever_preco recriada com sucesso\n"
     ]
    }
   ],
   "source": [
    "# Recriar a função prever_preco (versão completa)\n",
    "def prever_preco(produto, demanda, estoque, sazonalidade, mes, ano):\n",
    "    # Mapeamentos\n",
    "    mapa_produtos = {\n",
    "        'Camiseta Básica': 1, \n",
    "        'Calça Jeans': 2, \n",
    "        'Tênis Esportivo': 3, \n",
    "        'Moletom com Capuz': 4, \n",
    "        'Boné de Aba Reta': 5\n",
    "    }\n",
    "    \n",
    "    mapa_sazonalidade = {\n",
    "        'Baixa': 1, \n",
    "        'Média': 2, \n",
    "        'Alta': 3, \n",
    "        'Black Friday': 4\n",
    "    }\n",
    "    \n",
    "    # Preparar dados\n",
    "    dados_entrada = {\n",
    "        'ano': [ano],\n",
    "        'mes': [mes], \n",
    "        'produto_encoded': [mapa_produtos[produto]],\n",
    "        'demanda': [demanda],\n",
    "        'estoque': [estoque],\n",
    "        'sazonalidade_encoded': [mapa_sazonalidade[sazonalidade]],\n",
    "        'estoque_baixo': [1 if estoque < 100 else 0],\n",
    "        'demanda_alta': [1 if demanda > 200 else 0]\n",
    "    }\n",
    "    \n",
    "    df_entrada = pd.DataFrame(dados_entrada)\n",
    "    preco_previsto = modelo_rf.predict(df_entrada)\n",
    "    \n",
    "    return round(float(preco_previsto[0]), 2)\n",
    "\n",
    "print(\"Função prever_preco recriada com sucesso\")"
   ]
  },
  {
   "cell_type": "code",
   "execution_count": 0,
   "metadata": {
    "application/vnd.databricks.v1+cell": {
     "cellMetadata": {
      "byteLimit": 2048000,
      "rowLimit": 10000
     },
     "inputWidgets": {},
     "nuid": "b5fe009d-944d-47b6-994d-b8b261a59ef8",
     "showTitle": false,
     "tableResultSettingsMap": {},
     "title": ""
    }
   },
   "outputs": [
    {
     "output_type": "stream",
     "name": "stderr",
     "output_type": "stream",
     "text": [
      "Exception ignored on calling ctypes callback function: <function _ThreadpoolInfo._find_modules_with_dl_iterate_phdr.<locals>.match_module_callback at 0xff18cb6deac0>\nTraceback (most recent call last):\n  File \"/databricks/python/lib/python3.12/site-packages/threadpoolctl.py\", line 400, in match_module_callback\n    self._make_module_from_path(filepath)\n  File \"/databricks/python/lib/python3.12/site-packages/threadpoolctl.py\", line 515, in _make_module_from_path\n    module = module_class(filepath, prefix, user_api, internal_api)\n             ^^^^^^^^^^^^^^^^^^^^^^^^^^^^^^^^^^^^^^^^^^^^^^^^^^^^^^\n  File \"/databricks/python/lib/python3.12/site-packages/threadpoolctl.py\", line 606, in __init__\n    self.version = self.get_version()\n                   ^^^^^^^^^^^^^^^^^^\n  File \"/databricks/python/lib/python3.12/site-packages/threadpoolctl.py\", line 646, in get_version\n    config = get_config().split()\n             ^^^^^^^^^^^^^^^^^^\nAttributeError: 'NoneType' object has no attribute 'split'\n"
     ]
    },
    {
     "output_type": "stream",
     "name": "stdout",
     "output_type": "stream",
     "text": [
      "Modelo rf recriado e treinado com sucesso\n"
     ]
    }
   ],
   "source": [
    "# Recarregar modelo e variáveis necessárias\n",
    "import pandas as pd\n",
    "from sklearn.ensemble import RandomForestRegressor\n",
    "\n",
    "# Recarregar dados\n",
    "gold_df = spark.table(\"precificacao.db_precificacao.base_precificacao_gold\")\n",
    "pandas_df = gold_df.toPandas()\n",
    "\n",
    "# Recriar modelo (usando mesmos parâmetros)\n",
    "modelo_rf = RandomForestRegressor(n_estimators=100, random_state=42, max_depth=5)\n",
    "\n",
    "# Features e target\n",
    "features_seguras = ['ano', 'mes', 'produto_encoded', 'demanda', 'estoque', 'sazonalidade_encoded', 'estoque_baixo', 'demanda_alta']\n",
    "X = pandas_df[features_seguras]\n",
    "y = pandas_df['preco_atual']\n",
    "\n",
    "# Treinar modelo\n",
    "modelo_rf.fit(X, y)\n",
    "\n",
    "print(\"Modelo rf recriado e treinado com sucesso\")"
   ]
  },
  {
   "cell_type": "code",
   "execution_count": 0,
   "metadata": {
    "application/vnd.databricks.v1+cell": {
     "cellMetadata": {
      "byteLimit": 2048000,
      "rowLimit": 10000
     },
     "inputWidgets": {},
     "nuid": "13caac8a-145b-41de-8289-bef3a230a98a",
     "showTitle": false,
     "tableResultSettingsMap": {},
     "title": ""
    }
   },
   "outputs": [
    {
     "output_type": "stream",
     "name": "stdout",
     "output_type": "stream",
     "text": [
      "Previsões reais geradas com sucesso\n"
     ]
    },
    {
     "output_type": "display_data",
     "data": {
      "text/html": [
       "<style scoped>\n",
       "  .table-result-container {\n",
       "    max-height: 300px;\n",
       "    overflow: auto;\n",
       "  }\n",
       "  table, th, td {\n",
       "    border: 1px solid black;\n",
       "    border-collapse: collapse;\n",
       "  }\n",
       "  th, td {\n",
       "    padding: 5px;\n",
       "  }\n",
       "  th {\n",
       "    text-align: left;\n",
       "  }\n",
       "</style><div class='table-result-container'><table class='table-result'><thead style='background-color: white'><tr><th>produto</th><th>demanda</th><th>estoque</th><th>sazonalidade</th><th>mes</th><th>ano</th><th>preco_sugerido</th><th>data_previsao</th></tr></thead><tbody><tr><td>Camiseta Básica</td><td>250</td><td>80</td><td>Alta</td><td>12</td><td>2024</td><td>55.99</td><td>2025-09-05T19:21:29.331Z</td></tr><tr><td>Calça Jeans</td><td>180</td><td>150</td><td>Média</td><td>6</td><td>2024</td><td>155.39</td><td>2025-09-05T19:21:29.335Z</td></tr><tr><td>Tênis Esportivo</td><td>220</td><td>90</td><td>Black Friday</td><td>11</td><td>2024</td><td>296.03</td><td>2025-09-05T19:21:29.340Z</td></tr></tbody></table></div>"
      ]
     },
     "metadata": {
      "application/vnd.databricks.v1+output": {
       "addedWidgets": {},
       "aggData": [],
       "aggError": "",
       "aggOverflow": false,
       "aggSchema": [],
       "aggSeriesLimitReached": false,
       "aggType": "",
       "arguments": {},
       "columnCustomDisplayInfos": {},
       "data": [
        [
         "Camiseta Básica",
         250,
         80,
         "Alta",
         12,
         2024,
         55.99,
         "2025-09-05T19:21:29.331Z"
        ],
        [
         "Calça Jeans",
         180,
         150,
         "Média",
         6,
         2024,
         155.39,
         "2025-09-05T19:21:29.335Z"
        ],
        [
         "Tênis Esportivo",
         220,
         90,
         "Black Friday",
         11,
         2024,
         296.03,
         "2025-09-05T19:21:29.340Z"
        ]
       ],
       "datasetInfos": [],
       "dbfsResultPath": null,
       "isJsonSchema": true,
       "metadata": {},
       "overflow": false,
       "plotOptions": {
        "customPlotOptions": {},
        "displayType": "table",
        "pivotAggregation": null,
        "pivotColumns": null,
        "xColumns": null,
        "yColumns": null
       },
       "removedWidgets": [],
       "schema": [
        {
         "metadata": "{}",
         "name": "produto",
         "type": "\"string\""
        },
        {
         "metadata": "{}",
         "name": "demanda",
         "type": "\"long\""
        },
        {
         "metadata": "{}",
         "name": "estoque",
         "type": "\"long\""
        },
        {
         "metadata": "{}",
         "name": "sazonalidade",
         "type": "\"string\""
        },
        {
         "metadata": "{}",
         "name": "mes",
         "type": "\"long\""
        },
        {
         "metadata": "{}",
         "name": "ano",
         "type": "\"long\""
        },
        {
         "metadata": "{}",
         "name": "preco_sugerido",
         "type": "\"double\""
        },
        {
         "metadata": "{}",
         "name": "data_previsao",
         "type": "\"timestamp\""
        }
       ],
       "type": "table"
      }
     },
     "output_type": "display_data"
    }
   ],
   "source": [
    "# Criar previsões REAIS com seu modelo\n",
    "import pandas as pd\n",
    "from datetime import datetime\n",
    "\n",
    "# Dados NOVOS para previsão (exemplos)\n",
    "novos_dados = [\n",
    "    {'produto': 'Camiseta Básica', 'demanda': 250, 'estoque': 80, 'sazonalidade': 'Alta', 'mes': 12, 'ano': 2024},\n",
    "    {'produto': 'Calça Jeans', 'demanda': 180, 'estoque': 150, 'sazonalidade': 'Média', 'mes': 6, 'ano': 2024},\n",
    "    {'produto': 'Tênis Esportivo', 'demanda': 220, 'estoque': 90, 'sazonalidade': 'Black Friday', 'mes': 11, 'ano': 2024}\n",
    "]\n",
    "\n",
    "# Fazer previsões REAIS\n",
    "previsoes_reais = []\n",
    "for dado in novos_dados:\n",
    "    preco_previsto = prever_preco(\n",
    "        produto=dado['produto'],\n",
    "        demanda=dado['demanda'],\n",
    "        estoque=dado['estoque'],\n",
    "        sazonalidade=dado['sazonalidade'],\n",
    "        mes=dado['mes'],\n",
    "        ano=dado['ano']\n",
    "    )\n",
    "    \n",
    "    previsoes_reais.append({\n",
    "        'produto': dado['produto'],\n",
    "        'demanda': dado['demanda'],\n",
    "        'estoque': dado['estoque'],\n",
    "        'sazonalidade': dado['sazonalidade'],\n",
    "        'mes': dado['mes'],\n",
    "        'ano': dado['ano'],\n",
    "        'preco_sugerido': preco_previsto,\n",
    "        'data_previsao': datetime.now()\n",
    "    })\n",
    "\n",
    "# Criar DataFrame com previsões REAIS\n",
    "previsoes_df = pd.DataFrame(previsoes_reais)\n",
    "print(\"Previsões reais geradas com sucesso\")\n",
    "display(previsoes_df)"
   ]
  },
  {
   "cell_type": "code",
   "execution_count": 0,
   "metadata": {
    "application/vnd.databricks.v1+cell": {
     "cellMetadata": {
      "byteLimit": 2048000,
      "rowLimit": 10000
     },
     "inputWidgets": {},
     "nuid": "0ca98dcc-23e0-4978-b700-4a2d5028db3a",
     "showTitle": false,
     "tableResultSettingsMap": {},
     "title": ""
    }
   },
   "outputs": [
    {
     "output_type": "stream",
     "name": "stdout",
     "output_type": "stream",
     "text": [
      "Arquivo 'precificacoes_sugeridas.xlsx' exportado com sucesso\nDados exportados:\n"
     ]
    },
    {
     "output_type": "display_data",
     "data": {
      "text/html": [
       "<style scoped>\n",
       "  .table-result-container {\n",
       "    max-height: 300px;\n",
       "    overflow: auto;\n",
       "  }\n",
       "  table, th, td {\n",
       "    border: 1px solid black;\n",
       "    border-collapse: collapse;\n",
       "  }\n",
       "  th, td {\n",
       "    padding: 5px;\n",
       "  }\n",
       "  th {\n",
       "    text-align: left;\n",
       "  }\n",
       "</style><div class='table-result-container'><table class='table-result'><thead style='background-color: white'><tr><th>produto</th><th>demanda</th><th>estoque</th><th>sazonalidade</th><th>mes</th><th>ano</th><th>preco_sugerido</th><th>data_previsao</th></tr></thead><tbody><tr><td>Camiseta Básica</td><td>250</td><td>80</td><td>Alta</td><td>12</td><td>2024</td><td>55.99</td><td>2025-09-05T19:21:29.331Z</td></tr><tr><td>Calça Jeans</td><td>180</td><td>150</td><td>Média</td><td>6</td><td>2024</td><td>155.39</td><td>2025-09-05T19:21:29.335Z</td></tr><tr><td>Tênis Esportivo</td><td>220</td><td>90</td><td>Black Friday</td><td>11</td><td>2024</td><td>296.03</td><td>2025-09-05T19:21:29.340Z</td></tr></tbody></table></div>"
      ]
     },
     "metadata": {
      "application/vnd.databricks.v1+output": {
       "addedWidgets": {},
       "aggData": [],
       "aggError": "",
       "aggOverflow": false,
       "aggSchema": [],
       "aggSeriesLimitReached": false,
       "aggType": "",
       "arguments": {},
       "columnCustomDisplayInfos": {},
       "data": [
        [
         "Camiseta Básica",
         250,
         80,
         "Alta",
         12,
         2024,
         55.99,
         "2025-09-05T19:21:29.331Z"
        ],
        [
         "Calça Jeans",
         180,
         150,
         "Média",
         6,
         2024,
         155.39,
         "2025-09-05T19:21:29.335Z"
        ],
        [
         "Tênis Esportivo",
         220,
         90,
         "Black Friday",
         11,
         2024,
         296.03,
         "2025-09-05T19:21:29.340Z"
        ]
       ],
       "datasetInfos": [],
       "dbfsResultPath": null,
       "isJsonSchema": true,
       "metadata": {},
       "overflow": false,
       "plotOptions": {
        "customPlotOptions": {},
        "displayType": "table",
        "pivotAggregation": null,
        "pivotColumns": null,
        "xColumns": null,
        "yColumns": null
       },
       "removedWidgets": [],
       "schema": [
        {
         "metadata": "{}",
         "name": "produto",
         "type": "\"string\""
        },
        {
         "metadata": "{}",
         "name": "demanda",
         "type": "\"long\""
        },
        {
         "metadata": "{}",
         "name": "estoque",
         "type": "\"long\""
        },
        {
         "metadata": "{}",
         "name": "sazonalidade",
         "type": "\"string\""
        },
        {
         "metadata": "{}",
         "name": "mes",
         "type": "\"long\""
        },
        {
         "metadata": "{}",
         "name": "ano",
         "type": "\"long\""
        },
        {
         "metadata": "{}",
         "name": "preco_sugerido",
         "type": "\"double\""
        },
        {
         "metadata": "{}",
         "name": "data_previsao",
         "type": "\"timestamp\""
        }
       ],
       "type": "table"
      }
     },
     "output_type": "display_data"
    }
   ],
   "source": [
    "# Converter a lista para DataFrame antes de exportar\n",
    "previsoes_df = pd.DataFrame(previsoes_reais)\n",
    "\n",
    "# Exportar para Excel\n",
    "previsoes_df.to_excel('precificacoes_sugeridas.xlsx', index=False, engine='openpyxl')\n",
    "print(\"Arquivo 'precificacoes_sugeridas.xlsx' exportado com sucesso\")\n",
    "\n",
    "# Mostrar preview dos dados exportados\n",
    "print(\"Dados exportados:\")\n",
    "display(previsoes_df)"
   ]
  },
  {
   "cell_type": "code",
   "execution_count": 0,
   "metadata": {
    "application/vnd.databricks.v1+cell": {
     "cellMetadata": {
      "byteLimit": 2048000,
      "rowLimit": 10000
     },
     "inputWidgets": {},
     "nuid": "baad095c-c921-4a63-9013-fb806ef934ec",
     "showTitle": false,
     "tableResultSettingsMap": {},
     "title": ""
    }
   },
   "outputs": [
    {
     "output_type": "stream",
     "name": "stdout",
     "output_type": "stream",
     "text": [
      "Arquivo Excel criado com sucesso!\nCaminho: /Workspace/projeto_precificacao/precificacoes_sugeridas.xlsx\nTamanho: 5294 bytes\n\nConteúdo do arquivo:\n"
     ]
    },
    {
     "output_type": "display_data",
     "data": {
      "text/html": [
       "<style scoped>\n",
       "  .table-result-container {\n",
       "    max-height: 300px;\n",
       "    overflow: auto;\n",
       "  }\n",
       "  table, th, td {\n",
       "    border: 1px solid black;\n",
       "    border-collapse: collapse;\n",
       "  }\n",
       "  th, td {\n",
       "    padding: 5px;\n",
       "  }\n",
       "  th {\n",
       "    text-align: left;\n",
       "  }\n",
       "</style><div class='table-result-container'><table class='table-result'><thead style='background-color: white'><tr><th>produto</th><th>demanda</th><th>estoque</th><th>sazonalidade</th><th>mes</th><th>ano</th><th>preco_sugerido</th><th>data_previsao</th></tr></thead><tbody><tr><td>Camiseta Básica</td><td>250</td><td>80</td><td>Alta</td><td>12</td><td>2024</td><td>55.99</td><td>2025-09-05T19:21:29.332Z</td></tr><tr><td>Calça Jeans</td><td>180</td><td>150</td><td>Média</td><td>6</td><td>2024</td><td>155.39</td><td>2025-09-05T19:21:29.336Z</td></tr><tr><td>Tênis Esportivo</td><td>220</td><td>90</td><td>Black Friday</td><td>11</td><td>2024</td><td>296.03</td><td>2025-09-05T19:21:29.340Z</td></tr></tbody></table></div>"
      ]
     },
     "metadata": {
      "application/vnd.databricks.v1+output": {
       "addedWidgets": {},
       "aggData": [],
       "aggError": "",
       "aggOverflow": false,
       "aggSchema": [],
       "aggSeriesLimitReached": false,
       "aggType": "",
       "arguments": {},
       "columnCustomDisplayInfos": {},
       "data": [
        [
         "Camiseta Básica",
         250,
         80,
         "Alta",
         12,
         2024,
         55.99,
         "2025-09-05T19:21:29.332Z"
        ],
        [
         "Calça Jeans",
         180,
         150,
         "Média",
         6,
         2024,
         155.39,
         "2025-09-05T19:21:29.336Z"
        ],
        [
         "Tênis Esportivo",
         220,
         90,
         "Black Friday",
         11,
         2024,
         296.03,
         "2025-09-05T19:21:29.340Z"
        ]
       ],
       "datasetInfos": [],
       "dbfsResultPath": null,
       "isJsonSchema": true,
       "metadata": {},
       "overflow": false,
       "plotOptions": {
        "customPlotOptions": {},
        "displayType": "table",
        "pivotAggregation": null,
        "pivotColumns": null,
        "xColumns": null,
        "yColumns": null
       },
       "removedWidgets": [],
       "schema": [
        {
         "metadata": "{}",
         "name": "produto",
         "type": "\"string\""
        },
        {
         "metadata": "{}",
         "name": "demanda",
         "type": "\"long\""
        },
        {
         "metadata": "{}",
         "name": "estoque",
         "type": "\"long\""
        },
        {
         "metadata": "{}",
         "name": "sazonalidade",
         "type": "\"string\""
        },
        {
         "metadata": "{}",
         "name": "mes",
         "type": "\"long\""
        },
        {
         "metadata": "{}",
         "name": "ano",
         "type": "\"long\""
        },
        {
         "metadata": "{}",
         "name": "preco_sugerido",
         "type": "\"double\""
        },
        {
         "metadata": "{}",
         "name": "data_previsao",
         "type": "\"timestamp\""
        }
       ],
       "type": "table"
      }
     },
     "output_type": "display_data"
    }
   ],
   "source": [
    "# VERIFICAR se o arquivo Excel foi criado\n",
    "import os\n",
    "\n",
    "if os.path.exists('precificacoes_sugeridas.xlsx'):\n",
    "    print(\"Arquivo Excel criado com sucesso!\")\n",
    "    print(f\"Caminho: {os.path.abspath('precificacoes_sugeridas.xlsx')}\")\n",
    "    print(f\"Tamanho: {os.path.getsize('precificacoes_sugeridas.xlsx')} bytes\")\n",
    "    \n",
    "    # Opcional: ler e mostrar o conteúdo para confirmar\n",
    "    df_verificado = pd.read_excel('precificacoes_sugeridas.xlsx', engine='openpyxl')\n",
    "    print(\"\\nConteúdo do arquivo:\")\n",
    "    display(df_verificado)\n",
    "    \n",
    "else:\n",
    "    print(\"Arquivo não foi criado - verifique possíveis erros\")"
   ]
  }
 ],
 "metadata": {
  "application/vnd.databricks.v1+notebook": {
   "computePreferences": null,
   "dashboards": [],
   "environmentMetadata": {
    "base_environment": "",
    "environment_version": "3"
   },
   "inputWidgetPreferences": null,
   "language": "python",
   "notebookMetadata": {
    "mostRecentlyExecutedCommandWithImplicitDF": {
     "commandId": 8153568432390030,
     "dataframes": [
      "_sqldf"
     ]
    },
    "pythonIndentUnit": 4
   },
   "notebookName": "01_Carga_de_Dados",
   "widgets": {}
  },
  "language_info": {
   "name": "python"
  }
 },
 "nbformat": 4,
 "nbformat_minor": 0
}